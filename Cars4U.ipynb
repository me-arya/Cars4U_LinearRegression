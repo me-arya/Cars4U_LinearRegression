{
 "cells": [
  {
   "cell_type": "markdown",
   "metadata": {},
   "source": [
    "----------------------------------\n",
    "# Cars4U Project : Pricing model for effectively predicting the price of used cars | **Linear Regression**\n",
    "----------------------------------"
   ]
  },
  {
   "cell_type": "markdown",
   "metadata": {},
   "source": [
    "## Context: \n",
    "\n",
    "- There is a huge demand for used cars in the Indian Market today. As sales of new cars have slowed down in the recent past, the pre-owned car market has continued to grow over the past years and is larger than the new car market now. Cars4U is a budding tech start-up that aims to find footholes in this market.\n",
    "\n",
    "- Unlike new cars, where price and supply are fairly deterministic and managed by OEMs (Original Equipment Manufacturer / except for dealership level discounts which come into play only in the last stage of the customer journey), used cars are very different beasts with huge uncertainty in both pricing and supply. Keeping this in mind, the pricing scheme of these used cars becomes important in order to grow in the market.\n"
   ]
  },
  {
   "cell_type": "markdown",
   "metadata": {},
   "source": [
    "## Problem Statement / Requirement:\n",
    "\n",
    "**We need to to come up with a pricing model that can effectively predict the price of used cars and can help the business in devising profitable strategies using differential pricing.**\n",
    "\n",
    "- This can give an strategical advantange for the business and ascertain the buying-selling price for the old car.\n",
    "- To draw the customer insights and prefernce geographically.\n",
    "- Aid to the target advertisemnet for the potential customers.\n",
    "\n",
    "\n",
    "**Steps :**\n",
    "\n",
    "- Explore and visualize the dataset.\n",
    "- Build a linear regression model to predict the prices of used cars.\n",
    "- Generate a set of insights and recommendations that will help the business."
   ]
  },
  {
   "cell_type": "markdown",
   "metadata": {},
   "source": [
    "## Data Dictionary :\n",
    "\n",
    "- S.No. : Serial Number\n",
    "- Name : Name of the car which includes Brand name and Model name\n",
    "- Location : The location in which the car is being sold or is available for purchase Cities- \n",
    "- Year : Manufacturing year of the car\n",
    "- Kilometers_driven : The total kilometers driven in the car by the previous owner(s) in KM.\n",
    "- Fuel_Type : The type of fuel used by the car. (Petrol, Diesel, Electric, CNG, LPG)\n",
    "- Transmission : The type of transmission used by the car. (Automatic / Manual)\n",
    "- Owner : Type of ownership\n",
    "- Mileage : The standard mileage offered by the car company in kmpl or km/kg\n",
    "- Engine : The displacement volume of the engine in CC.\n",
    "- Power : The maximum power of the engine in bhp.\n",
    "- Seats : The number of seats in the car.\n",
    "- New_Price : The price of a new car of the same model in INR Lakhs.(1 Lakh = 100, 000)\n",
    "- Price : The price of the used car in INR Lakhs (1 Lakh = 100, 000)"
   ]
  },
  {
   "cell_type": "markdown",
   "metadata": {},
   "source": [
    "## Exploratory Data Analysis"
   ]
  },
  {
   "cell_type": "markdown",
   "metadata": {},
   "source": [
    "**Importing necessary libraries**"
   ]
  },
  {
   "cell_type": "code",
   "execution_count": 1,
   "metadata": {},
   "outputs": [],
   "source": [
    "import numpy as np\n",
    "import pandas as pd\n",
    "import matplotlib.pyplot as plt\n",
    "import seaborn as sns\n",
    "# To enable plotting graphs in Jupyter notebook\n",
    "%matplotlib inline\n",
    "sns.set(color_codes=True) # adds a nice background to the graphs\n",
    "\n",
    "from datetime import datetime\n",
    "\n",
    "import warnings\n",
    "warnings.filterwarnings(\"ignore\")\n",
    "\n",
    "from sklearn.preprocessing import StandardScaler, MinMaxScaler\n",
    "\n",
    "#splitting data into test and training set\n",
    "from sklearn.model_selection import train_test_split\n",
    "\n",
    "# To create linear regression model\n",
    "from sklearn.linear_model import LinearRegression\n",
    "\n",
    "from sklearn.preprocessing import PolynomialFeatures\n",
    "\n",
    "from sklearn import linear_model\n",
    "\n",
    "# To check model performance\n",
    "from sklearn.metrics import mean_absolute_error, mean_squared_error, r2_score\n",
    "\n",
    "from statsmodels.stats.outliers_influence import variance_inflation_factor #for Multi-Collinearlity checks"
   ]
  },
  {
   "cell_type": "markdown",
   "metadata": {},
   "source": [
    "### Load and explore the data"
   ]
  },
  {
   "cell_type": "code",
   "execution_count": 2,
   "metadata": {},
   "outputs": [],
   "source": [
    "# Load the data into pandas dataframe\n",
    "\n",
    "data = pd.read_csv(\"used_cars_data.csv\")"
   ]
  },
  {
   "cell_type": "markdown",
   "metadata": {},
   "source": [
    "### Overview of the data"
   ]
  },
  {
   "cell_type": "code",
   "execution_count": 3,
   "metadata": {},
   "outputs": [
    {
     "data": {
      "text/html": [
       "<div>\n",
       "<style scoped>\n",
       "    .dataframe tbody tr th:only-of-type {\n",
       "        vertical-align: middle;\n",
       "    }\n",
       "\n",
       "    .dataframe tbody tr th {\n",
       "        vertical-align: top;\n",
       "    }\n",
       "\n",
       "    .dataframe thead th {\n",
       "        text-align: right;\n",
       "    }\n",
       "</style>\n",
       "<table border=\"1\" class=\"dataframe\">\n",
       "  <thead>\n",
       "    <tr style=\"text-align: right;\">\n",
       "      <th></th>\n",
       "      <th>S.No.</th>\n",
       "      <th>Name</th>\n",
       "      <th>Location</th>\n",
       "      <th>Year</th>\n",
       "      <th>Kilometers_Driven</th>\n",
       "      <th>Fuel_Type</th>\n",
       "      <th>Transmission</th>\n",
       "      <th>Owner_Type</th>\n",
       "      <th>Mileage</th>\n",
       "      <th>Engine</th>\n",
       "      <th>Power</th>\n",
       "      <th>Seats</th>\n",
       "      <th>New_Price</th>\n",
       "      <th>Price</th>\n",
       "    </tr>\n",
       "  </thead>\n",
       "  <tbody>\n",
       "    <tr>\n",
       "      <th>0</th>\n",
       "      <td>0</td>\n",
       "      <td>Maruti Wagon R LXI CNG</td>\n",
       "      <td>Mumbai</td>\n",
       "      <td>2010</td>\n",
       "      <td>72000</td>\n",
       "      <td>CNG</td>\n",
       "      <td>Manual</td>\n",
       "      <td>First</td>\n",
       "      <td>26.6 km/kg</td>\n",
       "      <td>998 CC</td>\n",
       "      <td>58.16 bhp</td>\n",
       "      <td>5.0</td>\n",
       "      <td>NaN</td>\n",
       "      <td>1.75</td>\n",
       "    </tr>\n",
       "    <tr>\n",
       "      <th>1</th>\n",
       "      <td>1</td>\n",
       "      <td>Hyundai Creta 1.6 CRDi SX Option</td>\n",
       "      <td>Pune</td>\n",
       "      <td>2015</td>\n",
       "      <td>41000</td>\n",
       "      <td>Diesel</td>\n",
       "      <td>Manual</td>\n",
       "      <td>First</td>\n",
       "      <td>19.67 kmpl</td>\n",
       "      <td>1582 CC</td>\n",
       "      <td>126.2 bhp</td>\n",
       "      <td>5.0</td>\n",
       "      <td>NaN</td>\n",
       "      <td>12.50</td>\n",
       "    </tr>\n",
       "    <tr>\n",
       "      <th>2</th>\n",
       "      <td>2</td>\n",
       "      <td>Honda Jazz V</td>\n",
       "      <td>Chennai</td>\n",
       "      <td>2011</td>\n",
       "      <td>46000</td>\n",
       "      <td>Petrol</td>\n",
       "      <td>Manual</td>\n",
       "      <td>First</td>\n",
       "      <td>18.2 kmpl</td>\n",
       "      <td>1199 CC</td>\n",
       "      <td>88.7 bhp</td>\n",
       "      <td>5.0</td>\n",
       "      <td>8.61 Lakh</td>\n",
       "      <td>4.50</td>\n",
       "    </tr>\n",
       "    <tr>\n",
       "      <th>3</th>\n",
       "      <td>3</td>\n",
       "      <td>Maruti Ertiga VDI</td>\n",
       "      <td>Chennai</td>\n",
       "      <td>2012</td>\n",
       "      <td>87000</td>\n",
       "      <td>Diesel</td>\n",
       "      <td>Manual</td>\n",
       "      <td>First</td>\n",
       "      <td>20.77 kmpl</td>\n",
       "      <td>1248 CC</td>\n",
       "      <td>88.76 bhp</td>\n",
       "      <td>7.0</td>\n",
       "      <td>NaN</td>\n",
       "      <td>6.00</td>\n",
       "    </tr>\n",
       "    <tr>\n",
       "      <th>4</th>\n",
       "      <td>4</td>\n",
       "      <td>Audi A4 New 2.0 TDI Multitronic</td>\n",
       "      <td>Coimbatore</td>\n",
       "      <td>2013</td>\n",
       "      <td>40670</td>\n",
       "      <td>Diesel</td>\n",
       "      <td>Automatic</td>\n",
       "      <td>Second</td>\n",
       "      <td>15.2 kmpl</td>\n",
       "      <td>1968 CC</td>\n",
       "      <td>140.8 bhp</td>\n",
       "      <td>5.0</td>\n",
       "      <td>NaN</td>\n",
       "      <td>17.74</td>\n",
       "    </tr>\n",
       "  </tbody>\n",
       "</table>\n",
       "</div>"
      ],
      "text/plain": [
       "   S.No.                              Name    Location  Year  \\\n",
       "0      0            Maruti Wagon R LXI CNG      Mumbai  2010   \n",
       "1      1  Hyundai Creta 1.6 CRDi SX Option        Pune  2015   \n",
       "2      2                      Honda Jazz V     Chennai  2011   \n",
       "3      3                 Maruti Ertiga VDI     Chennai  2012   \n",
       "4      4   Audi A4 New 2.0 TDI Multitronic  Coimbatore  2013   \n",
       "\n",
       "   Kilometers_Driven Fuel_Type Transmission Owner_Type     Mileage   Engine  \\\n",
       "0              72000       CNG       Manual      First  26.6 km/kg   998 CC   \n",
       "1              41000    Diesel       Manual      First  19.67 kmpl  1582 CC   \n",
       "2              46000    Petrol       Manual      First   18.2 kmpl  1199 CC   \n",
       "3              87000    Diesel       Manual      First  20.77 kmpl  1248 CC   \n",
       "4              40670    Diesel    Automatic     Second   15.2 kmpl  1968 CC   \n",
       "\n",
       "       Power  Seats  New_Price  Price  \n",
       "0  58.16 bhp    5.0        NaN   1.75  \n",
       "1  126.2 bhp    5.0        NaN  12.50  \n",
       "2   88.7 bhp    5.0  8.61 Lakh   4.50  \n",
       "3  88.76 bhp    7.0        NaN   6.00  \n",
       "4  140.8 bhp    5.0        NaN  17.74  "
      ]
     },
     "execution_count": 3,
     "metadata": {},
     "output_type": "execute_result"
    }
   ],
   "source": [
    "# let us make another copy of data\n",
    "df = data.copy()\n",
    "df.head()"
   ]
  },
  {
   "cell_type": "markdown",
   "metadata": {},
   "source": [
    "### Check number of rows and columns"
   ]
  },
  {
   "cell_type": "code",
   "execution_count": 4,
   "metadata": {},
   "outputs": [
    {
     "data": {
      "text/plain": [
       "(7253, 14)"
      ]
     },
     "execution_count": 4,
     "metadata": {},
     "output_type": "execute_result"
    }
   ],
   "source": [
    "df.shape"
   ]
  },
  {
   "cell_type": "code",
   "execution_count": 5,
   "metadata": {},
   "outputs": [
    {
     "data": {
      "text/plain": [
       "Index(['S.No.', 'Name', 'Location', 'Year', 'Kilometers_Driven', 'Fuel_Type',\n",
       "       'Transmission', 'Owner_Type', 'Mileage', 'Engine', 'Power', 'Seats',\n",
       "       'New_Price', 'Price'],\n",
       "      dtype='object')"
      ]
     },
     "execution_count": 5,
     "metadata": {},
     "output_type": "execute_result"
    }
   ],
   "source": [
    "df.columns #columns name"
   ]
  },
  {
   "cell_type": "code",
   "execution_count": 6,
   "metadata": {},
   "outputs": [
    {
     "name": "stdout",
     "output_type": "stream",
     "text": [
      "<class 'pandas.core.frame.DataFrame'>\n",
      "RangeIndex: 7253 entries, 0 to 7252\n",
      "Data columns (total 14 columns):\n",
      " #   Column             Non-Null Count  Dtype  \n",
      "---  ------             --------------  -----  \n",
      " 0   S.No.              7253 non-null   int64  \n",
      " 1   Name               7253 non-null   object \n",
      " 2   Location           7253 non-null   object \n",
      " 3   Year               7253 non-null   int64  \n",
      " 4   Kilometers_Driven  7253 non-null   int64  \n",
      " 5   Fuel_Type          7253 non-null   object \n",
      " 6   Transmission       7253 non-null   object \n",
      " 7   Owner_Type         7253 non-null   object \n",
      " 8   Mileage            7251 non-null   object \n",
      " 9   Engine             7207 non-null   object \n",
      " 10  Power              7207 non-null   object \n",
      " 11  Seats              7200 non-null   float64\n",
      " 12  New_Price          1006 non-null   object \n",
      " 13  Price              6019 non-null   float64\n",
      "dtypes: float64(2), int64(3), object(9)\n",
      "memory usage: 793.4+ KB\n"
     ]
    }
   ],
   "source": [
    "df.info()"
   ]
  },
  {
   "cell_type": "markdown",
   "metadata": {},
   "source": [
    "**Observations**\n",
    "- There are 7253 rows and 14 columns in the dataset.\n",
    "-  There are many missing values present in the data in different columns.\n",
    "- Some columns have incorrect data types: **Mileage**, **Engine**, **Power** and **New_Price**. It is beacuse of units mentioned in data for these columns e.g. km/kg, CC, bhp and Lakh. We would need to covert it into float datatype removing the suffix."
   ]
  },
  {
   "cell_type": "code",
   "execution_count": 7,
   "metadata": {},
   "outputs": [
    {
     "data": {
      "text/html": [
       "<div>\n",
       "<style scoped>\n",
       "    .dataframe tbody tr th:only-of-type {\n",
       "        vertical-align: middle;\n",
       "    }\n",
       "\n",
       "    .dataframe tbody tr th {\n",
       "        vertical-align: top;\n",
       "    }\n",
       "\n",
       "    .dataframe thead th {\n",
       "        text-align: right;\n",
       "    }\n",
       "</style>\n",
       "<table border=\"1\" class=\"dataframe\">\n",
       "  <thead>\n",
       "    <tr style=\"text-align: right;\">\n",
       "      <th></th>\n",
       "      <th>S.No.</th>\n",
       "      <th>Name</th>\n",
       "      <th>Location</th>\n",
       "      <th>Year</th>\n",
       "      <th>Kilometers_Driven</th>\n",
       "      <th>Fuel_Type</th>\n",
       "      <th>Transmission</th>\n",
       "      <th>Owner_Type</th>\n",
       "      <th>Mileage</th>\n",
       "      <th>Engine</th>\n",
       "      <th>Power</th>\n",
       "      <th>Seats</th>\n",
       "      <th>New_Price</th>\n",
       "      <th>Price</th>\n",
       "    </tr>\n",
       "  </thead>\n",
       "  <tbody>\n",
       "    <tr>\n",
       "      <th>count</th>\n",
       "      <td>7253.000000</td>\n",
       "      <td>7253</td>\n",
       "      <td>7253</td>\n",
       "      <td>7253.000000</td>\n",
       "      <td>7.253000e+03</td>\n",
       "      <td>7253</td>\n",
       "      <td>7253</td>\n",
       "      <td>7253</td>\n",
       "      <td>7251</td>\n",
       "      <td>7207</td>\n",
       "      <td>7207</td>\n",
       "      <td>7200.000000</td>\n",
       "      <td>1006</td>\n",
       "      <td>6019.000000</td>\n",
       "    </tr>\n",
       "    <tr>\n",
       "      <th>unique</th>\n",
       "      <td>NaN</td>\n",
       "      <td>2041</td>\n",
       "      <td>11</td>\n",
       "      <td>NaN</td>\n",
       "      <td>NaN</td>\n",
       "      <td>5</td>\n",
       "      <td>2</td>\n",
       "      <td>4</td>\n",
       "      <td>450</td>\n",
       "      <td>150</td>\n",
       "      <td>386</td>\n",
       "      <td>NaN</td>\n",
       "      <td>625</td>\n",
       "      <td>NaN</td>\n",
       "    </tr>\n",
       "    <tr>\n",
       "      <th>top</th>\n",
       "      <td>NaN</td>\n",
       "      <td>Mahindra XUV500 W8 2WD</td>\n",
       "      <td>Mumbai</td>\n",
       "      <td>NaN</td>\n",
       "      <td>NaN</td>\n",
       "      <td>Diesel</td>\n",
       "      <td>Manual</td>\n",
       "      <td>First</td>\n",
       "      <td>17.0 kmpl</td>\n",
       "      <td>1197 CC</td>\n",
       "      <td>74 bhp</td>\n",
       "      <td>NaN</td>\n",
       "      <td>95.13 Lakh</td>\n",
       "      <td>NaN</td>\n",
       "    </tr>\n",
       "    <tr>\n",
       "      <th>freq</th>\n",
       "      <td>NaN</td>\n",
       "      <td>55</td>\n",
       "      <td>949</td>\n",
       "      <td>NaN</td>\n",
       "      <td>NaN</td>\n",
       "      <td>3852</td>\n",
       "      <td>5204</td>\n",
       "      <td>5952</td>\n",
       "      <td>207</td>\n",
       "      <td>732</td>\n",
       "      <td>280</td>\n",
       "      <td>NaN</td>\n",
       "      <td>6</td>\n",
       "      <td>NaN</td>\n",
       "    </tr>\n",
       "    <tr>\n",
       "      <th>mean</th>\n",
       "      <td>3626.000000</td>\n",
       "      <td>NaN</td>\n",
       "      <td>NaN</td>\n",
       "      <td>2013.365366</td>\n",
       "      <td>5.869906e+04</td>\n",
       "      <td>NaN</td>\n",
       "      <td>NaN</td>\n",
       "      <td>NaN</td>\n",
       "      <td>NaN</td>\n",
       "      <td>NaN</td>\n",
       "      <td>NaN</td>\n",
       "      <td>5.279722</td>\n",
       "      <td>NaN</td>\n",
       "      <td>9.479468</td>\n",
       "    </tr>\n",
       "    <tr>\n",
       "      <th>std</th>\n",
       "      <td>2093.905084</td>\n",
       "      <td>NaN</td>\n",
       "      <td>NaN</td>\n",
       "      <td>3.254421</td>\n",
       "      <td>8.442772e+04</td>\n",
       "      <td>NaN</td>\n",
       "      <td>NaN</td>\n",
       "      <td>NaN</td>\n",
       "      <td>NaN</td>\n",
       "      <td>NaN</td>\n",
       "      <td>NaN</td>\n",
       "      <td>0.811660</td>\n",
       "      <td>NaN</td>\n",
       "      <td>11.187917</td>\n",
       "    </tr>\n",
       "    <tr>\n",
       "      <th>min</th>\n",
       "      <td>0.000000</td>\n",
       "      <td>NaN</td>\n",
       "      <td>NaN</td>\n",
       "      <td>1996.000000</td>\n",
       "      <td>1.710000e+02</td>\n",
       "      <td>NaN</td>\n",
       "      <td>NaN</td>\n",
       "      <td>NaN</td>\n",
       "      <td>NaN</td>\n",
       "      <td>NaN</td>\n",
       "      <td>NaN</td>\n",
       "      <td>0.000000</td>\n",
       "      <td>NaN</td>\n",
       "      <td>0.440000</td>\n",
       "    </tr>\n",
       "    <tr>\n",
       "      <th>25%</th>\n",
       "      <td>1813.000000</td>\n",
       "      <td>NaN</td>\n",
       "      <td>NaN</td>\n",
       "      <td>2011.000000</td>\n",
       "      <td>3.400000e+04</td>\n",
       "      <td>NaN</td>\n",
       "      <td>NaN</td>\n",
       "      <td>NaN</td>\n",
       "      <td>NaN</td>\n",
       "      <td>NaN</td>\n",
       "      <td>NaN</td>\n",
       "      <td>5.000000</td>\n",
       "      <td>NaN</td>\n",
       "      <td>3.500000</td>\n",
       "    </tr>\n",
       "    <tr>\n",
       "      <th>50%</th>\n",
       "      <td>3626.000000</td>\n",
       "      <td>NaN</td>\n",
       "      <td>NaN</td>\n",
       "      <td>2014.000000</td>\n",
       "      <td>5.341600e+04</td>\n",
       "      <td>NaN</td>\n",
       "      <td>NaN</td>\n",
       "      <td>NaN</td>\n",
       "      <td>NaN</td>\n",
       "      <td>NaN</td>\n",
       "      <td>NaN</td>\n",
       "      <td>5.000000</td>\n",
       "      <td>NaN</td>\n",
       "      <td>5.640000</td>\n",
       "    </tr>\n",
       "    <tr>\n",
       "      <th>75%</th>\n",
       "      <td>5439.000000</td>\n",
       "      <td>NaN</td>\n",
       "      <td>NaN</td>\n",
       "      <td>2016.000000</td>\n",
       "      <td>7.300000e+04</td>\n",
       "      <td>NaN</td>\n",
       "      <td>NaN</td>\n",
       "      <td>NaN</td>\n",
       "      <td>NaN</td>\n",
       "      <td>NaN</td>\n",
       "      <td>NaN</td>\n",
       "      <td>5.000000</td>\n",
       "      <td>NaN</td>\n",
       "      <td>9.950000</td>\n",
       "    </tr>\n",
       "    <tr>\n",
       "      <th>max</th>\n",
       "      <td>7252.000000</td>\n",
       "      <td>NaN</td>\n",
       "      <td>NaN</td>\n",
       "      <td>2019.000000</td>\n",
       "      <td>6.500000e+06</td>\n",
       "      <td>NaN</td>\n",
       "      <td>NaN</td>\n",
       "      <td>NaN</td>\n",
       "      <td>NaN</td>\n",
       "      <td>NaN</td>\n",
       "      <td>NaN</td>\n",
       "      <td>10.000000</td>\n",
       "      <td>NaN</td>\n",
       "      <td>160.000000</td>\n",
       "    </tr>\n",
       "  </tbody>\n",
       "</table>\n",
       "</div>"
      ],
      "text/plain": [
       "              S.No.                    Name Location         Year  \\\n",
       "count   7253.000000                    7253     7253  7253.000000   \n",
       "unique          NaN                    2041       11          NaN   \n",
       "top             NaN  Mahindra XUV500 W8 2WD   Mumbai          NaN   \n",
       "freq            NaN                      55      949          NaN   \n",
       "mean    3626.000000                     NaN      NaN  2013.365366   \n",
       "std     2093.905084                     NaN      NaN     3.254421   \n",
       "min        0.000000                     NaN      NaN  1996.000000   \n",
       "25%     1813.000000                     NaN      NaN  2011.000000   \n",
       "50%     3626.000000                     NaN      NaN  2014.000000   \n",
       "75%     5439.000000                     NaN      NaN  2016.000000   \n",
       "max     7252.000000                     NaN      NaN  2019.000000   \n",
       "\n",
       "        Kilometers_Driven Fuel_Type Transmission Owner_Type    Mileage  \\\n",
       "count        7.253000e+03      7253         7253       7253       7251   \n",
       "unique                NaN         5            2          4        450   \n",
       "top                   NaN    Diesel       Manual      First  17.0 kmpl   \n",
       "freq                  NaN      3852         5204       5952        207   \n",
       "mean         5.869906e+04       NaN          NaN        NaN        NaN   \n",
       "std          8.442772e+04       NaN          NaN        NaN        NaN   \n",
       "min          1.710000e+02       NaN          NaN        NaN        NaN   \n",
       "25%          3.400000e+04       NaN          NaN        NaN        NaN   \n",
       "50%          5.341600e+04       NaN          NaN        NaN        NaN   \n",
       "75%          7.300000e+04       NaN          NaN        NaN        NaN   \n",
       "max          6.500000e+06       NaN          NaN        NaN        NaN   \n",
       "\n",
       "         Engine   Power        Seats   New_Price        Price  \n",
       "count      7207    7207  7200.000000        1006  6019.000000  \n",
       "unique      150     386          NaN         625          NaN  \n",
       "top     1197 CC  74 bhp          NaN  95.13 Lakh          NaN  \n",
       "freq        732     280          NaN           6          NaN  \n",
       "mean        NaN     NaN     5.279722         NaN     9.479468  \n",
       "std         NaN     NaN     0.811660         NaN    11.187917  \n",
       "min         NaN     NaN     0.000000         NaN     0.440000  \n",
       "25%         NaN     NaN     5.000000         NaN     3.500000  \n",
       "50%         NaN     NaN     5.000000         NaN     5.640000  \n",
       "75%         NaN     NaN     5.000000         NaN     9.950000  \n",
       "max         NaN     NaN    10.000000         NaN   160.000000  "
      ]
     },
     "execution_count": 7,
     "metadata": {},
     "output_type": "execute_result"
    }
   ],
   "source": [
    "df.describe(include = 'all')"
   ]
  },
  {
   "cell_type": "code",
   "execution_count": 8,
   "metadata": {},
   "outputs": [
    {
     "data": {
      "text/plain": [
       "S.No.                   0\n",
       "Name                    0\n",
       "Location                0\n",
       "Year                    0\n",
       "Kilometers_Driven       0\n",
       "Fuel_Type               0\n",
       "Transmission            0\n",
       "Owner_Type              0\n",
       "Mileage                 2\n",
       "Engine                 46\n",
       "Power                  46\n",
       "Seats                  53\n",
       "New_Price            6247\n",
       "Price                1234\n",
       "dtype: int64"
      ]
     },
     "execution_count": 8,
     "metadata": {},
     "output_type": "execute_result"
    }
   ],
   "source": [
    "df.isnull().sum()"
   ]
  },
  {
   "cell_type": "code",
   "execution_count": 9,
   "metadata": {},
   "outputs": [
    {
     "data": {
      "text/html": [
       "<div>\n",
       "<style scoped>\n",
       "    .dataframe tbody tr th:only-of-type {\n",
       "        vertical-align: middle;\n",
       "    }\n",
       "\n",
       "    .dataframe tbody tr th {\n",
       "        vertical-align: top;\n",
       "    }\n",
       "\n",
       "    .dataframe thead th {\n",
       "        text-align: right;\n",
       "    }\n",
       "</style>\n",
       "<table border=\"1\" class=\"dataframe\">\n",
       "  <thead>\n",
       "    <tr style=\"text-align: right;\">\n",
       "      <th></th>\n",
       "      <th>S.No.</th>\n",
       "      <th>Name</th>\n",
       "      <th>Location</th>\n",
       "      <th>Year</th>\n",
       "      <th>Kilometers_Driven</th>\n",
       "      <th>Fuel_Type</th>\n",
       "      <th>Transmission</th>\n",
       "      <th>Owner_Type</th>\n",
       "      <th>Mileage</th>\n",
       "      <th>Engine</th>\n",
       "      <th>Power</th>\n",
       "      <th>Seats</th>\n",
       "      <th>New_Price</th>\n",
       "      <th>Price</th>\n",
       "    </tr>\n",
       "  </thead>\n",
       "  <tbody>\n",
       "    <tr>\n",
       "      <th>194</th>\n",
       "      <td>194</td>\n",
       "      <td>Honda City 1.5 GXI</td>\n",
       "      <td>Ahmedabad</td>\n",
       "      <td>2007</td>\n",
       "      <td>60006</td>\n",
       "      <td>Petrol</td>\n",
       "      <td>Manual</td>\n",
       "      <td>First</td>\n",
       "      <td>0.0 kmpl</td>\n",
       "      <td>NaN</td>\n",
       "      <td>NaN</td>\n",
       "      <td>NaN</td>\n",
       "      <td>NaN</td>\n",
       "      <td>2.95</td>\n",
       "    </tr>\n",
       "    <tr>\n",
       "      <th>208</th>\n",
       "      <td>208</td>\n",
       "      <td>Maruti Swift 1.3 VXi</td>\n",
       "      <td>Kolkata</td>\n",
       "      <td>2010</td>\n",
       "      <td>42001</td>\n",
       "      <td>Petrol</td>\n",
       "      <td>Manual</td>\n",
       "      <td>First</td>\n",
       "      <td>16.1 kmpl</td>\n",
       "      <td>NaN</td>\n",
       "      <td>NaN</td>\n",
       "      <td>NaN</td>\n",
       "      <td>NaN</td>\n",
       "      <td>2.11</td>\n",
       "    </tr>\n",
       "    <tr>\n",
       "      <th>733</th>\n",
       "      <td>733</td>\n",
       "      <td>Maruti Swift 1.3 VXi</td>\n",
       "      <td>Chennai</td>\n",
       "      <td>2006</td>\n",
       "      <td>97800</td>\n",
       "      <td>Petrol</td>\n",
       "      <td>Manual</td>\n",
       "      <td>Third</td>\n",
       "      <td>16.1 kmpl</td>\n",
       "      <td>NaN</td>\n",
       "      <td>NaN</td>\n",
       "      <td>NaN</td>\n",
       "      <td>NaN</td>\n",
       "      <td>1.75</td>\n",
       "    </tr>\n",
       "    <tr>\n",
       "      <th>749</th>\n",
       "      <td>749</td>\n",
       "      <td>Land Rover Range Rover 3.0 D</td>\n",
       "      <td>Mumbai</td>\n",
       "      <td>2008</td>\n",
       "      <td>55001</td>\n",
       "      <td>Diesel</td>\n",
       "      <td>Automatic</td>\n",
       "      <td>Second</td>\n",
       "      <td>0.0 kmpl</td>\n",
       "      <td>NaN</td>\n",
       "      <td>NaN</td>\n",
       "      <td>NaN</td>\n",
       "      <td>NaN</td>\n",
       "      <td>26.50</td>\n",
       "    </tr>\n",
       "    <tr>\n",
       "      <th>1294</th>\n",
       "      <td>1294</td>\n",
       "      <td>Honda City 1.3 DX</td>\n",
       "      <td>Delhi</td>\n",
       "      <td>2009</td>\n",
       "      <td>55005</td>\n",
       "      <td>Petrol</td>\n",
       "      <td>Manual</td>\n",
       "      <td>First</td>\n",
       "      <td>12.8 kmpl</td>\n",
       "      <td>NaN</td>\n",
       "      <td>NaN</td>\n",
       "      <td>NaN</td>\n",
       "      <td>NaN</td>\n",
       "      <td>3.20</td>\n",
       "    </tr>\n",
       "    <tr>\n",
       "      <th>1327</th>\n",
       "      <td>1327</td>\n",
       "      <td>Maruti Swift 1.3 ZXI</td>\n",
       "      <td>Hyderabad</td>\n",
       "      <td>2015</td>\n",
       "      <td>50295</td>\n",
       "      <td>Petrol</td>\n",
       "      <td>Manual</td>\n",
       "      <td>First</td>\n",
       "      <td>16.1 kmpl</td>\n",
       "      <td>NaN</td>\n",
       "      <td>NaN</td>\n",
       "      <td>NaN</td>\n",
       "      <td>NaN</td>\n",
       "      <td>5.80</td>\n",
       "    </tr>\n",
       "    <tr>\n",
       "      <th>1385</th>\n",
       "      <td>1385</td>\n",
       "      <td>Honda City 1.5 GXI</td>\n",
       "      <td>Pune</td>\n",
       "      <td>2004</td>\n",
       "      <td>115000</td>\n",
       "      <td>Petrol</td>\n",
       "      <td>Manual</td>\n",
       "      <td>Second</td>\n",
       "      <td>0.0 kmpl</td>\n",
       "      <td>NaN</td>\n",
       "      <td>NaN</td>\n",
       "      <td>NaN</td>\n",
       "      <td>NaN</td>\n",
       "      <td>1.50</td>\n",
       "    </tr>\n",
       "    <tr>\n",
       "      <th>1460</th>\n",
       "      <td>1460</td>\n",
       "      <td>Land Rover Range Rover Sport 2005 2012 Sport</td>\n",
       "      <td>Coimbatore</td>\n",
       "      <td>2008</td>\n",
       "      <td>69078</td>\n",
       "      <td>Petrol</td>\n",
       "      <td>Manual</td>\n",
       "      <td>First</td>\n",
       "      <td>0.0 kmpl</td>\n",
       "      <td>NaN</td>\n",
       "      <td>NaN</td>\n",
       "      <td>NaN</td>\n",
       "      <td>NaN</td>\n",
       "      <td>40.88</td>\n",
       "    </tr>\n",
       "    <tr>\n",
       "      <th>2074</th>\n",
       "      <td>2074</td>\n",
       "      <td>Maruti Swift 1.3 LXI</td>\n",
       "      <td>Pune</td>\n",
       "      <td>2011</td>\n",
       "      <td>24255</td>\n",
       "      <td>Petrol</td>\n",
       "      <td>Manual</td>\n",
       "      <td>First</td>\n",
       "      <td>16.1 kmpl</td>\n",
       "      <td>NaN</td>\n",
       "      <td>NaN</td>\n",
       "      <td>NaN</td>\n",
       "      <td>NaN</td>\n",
       "      <td>3.15</td>\n",
       "    </tr>\n",
       "    <tr>\n",
       "      <th>2096</th>\n",
       "      <td>2096</td>\n",
       "      <td>Hyundai Santro LP zipPlus</td>\n",
       "      <td>Coimbatore</td>\n",
       "      <td>2004</td>\n",
       "      <td>52146</td>\n",
       "      <td>Petrol</td>\n",
       "      <td>Manual</td>\n",
       "      <td>First</td>\n",
       "      <td>0.0 kmpl</td>\n",
       "      <td>NaN</td>\n",
       "      <td>NaN</td>\n",
       "      <td>NaN</td>\n",
       "      <td>NaN</td>\n",
       "      <td>1.93</td>\n",
       "    </tr>\n",
       "  </tbody>\n",
       "</table>\n",
       "</div>"
      ],
      "text/plain": [
       "      S.No.                                          Name    Location  Year  \\\n",
       "194     194                            Honda City 1.5 GXI   Ahmedabad  2007   \n",
       "208     208                          Maruti Swift 1.3 VXi     Kolkata  2010   \n",
       "733     733                          Maruti Swift 1.3 VXi     Chennai  2006   \n",
       "749     749                  Land Rover Range Rover 3.0 D      Mumbai  2008   \n",
       "1294   1294                             Honda City 1.3 DX       Delhi  2009   \n",
       "1327   1327                          Maruti Swift 1.3 ZXI   Hyderabad  2015   \n",
       "1385   1385                            Honda City 1.5 GXI        Pune  2004   \n",
       "1460   1460  Land Rover Range Rover Sport 2005 2012 Sport  Coimbatore  2008   \n",
       "2074   2074                          Maruti Swift 1.3 LXI        Pune  2011   \n",
       "2096   2096                     Hyundai Santro LP zipPlus  Coimbatore  2004   \n",
       "\n",
       "      Kilometers_Driven Fuel_Type Transmission Owner_Type    Mileage Engine  \\\n",
       "194               60006    Petrol       Manual      First   0.0 kmpl    NaN   \n",
       "208               42001    Petrol       Manual      First  16.1 kmpl    NaN   \n",
       "733               97800    Petrol       Manual      Third  16.1 kmpl    NaN   \n",
       "749               55001    Diesel    Automatic     Second   0.0 kmpl    NaN   \n",
       "1294              55005    Petrol       Manual      First  12.8 kmpl    NaN   \n",
       "1327              50295    Petrol       Manual      First  16.1 kmpl    NaN   \n",
       "1385             115000    Petrol       Manual     Second   0.0 kmpl    NaN   \n",
       "1460              69078    Petrol       Manual      First   0.0 kmpl    NaN   \n",
       "2074              24255    Petrol       Manual      First  16.1 kmpl    NaN   \n",
       "2096              52146    Petrol       Manual      First   0.0 kmpl    NaN   \n",
       "\n",
       "     Power  Seats New_Price  Price  \n",
       "194    NaN    NaN       NaN   2.95  \n",
       "208    NaN    NaN       NaN   2.11  \n",
       "733    NaN    NaN       NaN   1.75  \n",
       "749    NaN    NaN       NaN  26.50  \n",
       "1294   NaN    NaN       NaN   3.20  \n",
       "1327   NaN    NaN       NaN   5.80  \n",
       "1385   NaN    NaN       NaN   1.50  \n",
       "1460   NaN    NaN       NaN  40.88  \n",
       "2074   NaN    NaN       NaN   3.15  \n",
       "2096   NaN    NaN       NaN   1.93  "
      ]
     },
     "execution_count": 9,
     "metadata": {},
     "output_type": "execute_result"
    }
   ],
   "source": [
    "df[df['Engine'].isnull()].head(10)"
   ]
  },
  {
   "cell_type": "markdown",
   "metadata": {},
   "source": [
    "# Observations\n",
    "- Engine and Power columns are having null value together. Seems these both information are related to each other, in terms od data collection.\n",
    "- New_Price has 6247 null values out of 7253 : i.e. 86% of the values in New_Price column is NaN. (We can impute all the null values or also we can drop this features). \n",
    "- Price column has 1234 missing values, since Price is going to be dependent variable (label) for our model, so we can remove these rows for current supervised learning based model.\n",
    "- Mileage and Seats are also having few missing values, we can impute these values with further analysis.\n",
    "- We can convert the Year to Age (Current_Year - Year) columns for better feed to model."
   ]
  },
  {
   "cell_type": "markdown",
   "metadata": {},
   "source": [
    "## Data Preprocessing and further EDA"
   ]
  },
  {
   "cell_type": "code",
   "execution_count": 10,
   "metadata": {},
   "outputs": [],
   "source": [
    "df = df[df['Price'].notna()] #removing the rows where labels (price) are not present - supervised learning model "
   ]
  },
  {
   "cell_type": "markdown",
   "metadata": {},
   "source": [
    "**Data Preparation for Modelling**"
   ]
  },
  {
   "cell_type": "code",
   "execution_count": 11,
   "metadata": {},
   "outputs": [],
   "source": [
    "def val_to_number(val):\n",
    "    ''' Removing the units/suffix from the data\n",
    "        and changing into float'''\n",
    "    if isinstance (val, str):\n",
    "        return float(val.replace('bhp','').replace('null','-1').replace('CC','').replace('km/kg','').replace('kmpl',''))\n",
    "    else:\n",
    "        return np.nan"
   ]
  },
  {
   "cell_type": "code",
   "execution_count": 12,
   "metadata": {},
   "outputs": [],
   "source": [
    "df['Power'] = df['Power'].apply(val_to_number)\n",
    "df['Mileage'] = df['Mileage'].apply(val_to_number)\n",
    "df['Engine'] = df['Engine'].apply(val_to_number)\n",
    "df.loc[df['Power'] == -1, 'Power']= np.nan"
   ]
  },
  {
   "cell_type": "code",
   "execution_count": 13,
   "metadata": {},
   "outputs": [],
   "source": [
    "def newprice_to_number(val):\n",
    "    '''Coverting the values in (Lakh/Cr) units\n",
    "       into Lakh and removing the suffix'''\n",
    "    if isinstance(val, str):\n",
    "        multiplier = 1\n",
    "        if val.endswith('Cr'):\n",
    "            multiplier = 100\n",
    "        return float(val.replace('Lakh','').replace('Cr',''))*multiplier\n",
    "    else :\n",
    "        return np.nan"
   ]
  },
  {
   "cell_type": "code",
   "execution_count": 14,
   "metadata": {},
   "outputs": [],
   "source": [
    "df['New_Price'] = df['New_Price'].apply(newprice_to_number)    # Keeping the New_Price in Lakh unit since Price is also in Lakh unit"
   ]
  },
  {
   "cell_type": "code",
   "execution_count": 15,
   "metadata": {},
   "outputs": [
    {
     "data": {
      "text/plain": [
       "1876"
      ]
     },
     "execution_count": 15,
     "metadata": {},
     "output_type": "execute_result"
    }
   ],
   "source": [
    "df['Name'].nunique()"
   ]
  },
  {
   "cell_type": "markdown",
   "metadata": {},
   "source": [
    "**We have many Cars name and it wont be good to take it as categorical variable and encode it, rather it's better to take out the brand from the name and use it as brand variable.**"
   ]
  },
  {
   "cell_type": "code",
   "execution_count": 16,
   "metadata": {},
   "outputs": [],
   "source": [
    "def position_to_num(pos_val):\n",
    "    '''Coverting Car Name to Brand\n",
    "       by taking out the first word'''\n",
    "    if isinstance(pos_val, str):\n",
    "        return pos_val.split(' ')[0].upper()\n",
    "    else:\n",
    "        return np.nan"
   ]
  },
  {
   "cell_type": "code",
   "execution_count": 17,
   "metadata": {},
   "outputs": [],
   "source": [
    "df['Brand'] = df['Name'].apply(position_to_num)"
   ]
  },
  {
   "cell_type": "markdown",
   "metadata": {},
   "source": [
    "**Year of Manufacturing to Aging :**"
   ]
  },
  {
   "cell_type": "code",
   "execution_count": 18,
   "metadata": {},
   "outputs": [],
   "source": [
    "df['Age'] = abs(df['Year']-int(pd.to_datetime('today').year)) #Getting the age of the car(Here Age : We are defining as how much old the model is)"
   ]
  },
  {
   "cell_type": "code",
   "execution_count": 20,
   "metadata": {},
   "outputs": [],
   "source": [
    "df_model = df.drop(['S.No.','Name','Year'],axis=1)      #preparing dataframe for learning model"
   ]
  },
  {
   "cell_type": "code",
   "execution_count": 21,
   "metadata": {},
   "outputs": [
    {
     "data": {
      "text/html": [
       "<div>\n",
       "<style scoped>\n",
       "    .dataframe tbody tr th:only-of-type {\n",
       "        vertical-align: middle;\n",
       "    }\n",
       "\n",
       "    .dataframe tbody tr th {\n",
       "        vertical-align: top;\n",
       "    }\n",
       "\n",
       "    .dataframe thead th {\n",
       "        text-align: right;\n",
       "    }\n",
       "</style>\n",
       "<table border=\"1\" class=\"dataframe\">\n",
       "  <thead>\n",
       "    <tr style=\"text-align: right;\">\n",
       "      <th></th>\n",
       "      <th>Kilometers_Driven</th>\n",
       "      <th>Mileage</th>\n",
       "      <th>Engine</th>\n",
       "      <th>Power</th>\n",
       "      <th>Seats</th>\n",
       "      <th>New_Price</th>\n",
       "      <th>Price</th>\n",
       "      <th>Age</th>\n",
       "    </tr>\n",
       "  </thead>\n",
       "  <tbody>\n",
       "    <tr>\n",
       "      <th>count</th>\n",
       "      <td>6.019000e+03</td>\n",
       "      <td>6017.000000</td>\n",
       "      <td>5983.000000</td>\n",
       "      <td>5876.000000</td>\n",
       "      <td>5977.000000</td>\n",
       "      <td>824.000000</td>\n",
       "      <td>6019.000000</td>\n",
       "      <td>6019.000000</td>\n",
       "    </tr>\n",
       "    <tr>\n",
       "      <th>mean</th>\n",
       "      <td>5.873838e+04</td>\n",
       "      <td>18.134961</td>\n",
       "      <td>1621.276450</td>\n",
       "      <td>113.253050</td>\n",
       "      <td>5.278735</td>\n",
       "      <td>23.075655</td>\n",
       "      <td>9.479468</td>\n",
       "      <td>7.641801</td>\n",
       "    </tr>\n",
       "    <tr>\n",
       "      <th>std</th>\n",
       "      <td>9.126884e+04</td>\n",
       "      <td>4.582289</td>\n",
       "      <td>601.355233</td>\n",
       "      <td>53.874957</td>\n",
       "      <td>0.808840</td>\n",
       "      <td>26.182412</td>\n",
       "      <td>11.187917</td>\n",
       "      <td>3.269742</td>\n",
       "    </tr>\n",
       "    <tr>\n",
       "      <th>min</th>\n",
       "      <td>1.710000e+02</td>\n",
       "      <td>0.000000</td>\n",
       "      <td>72.000000</td>\n",
       "      <td>34.200000</td>\n",
       "      <td>0.000000</td>\n",
       "      <td>3.910000</td>\n",
       "      <td>0.440000</td>\n",
       "      <td>2.000000</td>\n",
       "    </tr>\n",
       "    <tr>\n",
       "      <th>25%</th>\n",
       "      <td>3.400000e+04</td>\n",
       "      <td>15.170000</td>\n",
       "      <td>1198.000000</td>\n",
       "      <td>75.000000</td>\n",
       "      <td>5.000000</td>\n",
       "      <td>7.977500</td>\n",
       "      <td>3.500000</td>\n",
       "      <td>5.000000</td>\n",
       "    </tr>\n",
       "    <tr>\n",
       "      <th>50%</th>\n",
       "      <td>5.300000e+04</td>\n",
       "      <td>18.150000</td>\n",
       "      <td>1493.000000</td>\n",
       "      <td>97.700000</td>\n",
       "      <td>5.000000</td>\n",
       "      <td>11.670000</td>\n",
       "      <td>5.640000</td>\n",
       "      <td>7.000000</td>\n",
       "    </tr>\n",
       "    <tr>\n",
       "      <th>75%</th>\n",
       "      <td>7.300000e+04</td>\n",
       "      <td>21.100000</td>\n",
       "      <td>1984.000000</td>\n",
       "      <td>138.100000</td>\n",
       "      <td>5.000000</td>\n",
       "      <td>26.560000</td>\n",
       "      <td>9.950000</td>\n",
       "      <td>10.000000</td>\n",
       "    </tr>\n",
       "    <tr>\n",
       "      <th>max</th>\n",
       "      <td>6.500000e+06</td>\n",
       "      <td>33.540000</td>\n",
       "      <td>5998.000000</td>\n",
       "      <td>560.000000</td>\n",
       "      <td>10.000000</td>\n",
       "      <td>230.000000</td>\n",
       "      <td>160.000000</td>\n",
       "      <td>23.000000</td>\n",
       "    </tr>\n",
       "  </tbody>\n",
       "</table>\n",
       "</div>"
      ],
      "text/plain": [
       "       Kilometers_Driven      Mileage       Engine        Power        Seats  \\\n",
       "count       6.019000e+03  6017.000000  5983.000000  5876.000000  5977.000000   \n",
       "mean        5.873838e+04    18.134961  1621.276450   113.253050     5.278735   \n",
       "std         9.126884e+04     4.582289   601.355233    53.874957     0.808840   \n",
       "min         1.710000e+02     0.000000    72.000000    34.200000     0.000000   \n",
       "25%         3.400000e+04    15.170000  1198.000000    75.000000     5.000000   \n",
       "50%         5.300000e+04    18.150000  1493.000000    97.700000     5.000000   \n",
       "75%         7.300000e+04    21.100000  1984.000000   138.100000     5.000000   \n",
       "max         6.500000e+06    33.540000  5998.000000   560.000000    10.000000   \n",
       "\n",
       "        New_Price        Price          Age  \n",
       "count  824.000000  6019.000000  6019.000000  \n",
       "mean    23.075655     9.479468     7.641801  \n",
       "std     26.182412    11.187917     3.269742  \n",
       "min      3.910000     0.440000     2.000000  \n",
       "25%      7.977500     3.500000     5.000000  \n",
       "50%     11.670000     5.640000     7.000000  \n",
       "75%     26.560000     9.950000    10.000000  \n",
       "max    230.000000   160.000000    23.000000  "
      ]
     },
     "execution_count": 21,
     "metadata": {},
     "output_type": "execute_result"
    }
   ],
   "source": [
    "df_model.describe()"
   ]
  },
  {
   "cell_type": "markdown",
   "metadata": {},
   "source": [
    "**Here We can see the min Mileage and Seats are 0, that can not be possible for a moving car, so we would need to replace 0 with NaN for further imputation.**"
   ]
  },
  {
   "cell_type": "code",
   "execution_count": 22,
   "metadata": {},
   "outputs": [],
   "source": [
    "df_model.loc[df['Mileage'] == 0, 'Mileage']= np.nan"
   ]
  },
  {
   "cell_type": "code",
   "execution_count": 23,
   "metadata": {},
   "outputs": [],
   "source": [
    "df_model.loc[df['Seats'] == 0, 'Seats']= np.nan"
   ]
  },
  {
   "cell_type": "markdown",
   "metadata": {},
   "source": [
    "**Correcting DataTypes**"
   ]
  },
  {
   "cell_type": "code",
   "execution_count": 24,
   "metadata": {},
   "outputs": [],
   "source": [
    "df_model['Location'] = df_model['Location'].astype('category')\n",
    "df_model['Owner_Type'] = df_model['Owner_Type'].astype('category')\n",
    "df_model['Fuel_Type'] = df_model['Fuel_Type'].astype('category')\n",
    "df_model['Transmission'] = df_model['Transmission'].astype('category')\n",
    "df_model['Age'] = df_model['Age'].astype('float64')\n",
    "df_model['Brand'] = df_model['Brand'].astype('category')\n",
    "df_model['Kilometers_Driven'] = df_model['Kilometers_Driven'].astype('float64')"
   ]
  },
  {
   "cell_type": "markdown",
   "metadata": {},
   "source": [
    "## Univariate Analysis"
   ]
  },
  {
   "cell_type": "code",
   "execution_count": 25,
   "metadata": {},
   "outputs": [
    {
     "data": {
      "image/png": "[encoded data removed]",
      "text/plain": [
       "<Figure size 1440x2160 with 8 Axes>"
      ]
     },
     "metadata": {},
     "output_type": "display_data"
    }
   ],
   "source": [
    "numeric_col1 = df_model.select_dtypes(include=np.number).columns.tolist()\n",
    "\n",
    "plt.figure(figsize=(20,30))\n",
    "\n",
    "for i, variable in enumerate(numeric_col1):\n",
    "                     plt.subplot(5,4,i+1)\n",
    "                     sns.histplot(df_model[variable])\n",
    "                     plt.tight_layout()\n",
    "                     plt.title(variable)\n",
    "\n",
    "plt.show()"
   ]
  },
  {
   "cell_type": "markdown",
   "metadata": {},
   "source": [
    "**Categorical Variables**"
   ]
  },
  {
   "cell_type": "code",
   "execution_count": 26,
   "metadata": {},
   "outputs": [
    {
     "data": {
      "image/png": "[encoded data removed]",
      "text/plain": [
       "<Figure size 2160x2880 with 4 Axes>"
      ]
     },
     "metadata": {},
     "output_type": "display_data"
    }
   ],
   "source": [
    "cat_col = df_model.select_dtypes(include='category').columns.tolist()\n",
    "cat_col.remove('Brand')\n",
    "plt.figure(figsize=(30,40))\n",
    "\n",
    "for i, variable in enumerate(cat_col):\n",
    "                     plt.subplot(5,3,i+1)\n",
    "                     sns.countplot(df_model[variable])\n",
    "                     plt.tight_layout()\n",
    "                     plt.title(variable)\n",
    "\n",
    "plt.show()"
   ]
  },
  {
   "cell_type": "code",
   "execution_count": 27,
   "metadata": {},
   "outputs": [
    {
     "data": {
      "text/plain": [
       "<AxesSubplot:xlabel='Brand', ylabel='count'>"
      ]
     },
     "execution_count": 27,
     "metadata": {},
     "output_type": "execute_result"
    },
    {
     "data": {
      "image/png": "[encoded data removed]",
      "text/plain": [
       "<Figure size 432x288 with 1 Axes>"
      ]
     },
     "metadata": {},
     "output_type": "display_data"
    }
   ],
   "source": [
    "plt.xticks(rotation=90)\n",
    "sns.countplot(df_model['Brand'])"
   ]
  },
  {
   "cell_type": "markdown",
   "metadata": {},
   "source": [
    "**Observations**"
   ]
  },
  {
   "cell_type": "markdown",
   "metadata": {},
   "source": [
    "- There are many outliers in different features like Kilometers_Driven, New_Price etc.\n",
    "- Most of the cars are first_hand owner type.\n",
    "- There are very few cars in CNG, LPG and Electric Fuel type.\n",
    "- There are 11 different locations present in data."
   ]
  },
  {
   "cell_type": "markdown",
   "metadata": {},
   "source": [
    "## Bivariate Analysis"
   ]
  },
  {
   "cell_type": "code",
   "execution_count": 28,
   "metadata": {},
   "outputs": [],
   "source": [
    "#sns.pairplot(data=df_model)"
   ]
  },
  {
   "cell_type": "code",
   "execution_count": 29,
   "metadata": {},
   "outputs": [
    {
     "data": {
      "text/plain": [
       "<AxesSubplot:>"
      ]
     },
     "execution_count": 29,
     "metadata": {},
     "output_type": "execute_result"
    },
    {
     "data": {
      "image/png": "[encoded data removed]",
      "text/plain": [
       "<Figure size 432x288 with 2 Axes>"
      ]
     },
     "metadata": {},
     "output_type": "display_data"
    }
   ],
   "source": [
    "sns.heatmap(df_model.corr())   # Correlation Matrix"
   ]
  },
  {
   "cell_type": "markdown",
   "metadata": {},
   "source": [
    "- We can see good positive correlation of Price with Engine, Power and New_Price.\n",
    "- While we have negative correlation of Price with Mileage.\n"
   ]
  },
  {
   "cell_type": "markdown",
   "metadata": {},
   "source": [
    "**Outliers Check**"
   ]
  },
  {
   "cell_type": "code",
   "execution_count": 30,
   "metadata": {},
   "outputs": [
    {
     "data": {
      "image/png": "[encoded data removed]",
      "text/plain": [
       "<Figure size 1440x2160 with 8 Axes>"
      ]
     },
     "metadata": {},
     "output_type": "display_data"
    }
   ],
   "source": [
    "# lets look at box plot to see if outliers has been treated or not\n",
    "plt.figure(figsize=(20,30))\n",
    "\n",
    "for i, variable in enumerate(numeric_col1):\n",
    "                     plt.subplot(5,4,i+1)\n",
    "                     sns.boxplot(df_model[variable],orient = \"h\"  , whis=1.5)\n",
    "                     plt.tight_layout()\n",
    "                     plt.title(variable)\n",
    "\n",
    "plt.show()"
   ]
  },
  {
   "cell_type": "code",
   "execution_count": 31,
   "metadata": {},
   "outputs": [
    {
     "data": {
      "text/html": [
       "<div>\n",
       "<style scoped>\n",
       "    .dataframe tbody tr th:only-of-type {\n",
       "        vertical-align: middle;\n",
       "    }\n",
       "\n",
       "    .dataframe tbody tr th {\n",
       "        vertical-align: top;\n",
       "    }\n",
       "\n",
       "    .dataframe thead th {\n",
       "        text-align: right;\n",
       "    }\n",
       "</style>\n",
       "<table border=\"1\" class=\"dataframe\">\n",
       "  <thead>\n",
       "    <tr style=\"text-align: right;\">\n",
       "      <th></th>\n",
       "      <th>Kilometers_Driven</th>\n",
       "      <th>Mileage</th>\n",
       "      <th>Engine</th>\n",
       "      <th>Power</th>\n",
       "      <th>Seats</th>\n",
       "      <th>New_Price</th>\n",
       "      <th>Price</th>\n",
       "      <th>Age</th>\n",
       "    </tr>\n",
       "  </thead>\n",
       "  <tbody>\n",
       "    <tr>\n",
       "      <th>count</th>\n",
       "      <td>6.019000e+03</td>\n",
       "      <td>5949.000000</td>\n",
       "      <td>5983.000000</td>\n",
       "      <td>5876.000000</td>\n",
       "      <td>5976.000000</td>\n",
       "      <td>824.000000</td>\n",
       "      <td>6019.000000</td>\n",
       "      <td>6019.000000</td>\n",
       "    </tr>\n",
       "    <tr>\n",
       "      <th>mean</th>\n",
       "      <td>5.873838e+04</td>\n",
       "      <td>18.342252</td>\n",
       "      <td>1621.276450</td>\n",
       "      <td>113.253050</td>\n",
       "      <td>5.279618</td>\n",
       "      <td>23.075655</td>\n",
       "      <td>9.479468</td>\n",
       "      <td>7.641801</td>\n",
       "    </tr>\n",
       "    <tr>\n",
       "      <th>std</th>\n",
       "      <td>9.126884e+04</td>\n",
       "      <td>4.175475</td>\n",
       "      <td>601.355233</td>\n",
       "      <td>53.874957</td>\n",
       "      <td>0.806019</td>\n",
       "      <td>26.182412</td>\n",
       "      <td>11.187917</td>\n",
       "      <td>3.269742</td>\n",
       "    </tr>\n",
       "    <tr>\n",
       "      <th>min</th>\n",
       "      <td>1.710000e+02</td>\n",
       "      <td>6.400000</td>\n",
       "      <td>72.000000</td>\n",
       "      <td>34.200000</td>\n",
       "      <td>2.000000</td>\n",
       "      <td>3.910000</td>\n",
       "      <td>0.440000</td>\n",
       "      <td>2.000000</td>\n",
       "    </tr>\n",
       "    <tr>\n",
       "      <th>25%</th>\n",
       "      <td>3.400000e+04</td>\n",
       "      <td>15.300000</td>\n",
       "      <td>1198.000000</td>\n",
       "      <td>75.000000</td>\n",
       "      <td>5.000000</td>\n",
       "      <td>7.977500</td>\n",
       "      <td>3.500000</td>\n",
       "      <td>5.000000</td>\n",
       "    </tr>\n",
       "    <tr>\n",
       "      <th>50%</th>\n",
       "      <td>5.300000e+04</td>\n",
       "      <td>18.200000</td>\n",
       "      <td>1493.000000</td>\n",
       "      <td>97.700000</td>\n",
       "      <td>5.000000</td>\n",
       "      <td>11.670000</td>\n",
       "      <td>5.640000</td>\n",
       "      <td>7.000000</td>\n",
       "    </tr>\n",
       "    <tr>\n",
       "      <th>75%</th>\n",
       "      <td>7.300000e+04</td>\n",
       "      <td>21.100000</td>\n",
       "      <td>1984.000000</td>\n",
       "      <td>138.100000</td>\n",
       "      <td>5.000000</td>\n",
       "      <td>26.560000</td>\n",
       "      <td>9.950000</td>\n",
       "      <td>10.000000</td>\n",
       "    </tr>\n",
       "    <tr>\n",
       "      <th>max</th>\n",
       "      <td>6.500000e+06</td>\n",
       "      <td>33.540000</td>\n",
       "      <td>5998.000000</td>\n",
       "      <td>560.000000</td>\n",
       "      <td>10.000000</td>\n",
       "      <td>230.000000</td>\n",
       "      <td>160.000000</td>\n",
       "      <td>23.000000</td>\n",
       "    </tr>\n",
       "  </tbody>\n",
       "</table>\n",
       "</div>"
      ],
      "text/plain": [
       "       Kilometers_Driven      Mileage       Engine        Power        Seats  \\\n",
       "count       6.019000e+03  5949.000000  5983.000000  5876.000000  5976.000000   \n",
       "mean        5.873838e+04    18.342252  1621.276450   113.253050     5.279618   \n",
       "std         9.126884e+04     4.175475   601.355233    53.874957     0.806019   \n",
       "min         1.710000e+02     6.400000    72.000000    34.200000     2.000000   \n",
       "25%         3.400000e+04    15.300000  1198.000000    75.000000     5.000000   \n",
       "50%         5.300000e+04    18.200000  1493.000000    97.700000     5.000000   \n",
       "75%         7.300000e+04    21.100000  1984.000000   138.100000     5.000000   \n",
       "max         6.500000e+06    33.540000  5998.000000   560.000000    10.000000   \n",
       "\n",
       "        New_Price        Price          Age  \n",
       "count  824.000000  6019.000000  6019.000000  \n",
       "mean    23.075655     9.479468     7.641801  \n",
       "std     26.182412    11.187917     3.269742  \n",
       "min      3.910000     0.440000     2.000000  \n",
       "25%      7.977500     3.500000     5.000000  \n",
       "50%     11.670000     5.640000     7.000000  \n",
       "75%     26.560000     9.950000    10.000000  \n",
       "max    230.000000   160.000000    23.000000  "
      ]
     },
     "execution_count": 31,
     "metadata": {},
     "output_type": "execute_result"
    }
   ],
   "source": [
    "df_model.describe()"
   ]
  },
  {
   "cell_type": "markdown",
   "metadata": {},
   "source": [
    "Observations:\n",
    "\n",
    "- Kilometers_Driven has the highest range with max of 6500000 Km.\n",
    "- Engine ranges from 72 CC to 5998 CC.\n",
    "- Most of the cars are 5 seater.\n",
    "- The New_Price car are ranging from 3.91 Lakh to 2.3 cr.\n",
    "- The model of cars are maximum 23 years old.\n"
   ]
  },
  {
   "cell_type": "markdown",
   "metadata": {},
   "source": [
    "## There are outliers present in most of the feature present in the dataset. We would need to remove this.\n",
    "- Here we are using IQR method.\n",
    "- There is no much skewneess present in the data."
   ]
  },
  {
   "cell_type": "markdown",
   "metadata": {},
   "source": [
    "**Missig Value Treatment by column median grouped by 'Brand' name**"
   ]
  },
  {
   "cell_type": "code",
   "execution_count": 32,
   "metadata": {},
   "outputs": [],
   "source": [
    "columns = df_model.select_dtypes(include=np.number).columns.tolist()\n",
    "for col in columns:\n",
    "    df_model[col] = df_model[col].fillna(df_model.groupby('Brand')[col].transform('median'))  #treating by column median\n"
   ]
  },
  {
   "cell_type": "code",
   "execution_count": 33,
   "metadata": {},
   "outputs": [],
   "source": [
    "#there are still few missing value where there was no value present for all of the cars in the Brand\n",
    "\n",
    "Filler = lambda x: x.fillna(x.mean())\n",
    "columns = ['Mileage','Power', 'New_Price']\n",
    "df_model[columns] = df_model[columns].apply(Filler,axis=0)"
   ]
  },
  {
   "cell_type": "markdown",
   "metadata": {},
   "source": [
    "## Outlier Treatment"
   ]
  },
  {
   "cell_type": "code",
   "execution_count": 34,
   "metadata": {},
   "outputs": [],
   "source": [
    "# outliers action\n",
    "def outliers_action(df,col):\n",
    "    '''\n",
    "    treats outliers in a varaible\n",
    "    col: str, name of the numerical varaible\n",
    "    df: data frame\n",
    "    col: name of the column\n",
    "    '''\n",
    "    Q1=df[col].quantile(0.25) # 25th quantile\n",
    "    Q3=df[col].quantile(0.75)  # 75th quantile\n",
    "    IQR=Q3-Q1\n",
    "    Lower_Whisker = Q1 - 1.5*IQR \n",
    "    Upper_Whisker = Q3 + 1.5*IQR\n",
    "    df[col] = np.clip(df[col], Lower_Whisker, Upper_Whisker) # all the values samller than Lower_Whisker will be assigned value of Lower_whisker \n",
    "                                                            # and all the values above upper_whishker will be assigned value of upper_Whisker \n",
    "    return df\n",
    "\n",
    "def outliers_action_all(df, col_list):\n",
    "    '''\n",
    "    treat outlier in all numerical varaibles\n",
    "    col_list: list of numerical varaibles\n",
    "    df: data frame\n",
    "    '''\n",
    "    for c in col_list:\n",
    "        df = outliers_action(df,c)\n",
    "        \n",
    "    return df\n",
    "\n",
    "\n",
    "numerical_col = df_model.select_dtypes(include=np.number).columns.tolist()\n",
    "\n",
    "df_model = outliers_action_all(df_model,numerical_col)"
   ]
  },
  {
   "cell_type": "code",
   "execution_count": 35,
   "metadata": {},
   "outputs": [
    {
     "data": {
      "image/png": "[encoded data removed]",
      "text/plain": [
       "<Figure size 1440x2160 with 8 Axes>"
      ]
     },
     "metadata": {},
     "output_type": "display_data"
    }
   ],
   "source": [
    "# lets look at box plot to see if outliers has been treated or not\n",
    "plt.figure(figsize=(20,30))\n",
    "\n",
    "for i, variable in enumerate(numeric_col1):\n",
    "                     plt.subplot(5,4,i+1)\n",
    "                     sns.boxplot(df_model[variable],orient = \"h\"  , whis=1.5)\n",
    "                     plt.tight_layout()\n",
    "                     plt.title(variable)\n",
    "\n",
    "plt.show()"
   ]
  },
  {
   "cell_type": "markdown",
   "metadata": {},
   "source": [
    "# Distributions"
   ]
  },
  {
   "cell_type": "code",
   "execution_count": 36,
   "metadata": {},
   "outputs": [
    {
     "data": {
      "text/html": [
       "<div>\n",
       "<style scoped>\n",
       "    .dataframe tbody tr th:only-of-type {\n",
       "        vertical-align: middle;\n",
       "    }\n",
       "\n",
       "    .dataframe tbody tr th {\n",
       "        vertical-align: top;\n",
       "    }\n",
       "\n",
       "    .dataframe thead th {\n",
       "        text-align: right;\n",
       "    }\n",
       "</style>\n",
       "<table border=\"1\" class=\"dataframe\">\n",
       "  <thead>\n",
       "    <tr style=\"text-align: right;\">\n",
       "      <th></th>\n",
       "      <th>Kilometers_Driven</th>\n",
       "      <th>Mileage</th>\n",
       "      <th>Engine</th>\n",
       "      <th>Power</th>\n",
       "      <th>Seats</th>\n",
       "      <th>New_Price</th>\n",
       "      <th>Price</th>\n",
       "      <th>Age</th>\n",
       "    </tr>\n",
       "  </thead>\n",
       "  <tbody>\n",
       "    <tr>\n",
       "      <th>count</th>\n",
       "      <td>6019.000000</td>\n",
       "      <td>6019.000000</td>\n",
       "      <td>6019.000000</td>\n",
       "      <td>6019.000000</td>\n",
       "      <td>6019.0</td>\n",
       "      <td>6019.000000</td>\n",
       "      <td>6019.000000</td>\n",
       "      <td>6019.000000</td>\n",
       "    </tr>\n",
       "    <tr>\n",
       "      <th>mean</th>\n",
       "      <td>56106.896661</td>\n",
       "      <td>18.317169</td>\n",
       "      <td>1612.584898</td>\n",
       "      <td>111.055054</td>\n",
       "      <td>5.0</td>\n",
       "      <td>17.373403</td>\n",
       "      <td>7.708463</td>\n",
       "      <td>7.625851</td>\n",
       "    </tr>\n",
       "    <tr>\n",
       "      <th>std</th>\n",
       "      <td>30040.626708</td>\n",
       "      <td>4.140846</td>\n",
       "      <td>569.716189</td>\n",
       "      <td>46.840288</td>\n",
       "      <td>0.0</td>\n",
       "      <td>13.835008</td>\n",
       "      <td>5.769853</td>\n",
       "      <td>3.213540</td>\n",
       "    </tr>\n",
       "    <tr>\n",
       "      <th>min</th>\n",
       "      <td>171.000000</td>\n",
       "      <td>6.575000</td>\n",
       "      <td>72.000000</td>\n",
       "      <td>34.200000</td>\n",
       "      <td>5.0</td>\n",
       "      <td>3.910000</td>\n",
       "      <td>0.440000</td>\n",
       "      <td>2.000000</td>\n",
       "    </tr>\n",
       "    <tr>\n",
       "      <th>25%</th>\n",
       "      <td>34000.000000</td>\n",
       "      <td>15.290000</td>\n",
       "      <td>1197.000000</td>\n",
       "      <td>75.000000</td>\n",
       "      <td>5.0</td>\n",
       "      <td>8.160000</td>\n",
       "      <td>3.500000</td>\n",
       "      <td>5.000000</td>\n",
       "    </tr>\n",
       "    <tr>\n",
       "      <th>50%</th>\n",
       "      <td>53000.000000</td>\n",
       "      <td>18.200000</td>\n",
       "      <td>1493.000000</td>\n",
       "      <td>93.700000</td>\n",
       "      <td>5.0</td>\n",
       "      <td>10.940000</td>\n",
       "      <td>5.640000</td>\n",
       "      <td>7.000000</td>\n",
       "    </tr>\n",
       "    <tr>\n",
       "      <th>75%</th>\n",
       "      <td>73000.000000</td>\n",
       "      <td>21.100000</td>\n",
       "      <td>1984.000000</td>\n",
       "      <td>138.100000</td>\n",
       "      <td>5.0</td>\n",
       "      <td>23.250000</td>\n",
       "      <td>9.950000</td>\n",
       "      <td>10.000000</td>\n",
       "    </tr>\n",
       "    <tr>\n",
       "      <th>max</th>\n",
       "      <td>131500.000000</td>\n",
       "      <td>29.815000</td>\n",
       "      <td>3164.500000</td>\n",
       "      <td>232.750000</td>\n",
       "      <td>5.0</td>\n",
       "      <td>45.885000</td>\n",
       "      <td>19.625000</td>\n",
       "      <td>17.500000</td>\n",
       "    </tr>\n",
       "  </tbody>\n",
       "</table>\n",
       "</div>"
      ],
      "text/plain": [
       "       Kilometers_Driven      Mileage       Engine        Power   Seats  \\\n",
       "count        6019.000000  6019.000000  6019.000000  6019.000000  6019.0   \n",
       "mean        56106.896661    18.317169  1612.584898   111.055054     5.0   \n",
       "std         30040.626708     4.140846   569.716189    46.840288     0.0   \n",
       "min           171.000000     6.575000    72.000000    34.200000     5.0   \n",
       "25%         34000.000000    15.290000  1197.000000    75.000000     5.0   \n",
       "50%         53000.000000    18.200000  1493.000000    93.700000     5.0   \n",
       "75%         73000.000000    21.100000  1984.000000   138.100000     5.0   \n",
       "max        131500.000000    29.815000  3164.500000   232.750000     5.0   \n",
       "\n",
       "         New_Price        Price          Age  \n",
       "count  6019.000000  6019.000000  6019.000000  \n",
       "mean     17.373403     7.708463     7.625851  \n",
       "std      13.835008     5.769853     3.213540  \n",
       "min       3.910000     0.440000     2.000000  \n",
       "25%       8.160000     3.500000     5.000000  \n",
       "50%      10.940000     5.640000     7.000000  \n",
       "75%      23.250000     9.950000    10.000000  \n",
       "max      45.885000    19.625000    17.500000  "
      ]
     },
     "execution_count": 36,
     "metadata": {},
     "output_type": "execute_result"
    }
   ],
   "source": [
    "df_model.describe()"
   ]
  },
  {
   "cell_type": "markdown",
   "metadata": {},
   "source": [
    "- In the new_price feature, right skewness can be seen in the data. \n",
    "- In all the other feature, there is no signifcant skewness."
   ]
  },
  {
   "cell_type": "code",
   "execution_count": 37,
   "metadata": {},
   "outputs": [
    {
     "data": {
      "image/png": "[encoded data removed]",
      "text/plain": [
       "<Figure size 1440x2160 with 8 Axes>"
      ]
     },
     "metadata": {},
     "output_type": "display_data"
    }
   ],
   "source": [
    "# lets look at box plot to see if outliers has been treated or not\n",
    "plt.figure(figsize=(20,30))\n",
    "\n",
    "for i, variable in enumerate(numeric_col1):\n",
    "                     plt.subplot(5,4,i+1)\n",
    "                     sns.boxplot(df_model[variable],orient = \"h\"  , whis=1.5)\n",
    "                     plt.tight_layout()\n",
    "                     plt.title(variable)\n",
    "\n",
    "plt.show()"
   ]
  },
  {
   "cell_type": "markdown",
   "metadata": {},
   "source": [
    "## Log Transformations"
   ]
  },
  {
   "cell_type": "code",
   "execution_count": 38,
   "metadata": {},
   "outputs": [],
   "source": [
    "df_model['New_Price' + '_log'] = np.log(df_model['New_Price'] + 1)\n",
    "df_model['Age' + '_log'] = np.log(df_model['Age'] + 1)\n",
    "df_model['Power' + '_log'] = np.log(df_model['Power'] + 1)\n",
    "df_model['Kilometers_Driven' + '_log'] = np.log(df_model['Kilometers_Driven'] + 1)"
   ]
  },
  {
   "cell_type": "code",
   "execution_count": 39,
   "metadata": {},
   "outputs": [
    {
     "data": {
      "image/png": "[encoded data removed]",
      "text/plain": [
       "<Figure size 1440x2160 with 3 Axes>"
      ]
     },
     "metadata": {},
     "output_type": "display_data"
    }
   ],
   "source": [
    "#After Log-Transformation\n",
    "numeric_col2 = ['New_Price_log','Age_log','Power_log']\n",
    "# lets look at box plot to see if outliers has been treated or not\n",
    "plt.figure(figsize=(20,30))\n",
    "\n",
    "for i, variable in enumerate(numeric_col2):\n",
    "                     plt.subplot(5,4,i+1)\n",
    "                     sns.boxplot(df_model[variable],orient = \"h\"  , whis=1.5)\n",
    "                     plt.tight_layout()\n",
    "                     plt.title(variable)\n",
    "\n",
    "plt.show()"
   ]
  },
  {
   "cell_type": "markdown",
   "metadata": {},
   "source": [
    "- Skewness removed well after log-transformation."
   ]
  },
  {
   "cell_type": "code",
   "execution_count": 40,
   "metadata": {},
   "outputs": [],
   "source": [
    "number_col = df_model.select_dtypes(include=np.number).columns.tolist()\n",
    "number_col.remove('Price') # Price as Label for the model (Dependent Variable)\n",
    "number_col.remove('New_Price')\n",
    "number_col.remove('Power') \n",
    "number_col.remove('Age') \n",
    "number_col.remove('Kilometers_Driven')  # since we will be using log-transformed value\n",
    "\n",
    "df_model[number_col] = MinMaxScaler().fit_transform(df_model[number_col])  #Scaling \n",
    "#df_model[number_col] = StandardScaler().fit_transform(df_model[number_col]) "
   ]
  },
  {
   "cell_type": "code",
   "execution_count": 41,
   "metadata": {},
   "outputs": [],
   "source": [
    "#dropeed Price column (since it's label)\n",
    "model_col = ['Location', 'Fuel_Type', 'Transmission','Owner_Type', 'Mileage', 'Engine', 'Seats', 'Brand', 'New_Price_log', 'Age_log', 'Power_log','Kilometers_Driven_log']"
   ]
  },
  {
   "cell_type": "code",
   "execution_count": 42,
   "metadata": {},
   "outputs": [
    {
     "name": "stdout",
     "output_type": "stream",
     "text": [
      "     Location Fuel_Type Transmission Owner_Type   Mileage    Engine  Seats  \\\n",
      "0      Mumbai       CNG       Manual      First  0.861661  0.299434    0.0   \n",
      "1        Pune    Diesel       Manual      First  0.563468  0.488278    0.0   \n",
      "2     Chennai    Petrol       Manual      First  0.500215  0.364430    0.0   \n",
      "3     Chennai    Diesel       Manual      First  0.610800  0.380275    0.0   \n",
      "4  Coimbatore    Diesel    Automatic     Second  0.371127  0.613096    0.0   \n",
      "\n",
      "     Brand  New_Price_log   Age_log  Power_log  Kilometers_Driven_log  \n",
      "0   MARUTI       0.264091  0.762053   0.274244               0.909277  \n",
      "1  HYUNDAI       0.327908  0.465764   0.678592               0.824466  \n",
      "2    HONDA       0.297608  0.714222   0.494096               0.841797  \n",
      "3   MARUTI       0.264091  0.661830   0.494449               0.937780  \n",
      "4     AUDI       1.000000  0.603912   0.735985               0.823249  \n",
      "   Price\n",
      "0   1.75\n",
      "1  12.50\n",
      "2   4.50\n",
      "3   6.00\n",
      "4  17.74\n"
     ]
    }
   ],
   "source": [
    "#Defining X and y variables\n",
    "X = df_model[model_col]\n",
    "y = df_model[['Price']]\n",
    "\n",
    "print(X.head())\n",
    "print(y.head())"
   ]
  },
  {
   "cell_type": "code",
   "execution_count": 43,
   "metadata": {},
   "outputs": [],
   "source": [
    "#categorical columns - encoding\n",
    "\n",
    "cat_col = df_model.select_dtypes(include='category').columns.tolist()\n",
    "X = pd.get_dummies(X, columns=cat_col, drop_first=True)"
   ]
  },
  {
   "cell_type": "markdown",
   "metadata": {},
   "source": [
    "## Model Building : Linear Regression"
   ]
  },
  {
   "cell_type": "code",
   "execution_count": 44,
   "metadata": {},
   "outputs": [],
   "source": [
    "#split the data into train and test\n",
    "\n",
    "X_train, X_test, y_train, y_test = train_test_split(X, y, test_size=0.3, random_state=42)"
   ]
  },
  {
   "cell_type": "code",
   "execution_count": 45,
   "metadata": {},
   "outputs": [
    {
     "data": {
      "text/plain": [
       "LinearRegression()"
      ]
     },
     "execution_count": 45,
     "metadata": {},
     "output_type": "execute_result"
    }
   ],
   "source": [
    "#Fitting linear model\n",
    "lin_reg_model = LinearRegression()                                    \n",
    "lin_reg_model.fit(X_train, y_train)                                  \n",
    "\n",
    "#pred = linearregression.predict(X_test) "
   ]
  },
  {
   "cell_type": "markdown",
   "metadata": {},
   "source": [
    "- relationship with dependent variable"
   ]
  },
  {
   "cell_type": "code",
   "execution_count": 46,
   "metadata": {},
   "outputs": [
    {
     "name": "stdout",
     "output_type": "stream",
     "text": [
      "                           Coefficients\n",
      "Mileage                   -3.035694e+00\n",
      "Engine                     2.834040e+00\n",
      "Seats                     -3.286260e-13\n",
      "New_Price_log              5.296511e+00\n",
      "Age_log                   -9.164603e+00\n",
      "Power_log                  7.251090e+00\n",
      "Kilometers_Driven_log     -2.083198e+00\n",
      "Location_Bangalore         7.605267e-01\n",
      "Location_Chennai          -4.857405e-02\n",
      "Location_Coimbatore        2.737760e-01\n",
      "Location_Delhi            -5.192673e-01\n",
      "Location_Hyderabad         4.334254e-01\n",
      "Location_Jaipur           -9.146858e-02\n",
      "Location_Kochi            -4.334549e-01\n",
      "Location_Kolkata          -1.212974e+00\n",
      "Location_Mumbai           -4.336635e-01\n",
      "Location_Pune             -2.507566e-01\n",
      "Fuel_Type_Diesel           5.955397e-01\n",
      "Fuel_Type_Electric         8.429999e+00\n",
      "Fuel_Type_LPG             -2.238350e-01\n",
      "Fuel_Type_Petrol          -9.813079e-01\n",
      "Transmission_Manual       -1.127161e+00\n",
      "Owner_Type_Fourth & Above -1.653510e+00\n",
      "Owner_Type_Second         -3.967083e-01\n",
      "Owner_Type_Third          -1.001439e+00\n",
      "Brand_AUDI                 2.012398e+00\n",
      "Brand_BENTLEY              4.884981e-15\n",
      "Brand_BMW                  1.246474e+00\n",
      "Brand_CHEVROLET           -3.756787e+00\n",
      "Brand_DATSUN              -9.414914e-01\n",
      "Brand_FIAT                -1.667307e+00\n",
      "Brand_FORCE               -2.658373e+00\n",
      "Brand_FORD                -1.436912e+00\n",
      "Brand_HONDA               -1.566265e+00\n",
      "Brand_HYUNDAI             -8.655233e-01\n",
      "Brand_ISUZU               -2.837417e+00\n",
      "Brand_JAGUAR               2.525361e+00\n",
      "Brand_JEEP                 2.927441e+00\n",
      "Brand_LAMBORGHINI          6.519269e+00\n",
      "Brand_LAND                 2.515840e+00\n",
      "Brand_MAHINDRA            -1.907688e+00\n",
      "Brand_MARUTI              -1.977735e-01\n",
      "Brand_MERCEDES-BENZ        8.636723e-01\n",
      "Brand_MINI                 5.521455e+00\n",
      "Brand_MITSUBISHI          -2.386282e+00\n",
      "Brand_NISSAN              -1.375664e+00\n",
      "Brand_PORSCHE              3.258236e+00\n",
      "Brand_RENAULT             -8.928861e-02\n",
      "Brand_SKODA               -3.328035e+00\n",
      "Brand_SMART                0.000000e+00\n",
      "Brand_TATA                -2.070264e+00\n",
      "Brand_TOYOTA              -3.245336e-01\n",
      "Brand_VOLKSWAGEN          -1.786628e+00\n",
      "Brand_VOLVO                1.806087e+00\n",
      "Intercept                  9.680348e+00\n"
     ]
    }
   ],
   "source": [
    "coef_df = pd.DataFrame(np.append(lin_reg_model.coef_.flatten(), lin_reg_model.intercept_), \\\n",
    "                       index=X_train.columns.tolist()+['Intercept'], columns=['Coefficients'])\n",
    "print(coef_df)"
   ]
  },
  {
   "cell_type": "markdown",
   "metadata": {},
   "source": [
    "### Insights\n",
    "\n",
    "- Power (+) and Age of Car (-) seems to be significant factor in determining the price of old car."
   ]
  },
  {
   "cell_type": "code",
   "execution_count": 47,
   "metadata": {},
   "outputs": [],
   "source": [
    "# MAPE\n",
    "def mape(targets, predictions):\n",
    "    return np.mean(np.abs((targets - predictions)) / targets) * 100\n",
    "\n",
    "# Adjusted R^2\n",
    "def adj_r2(ind_vars, targets, predictions):\n",
    "    r2 = r2_score(targets, predictions)\n",
    "    n = ind_vars.shape[0]\n",
    "    k = ind_vars.shape[1]\n",
    "    return 1-((1-r2)*(n-1)/(n-k-1))\n",
    "\n",
    "# Model performance check\n",
    "def model_perf(model, inp, out):\n",
    "\n",
    "    y_pred = model.predict(inp)\n",
    "    y_act = out.values\n",
    "\n",
    "    return pd.DataFrame({\n",
    "                \"RMSE\": np.sqrt(mean_squared_error(y_act, y_pred)),\n",
    "                \"MAE\": mean_absolute_error(y_act, y_pred),\n",
    "                \"MAPE\": mape(y_act, y_pred),\n",
    "                \"R^2\": r2_score(y_act, y_pred),\n",
    "                \"Adjusted R^2\": adj_r2(inp, y_act, y_pred)\n",
    "           }, index=[0])"
   ]
  },
  {
   "cell_type": "code",
   "execution_count": 48,
   "metadata": {},
   "outputs": [
    {
     "name": "stdout",
     "output_type": "stream",
     "text": [
      "Training Performance\n",
      "\n",
      "       RMSE       MAE       MAPE       R^2  Adjusted R^2\n",
      "0  1.837957  1.338588  27.893571  0.897676      0.896347\n"
     ]
    }
   ],
   "source": [
    "# Checking model performance on train set\n",
    "print('Training Performance\\n')\n",
    "print(model_perf(lin_reg_model, X_train, y_train))"
   ]
  },
  {
   "cell_type": "markdown",
   "metadata": {},
   "source": [
    "- Adjusted $R^2$ in training data is 0.896"
   ]
  },
  {
   "cell_type": "code",
   "execution_count": 49,
   "metadata": {},
   "outputs": [
    {
     "name": "stdout",
     "output_type": "stream",
     "text": [
      "Test Performance\n",
      "\n",
      "       RMSE       MAE       MAPE       R^2  Adjusted R^2\n",
      "0  1.926967  1.369653  28.903067  0.890531      0.887155\n"
     ]
    }
   ],
   "source": [
    "# Checking model performance on test set\n",
    "print('Test Performance\\n')\n",
    "print(model_perf(lin_reg_model, X_test, y_test))"
   ]
  },
  {
   "cell_type": "markdown",
   "metadata": {},
   "source": [
    "- Adjusted $R^2$ in test data is achieved to 0.887\n",
    "- Also R2 differ in train and test is less than 0.01, that reflects that model is not overfitted."
   ]
  },
  {
   "cell_type": "markdown",
   "metadata": {},
   "source": [
    "--------"
   ]
  },
  {
   "cell_type": "markdown",
   "metadata": {},
   "source": [
    "--------"
   ]
  },
  {
   "cell_type": "markdown",
   "metadata": {},
   "source": [
    "# Coefficient Importance : \n",
    "\n",
    "1. Power and Year(Age) come out to be very signifcant, as expected. As age of the car increases, the price decreases, as visible in the negative coefficient sign.\n",
    "\n",
    "2. We can also see the significant impact of places and brand on the prices of used cars.\n",
    "\n",
    "3. Electric and LPG cars are on good demand, that can be seen with the higher positive coefficient sign.\n",
    "\n",
    "4. We can also see the clear the relevance of owner_type (Second, Third and Fourth & Above)\n",
    "\n",
    "5. Engine and Power are positively correlated.\n",
    "\n",
    "6. Automatic Transmission type adds up in the total price in comparison with Manual one."
   ]
  },
  {
   "cell_type": "markdown",
   "metadata": {},
   "source": [
    "----"
   ]
  },
  {
   "cell_type": "markdown",
   "metadata": {},
   "source": [
    "## Additional - Higher order regression with LASSO/RIDGE\n",
    "- We may achieve higher accuracy with higher order Linear Regression using Lasso and Reg."
   ]
  },
  {
   "cell_type": "code",
   "execution_count": 50,
   "metadata": {},
   "outputs": [],
   "source": [
    "poly = PolynomialFeatures(degree=2, interaction_only=False)\n",
    "X_train2 = poly.fit_transform(X_train)\n",
    "X_test2 = poly.fit_transform(X_test)"
   ]
  },
  {
   "cell_type": "markdown",
   "metadata": {},
   "source": [
    "**LASSO**"
   ]
  },
  {
   "cell_type": "code",
   "execution_count": 51,
   "metadata": {},
   "outputs": [],
   "source": [
    "poly_clf = linear_model.Lasso(alpha=0.0005)\n",
    "\n",
    "poly_clf.fit(X_train2, y_train)\n",
    "\n",
    "y_pred_l = poly_clf.predict(X_test2)"
   ]
  },
  {
   "cell_type": "code",
   "execution_count": 52,
   "metadata": {},
   "outputs": [
    {
     "name": "stdout",
     "output_type": "stream",
     "text": [
      "*************\n",
      "Adjusted R2 in Training Data :  0.9471542372702499\n",
      "*************\n"
     ]
    }
   ],
   "source": [
    "#In sample (training) R^2 will always improve with the number of variables!\n",
    "print('*************')\n",
    "print('Adjusted R2 in Training Data : ', poly_clf.score(X_train2, y_train))\n",
    "print('*************')"
   ]
  },
  {
   "cell_type": "code",
   "execution_count": 53,
   "metadata": {},
   "outputs": [
    {
     "name": "stdout",
     "output_type": "stream",
     "text": [
      "*************\n",
      "Adjusted R2 in Training Data :  0.9195188608853634\n",
      "*************\n"
     ]
    }
   ],
   "source": [
    "#Out off sample (testing) R^2 is our measure of sucess and does improve\n",
    "print('*************')\n",
    "print('Adjusted R2 in Training Data : ', poly_clf.score(X_test2, y_test))\n",
    "print('*************')"
   ]
  },
  {
   "cell_type": "markdown",
   "metadata": {},
   "source": [
    "**RIDGE**"
   ]
  },
  {
   "cell_type": "code",
   "execution_count": 54,
   "metadata": {},
   "outputs": [],
   "source": [
    "poly_clf_r = linear_model.Ridge(alpha=0.2)\n",
    "\n",
    "poly_clf_r.fit(X_train2, y_train)\n",
    "\n",
    "y_pred_r= poly_clf_r.predict(X_test2)"
   ]
  },
  {
   "cell_type": "code",
   "execution_count": 55,
   "metadata": {},
   "outputs": [
    {
     "name": "stdout",
     "output_type": "stream",
     "text": [
      "*************\n",
      "Adjusted R2 in Training Data :  0.9516159258100064\n",
      "*************\n"
     ]
    }
   ],
   "source": [
    "#In sample (training) R^2 will always improve with the number of variables!\n",
    "print('*************')\n",
    "print('Adjusted R2 in Training Data : ', poly_clf_r.score(X_train2, y_train))\n",
    "print('*************')"
   ]
  },
  {
   "cell_type": "code",
   "execution_count": 56,
   "metadata": {},
   "outputs": [
    {
     "name": "stdout",
     "output_type": "stream",
     "text": [
      "*************\n",
      "Adjusted R2 in Training Data :  0.9185633067769043\n",
      "*************\n"
     ]
    }
   ],
   "source": [
    "#Out off sample (testing) R^2 is our measure of sucess and does improve\n",
    "print('*************')\n",
    "print('Adjusted R2 in Training Data : ', poly_clf_r.score(X_test2, y_test))\n",
    "print('*************')"
   ]
  },
  {
   "cell_type": "markdown",
   "metadata": {},
   "source": [
    "----"
   ]
  },
  {
   "cell_type": "markdown",
   "metadata": {},
   "source": [
    "------"
   ]
  },
  {
   "cell_type": "markdown",
   "metadata": {},
   "source": [
    "# Test assumptions of linear regression model\n",
    "1. **No Multicollinearity**\n",
    "2. **Mean of residuals should be 0**\n",
    "3. **No Heteroscedacity**\n",
    "4. **Linearity of variables**\n",
    "5. **Normality of error terms**"
   ]
  },
  {
   "cell_type": "code",
   "execution_count": 57,
   "metadata": {},
   "outputs": [
    {
     "data": {
      "text/html": [
       "<div>\n",
       "<style scoped>\n",
       "    .dataframe tbody tr th:only-of-type {\n",
       "        vertical-align: middle;\n",
       "    }\n",
       "\n",
       "    .dataframe tbody tr th {\n",
       "        vertical-align: top;\n",
       "    }\n",
       "\n",
       "    .dataframe thead th {\n",
       "        text-align: right;\n",
       "    }\n",
       "</style>\n",
       "<table border=\"1\" class=\"dataframe\">\n",
       "  <thead>\n",
       "    <tr style=\"text-align: right;\">\n",
       "      <th></th>\n",
       "      <th>Mileage</th>\n",
       "      <th>Engine</th>\n",
       "      <th>Seats</th>\n",
       "      <th>New_Price_log</th>\n",
       "      <th>Age_log</th>\n",
       "      <th>Power_log</th>\n",
       "      <th>Kilometers_Driven_log</th>\n",
       "      <th>Location_Bangalore</th>\n",
       "      <th>Location_Chennai</th>\n",
       "      <th>Location_Coimbatore</th>\n",
       "      <th>...</th>\n",
       "      <th>Brand_NISSAN</th>\n",
       "      <th>Brand_PORSCHE</th>\n",
       "      <th>Brand_RENAULT</th>\n",
       "      <th>Brand_SKODA</th>\n",
       "      <th>Brand_SMART</th>\n",
       "      <th>Brand_TATA</th>\n",
       "      <th>Brand_TOYOTA</th>\n",
       "      <th>Brand_VOLKSWAGEN</th>\n",
       "      <th>Brand_VOLVO</th>\n",
       "      <th>const</th>\n",
       "    </tr>\n",
       "  </thead>\n",
       "  <tbody>\n",
       "    <tr>\n",
       "      <th>0</th>\n",
       "      <td>0.861661</td>\n",
       "      <td>0.299434</td>\n",
       "      <td>0.0</td>\n",
       "      <td>0.264091</td>\n",
       "      <td>0.762053</td>\n",
       "      <td>0.274244</td>\n",
       "      <td>0.909277</td>\n",
       "      <td>0</td>\n",
       "      <td>0</td>\n",
       "      <td>0</td>\n",
       "      <td>...</td>\n",
       "      <td>0</td>\n",
       "      <td>0</td>\n",
       "      <td>0</td>\n",
       "      <td>0</td>\n",
       "      <td>0</td>\n",
       "      <td>0</td>\n",
       "      <td>0</td>\n",
       "      <td>0</td>\n",
       "      <td>0</td>\n",
       "      <td>1</td>\n",
       "    </tr>\n",
       "    <tr>\n",
       "      <th>1</th>\n",
       "      <td>0.563468</td>\n",
       "      <td>0.488278</td>\n",
       "      <td>0.0</td>\n",
       "      <td>0.327908</td>\n",
       "      <td>0.465764</td>\n",
       "      <td>0.678592</td>\n",
       "      <td>0.824466</td>\n",
       "      <td>0</td>\n",
       "      <td>0</td>\n",
       "      <td>0</td>\n",
       "      <td>...</td>\n",
       "      <td>0</td>\n",
       "      <td>0</td>\n",
       "      <td>0</td>\n",
       "      <td>0</td>\n",
       "      <td>0</td>\n",
       "      <td>0</td>\n",
       "      <td>0</td>\n",
       "      <td>0</td>\n",
       "      <td>0</td>\n",
       "      <td>1</td>\n",
       "    </tr>\n",
       "    <tr>\n",
       "      <th>2</th>\n",
       "      <td>0.500215</td>\n",
       "      <td>0.364430</td>\n",
       "      <td>0.0</td>\n",
       "      <td>0.297608</td>\n",
       "      <td>0.714222</td>\n",
       "      <td>0.494096</td>\n",
       "      <td>0.841797</td>\n",
       "      <td>0</td>\n",
       "      <td>1</td>\n",
       "      <td>0</td>\n",
       "      <td>...</td>\n",
       "      <td>0</td>\n",
       "      <td>0</td>\n",
       "      <td>0</td>\n",
       "      <td>0</td>\n",
       "      <td>0</td>\n",
       "      <td>0</td>\n",
       "      <td>0</td>\n",
       "      <td>0</td>\n",
       "      <td>0</td>\n",
       "      <td>1</td>\n",
       "    </tr>\n",
       "    <tr>\n",
       "      <th>3</th>\n",
       "      <td>0.610800</td>\n",
       "      <td>0.380275</td>\n",
       "      <td>0.0</td>\n",
       "      <td>0.264091</td>\n",
       "      <td>0.661830</td>\n",
       "      <td>0.494449</td>\n",
       "      <td>0.937780</td>\n",
       "      <td>0</td>\n",
       "      <td>1</td>\n",
       "      <td>0</td>\n",
       "      <td>...</td>\n",
       "      <td>0</td>\n",
       "      <td>0</td>\n",
       "      <td>0</td>\n",
       "      <td>0</td>\n",
       "      <td>0</td>\n",
       "      <td>0</td>\n",
       "      <td>0</td>\n",
       "      <td>0</td>\n",
       "      <td>0</td>\n",
       "      <td>1</td>\n",
       "    </tr>\n",
       "    <tr>\n",
       "      <th>4</th>\n",
       "      <td>0.371127</td>\n",
       "      <td>0.613096</td>\n",
       "      <td>0.0</td>\n",
       "      <td>1.000000</td>\n",
       "      <td>0.603912</td>\n",
       "      <td>0.735985</td>\n",
       "      <td>0.823249</td>\n",
       "      <td>0</td>\n",
       "      <td>0</td>\n",
       "      <td>1</td>\n",
       "      <td>...</td>\n",
       "      <td>0</td>\n",
       "      <td>0</td>\n",
       "      <td>0</td>\n",
       "      <td>0</td>\n",
       "      <td>0</td>\n",
       "      <td>0</td>\n",
       "      <td>0</td>\n",
       "      <td>0</td>\n",
       "      <td>0</td>\n",
       "      <td>1</td>\n",
       "    </tr>\n",
       "  </tbody>\n",
       "</table>\n",
       "<p>5 rows × 55 columns</p>\n",
       "</div>"
      ],
      "text/plain": [
       "    Mileage    Engine  Seats  New_Price_log   Age_log  Power_log  \\\n",
       "0  0.861661  0.299434    0.0       0.264091  0.762053   0.274244   \n",
       "1  0.563468  0.488278    0.0       0.327908  0.465764   0.678592   \n",
       "2  0.500215  0.364430    0.0       0.297608  0.714222   0.494096   \n",
       "3  0.610800  0.380275    0.0       0.264091  0.661830   0.494449   \n",
       "4  0.371127  0.613096    0.0       1.000000  0.603912   0.735985   \n",
       "\n",
       "   Kilometers_Driven_log  Location_Bangalore  Location_Chennai  \\\n",
       "0               0.909277                   0                 0   \n",
       "1               0.824466                   0                 0   \n",
       "2               0.841797                   0                 1   \n",
       "3               0.937780                   0                 1   \n",
       "4               0.823249                   0                 0   \n",
       "\n",
       "   Location_Coimbatore  ...  Brand_NISSAN  Brand_PORSCHE  Brand_RENAULT  \\\n",
       "0                    0  ...             0              0              0   \n",
       "1                    0  ...             0              0              0   \n",
       "2                    0  ...             0              0              0   \n",
       "3                    0  ...             0              0              0   \n",
       "4                    1  ...             0              0              0   \n",
       "\n",
       "   Brand_SKODA  Brand_SMART  Brand_TATA  Brand_TOYOTA  Brand_VOLKSWAGEN  \\\n",
       "0            0            0           0             0                 0   \n",
       "1            0            0           0             0                 0   \n",
       "2            0            0           0             0                 0   \n",
       "3            0            0           0             0                 0   \n",
       "4            0            0           0             0                 0   \n",
       "\n",
       "   Brand_VOLVO  const  \n",
       "0            0      1  \n",
       "1            0      1  \n",
       "2            0      1  \n",
       "3            0      1  \n",
       "4            0      1  \n",
       "\n",
       "[5 rows x 55 columns]"
      ]
     },
     "execution_count": 57,
     "metadata": {},
     "output_type": "execute_result"
    }
   ],
   "source": [
    "# to compute VIF, we first have to add a constant column having value 1 to our input variables\n",
    "\n",
    "X1 = X.copy()\n",
    "X1['const'] = 1\n",
    "X1.head()"
   ]
  },
  {
   "cell_type": "code",
   "execution_count": 58,
   "metadata": {},
   "outputs": [
    {
     "name": "stdout",
     "output_type": "stream",
     "text": [
      "Series before feature selection: \n",
      "\n",
      "Mileage                         3.804633\n",
      "Engine                          8.039591\n",
      "Seats                                NaN\n",
      "New_Price_log                  31.329093\n",
      "Age_log                         2.339584\n",
      "Power_log                       6.388960\n",
      "Kilometers_Driven_log           1.961133\n",
      "Location_Bangalore              2.485195\n",
      "Location_Chennai                3.004624\n",
      "Location_Coimbatore             3.577823\n",
      "Location_Delhi                  3.179947\n",
      "Location_Hyderabad              3.833266\n",
      "Location_Jaipur                 2.695559\n",
      "Location_Kochi                  3.626911\n",
      "Location_Kolkata                3.156907\n",
      "Location_Mumbai                 4.030190\n",
      "Location_Pune                   3.442678\n",
      "Fuel_Type_Diesel               28.933663\n",
      "Fuel_Type_Electric              1.056534\n",
      "Fuel_Type_LPG                   1.197569\n",
      "Fuel_Type_Petrol               29.687365\n",
      "Transmission_Manual             2.315856\n",
      "Owner_Type_Fourth & Above       1.013240\n",
      "Owner_Type_Second               1.167204\n",
      "Owner_Type_Third                1.109833\n",
      "Brand_AUDI                    233.941194\n",
      "Brand_BENTLEY                   2.029979\n",
      "Brand_BMW                     263.583748\n",
      "Brand_CHEVROLET               121.527605\n",
      "Brand_DATSUN                   14.555322\n",
      "Brand_FIAT                     29.578594\n",
      "Brand_FORCE                     4.056893\n",
      "Brand_FORD                    292.110512\n",
      "Brand_HONDA                   561.833035\n",
      "Brand_HYUNDAI                 928.509516\n",
      "Brand_ISUZU                     4.062897\n",
      "Brand_JAGUAR                   41.872890\n",
      "Brand_JEEP                     16.309289\n",
      "Brand_LAMBORGHINI               2.021011\n",
      "Brand_LAND                     61.917102\n",
      "Brand_MAHINDRA                266.449860\n",
      "Brand_MARUTI                  996.468698\n",
      "Brand_MERCEDES-BENZ           310.370462\n",
      "Brand_MINI                     27.595073\n",
      "Brand_MITSUBISHI               28.333880\n",
      "Brand_NISSAN                   92.846869\n",
      "Brand_PORSCHE                  19.489560\n",
      "Brand_RENAULT                 148.231356\n",
      "Brand_SKODA                   172.552967\n",
      "Brand_SMART                     2.028744\n",
      "Brand_TATA                    186.251593\n",
      "Brand_TOYOTA                  390.498093\n",
      "Brand_VOLKSWAGEN              306.312439\n",
      "Brand_VOLVO                    22.507470\n",
      "const                        6585.967557\n",
      "dtype: float64\n",
      "\n"
     ]
    }
   ],
   "source": [
    "vif_series1 = pd.Series([variance_inflation_factor(X1.values,i) for i in range(X1.shape[1])],index=X1.columns)\n",
    "print('Series before feature selection: \\n\\n{}\\n'.format(vif_series1))"
   ]
  },
  {
   "cell_type": "code",
   "execution_count": 59,
   "metadata": {},
   "outputs": [
    {
     "data": {
      "text/plain": [
       "['Engine',\n",
       " 'New_Price_log',\n",
       " 'Power_log',\n",
       " 'Fuel_Type_Diesel',\n",
       " 'Fuel_Type_Petrol',\n",
       " 'Brand_AUDI',\n",
       " 'Brand_BMW',\n",
       " 'Brand_CHEVROLET',\n",
       " 'Brand_DATSUN',\n",
       " 'Brand_FIAT',\n",
       " 'Brand_FORD',\n",
       " 'Brand_HONDA',\n",
       " 'Brand_HYUNDAI',\n",
       " 'Brand_JAGUAR',\n",
       " 'Brand_JEEP',\n",
       " 'Brand_LAND',\n",
       " 'Brand_MAHINDRA',\n",
       " 'Brand_MARUTI',\n",
       " 'Brand_MERCEDES-BENZ',\n",
       " 'Brand_MINI',\n",
       " 'Brand_MITSUBISHI',\n",
       " 'Brand_NISSAN',\n",
       " 'Brand_PORSCHE',\n",
       " 'Brand_RENAULT',\n",
       " 'Brand_SKODA',\n",
       " 'Brand_TATA',\n",
       " 'Brand_TOYOTA',\n",
       " 'Brand_VOLKSWAGEN',\n",
       " 'Brand_VOLVO',\n",
       " 'const']"
      ]
     },
     "execution_count": 59,
     "metadata": {},
     "output_type": "execute_result"
    }
   ],
   "source": [
    "vif_series1[vif_series1.values >5].index.values.tolist()"
   ]
  },
  {
   "cell_type": "markdown",
   "metadata": {},
   "source": [
    "### Dropping Multicollinear columns"
   ]
  },
  {
   "cell_type": "code",
   "execution_count": 60,
   "metadata": {},
   "outputs": [],
   "source": [
    "# Method to drop all the multicollinear columns and choose which one we should drop\n",
    "def treating_multicollinearity(high_vif_columns, x_train, x_test, y_train, y_test):\n",
    "    \"\"\"\n",
    "    Drop every column that has VIF score greater than 5, one by one.\n",
    "    Look at the adjusted R square of all these models\n",
    "    Look at the RMSE of all these models on test data\n",
    "    \"\"\"\n",
    "    adj_rsq_scores = []\n",
    "    rmse_test_data = []\n",
    "\n",
    "    # build ols models by dropping one of these at a time and observe the Adjusted R-squared\n",
    "    for cols in high_vif_columns:\n",
    "        train = x_train.loc[:, ~x_train.columns.str.startswith(cols)]\n",
    "        test = x_test.loc[:, ~x_test.columns.str.startswith(cols)]\n",
    "        # Create the model\n",
    "        \n",
    "        model = LinearRegression(fit_intercept=False)\n",
    "        model.fit(train, y_train)\n",
    "        # Adj R-Sq\n",
    "        adj_rsq_scores.append(adj_r2(train, y_train, model.predict(train)))\n",
    "        # RMSE (Test data)\n",
    "        y_pred_test_Price = model.predict(test)\n",
    "        y_test_Price = y_test\n",
    "        rmse_test_data.append(np.sqrt(mean_squared_error(y_pred_test_Price, y_test_Price)))\n",
    "\n",
    "    # Add new Adj_Rsq and RMSE after dropping each colmn\n",
    "    temp = pd.DataFrame(\n",
    "        {\n",
    "            \"col\": high_vif_columns,\n",
    "            \"Adj_rsq_after_dropping_col\": adj_rsq_scores,\n",
    "            \"Test RMSE\": rmse_test_data,\n",
    "        }\n",
    "    ).sort_values(by=\"Adj_rsq_after_dropping_col\", ascending=False)\n",
    "\n",
    "    print(temp)"
   ]
  },
  {
   "cell_type": "code",
   "execution_count": 61,
   "metadata": {},
   "outputs": [
    {
     "name": "stdout",
     "output_type": "stream",
     "text": [
      "                    col  Adj_rsq_after_dropping_col     Test RMSE\n",
      "22        Brand_PORSCHE                    0.896347  1.928250e+00\n",
      "26         Brand_TOYOTA                    0.896347  1.927341e+00\n",
      "19           Brand_MINI                    0.896347  1.934513e+00\n",
      "6             Brand_BMW                    0.896347  1.926377e+00\n",
      "7       Brand_CHEVROLET                    0.896347  1.936822e+00\n",
      "8          Brand_DATSUN                    0.896347  1.928300e+00\n",
      "18  Brand_MERCEDES-BENZ                    0.896347  1.926416e+00\n",
      "27     Brand_VOLKSWAGEN                    0.896347  2.310564e+09\n",
      "24          Brand_SKODA                    0.896345  2.572597e+08\n",
      "20     Brand_MITSUBISHI                    0.896344  2.296971e+09\n",
      "11          Brand_HONDA                    0.896343  1.132119e+09\n",
      "5            Brand_AUDI                    0.896341  1.681643e+10\n",
      "17         Brand_MARUTI                    0.896340  4.909423e+09\n",
      "21         Brand_NISSAN                    0.896336  3.673150e+10\n",
      "25           Brand_TATA                    0.896333  9.679777e+09\n",
      "16       Brand_MAHINDRA                    0.896328  6.407547e+10\n",
      "15           Brand_LAND                    0.896327  3.717003e+09\n",
      "14           Brand_JEEP                    0.896322  2.451531e+10\n",
      "10           Brand_FORD                    0.896321  1.780919e+09\n",
      "13         Brand_JAGUAR                    0.896321  6.798404e+09\n",
      "12        Brand_HYUNDAI                    0.896300  3.891758e+09\n",
      "9            Brand_FIAT                    0.896278  7.757905e+09\n",
      "23        Brand_RENAULT                    0.896270  6.570110e+09\n",
      "28          Brand_VOLVO                    0.896257  1.417233e+10\n",
      "3      Fuel_Type_Diesel                    0.896254  1.928331e+00\n",
      "4      Fuel_Type_Petrol                    0.896104  1.927553e+00\n",
      "0                Engine                    0.895333  1.944553e+00\n",
      "1         New_Price_log                    0.894341  1.951774e+00\n",
      "2             Power_log                    0.885386  2.022868e+00\n"
     ]
    }
   ],
   "source": [
    "high_vif_columns = ['Engine',\n",
    " 'New_Price_log',\n",
    " 'Power_log',\n",
    " 'Fuel_Type_Diesel',\n",
    " 'Fuel_Type_Petrol',\n",
    " 'Brand_AUDI',\n",
    " 'Brand_BMW',\n",
    " 'Brand_CHEVROLET',\n",
    " 'Brand_DATSUN',\n",
    " 'Brand_FIAT',\n",
    " 'Brand_FORD',\n",
    " 'Brand_HONDA',\n",
    " 'Brand_HYUNDAI',\n",
    " 'Brand_JAGUAR',\n",
    " 'Brand_JEEP',\n",
    " 'Brand_LAND',\n",
    " 'Brand_MAHINDRA',\n",
    " 'Brand_MARUTI',\n",
    " 'Brand_MERCEDES-BENZ',\n",
    " 'Brand_MINI',\n",
    " 'Brand_MITSUBISHI',\n",
    " 'Brand_NISSAN',\n",
    " 'Brand_PORSCHE',\n",
    " 'Brand_RENAULT',\n",
    " 'Brand_SKODA',\n",
    " 'Brand_TATA',\n",
    " 'Brand_TOYOTA',\n",
    " 'Brand_VOLKSWAGEN',\n",
    " 'Brand_VOLVO']\n",
    "\n",
    "X_train1 = X_train.copy()\n",
    "X_train1['constant'] = 1\n",
    "\n",
    "X_test1 = X_test.copy()\n",
    "X_test1['constant'] = 1\n",
    "\n",
    "treating_multicollinearity(high_vif_columns, X_train1, X_test1, y_train, y_test)"
   ]
  },
  {
   "cell_type": "code",
   "execution_count": 62,
   "metadata": {},
   "outputs": [
    {
     "name": "stdout",
     "output_type": "stream",
     "text": [
      "Series before feature selection: \n",
      "\n",
      "Mileage                         3.965365\n",
      "Engine                          8.346428\n",
      "Seats                                NaN\n",
      "New_Price_log                  32.352179\n",
      "Age_log                         2.338181\n",
      "Power_log                       6.375605\n",
      "Kilometers_Driven_log           1.969902\n",
      "Location_Bangalore              2.598355\n",
      "Location_Chennai                3.020501\n",
      "Location_Coimbatore             3.642759\n",
      "Location_Delhi                  3.266929\n",
      "Location_Hyderabad              3.907857\n",
      "Location_Jaipur                 2.704660\n",
      "Location_Kochi                  3.703929\n",
      "Location_Kolkata                3.231063\n",
      "Location_Mumbai                 4.087389\n",
      "Location_Pune                   3.527679\n",
      "Fuel_Type_Diesel               29.255363\n",
      "Fuel_Type_Electric              1.059270\n",
      "Fuel_Type_LPG                   1.233693\n",
      "Fuel_Type_Petrol               30.168180\n",
      "Transmission_Manual             2.296447\n",
      "Owner_Type_Fourth & Above       1.010482\n",
      "Owner_Type_Second               1.165186\n",
      "Owner_Type_Third                1.116080\n",
      "Brand_AUDI                     15.896017\n",
      "Brand_BENTLEY                        NaN\n",
      "Brand_BMW                      17.295749\n",
      "Brand_CHEVROLET                 9.714081\n",
      "Brand_DATSUN                    2.314340\n",
      "Brand_FIAT                      3.486344\n",
      "Brand_FORCE                     1.213259\n",
      "Brand_FORD                     27.722711\n",
      "Brand_HONDA                    49.882031\n",
      "Brand_HYUNDAI                  88.553894\n",
      "Brand_ISUZU                     1.297715\n",
      "Brand_JAGUAR                    3.652775\n",
      "Brand_JEEP                      2.171211\n",
      "Brand_LAMBORGHINI               1.118598\n",
      "Brand_LAND                      4.759324\n",
      "Brand_MAHINDRA                 24.697746\n",
      "Brand_MARUTI                  100.483698\n",
      "Brand_MERCEDES-BENZ            20.512121\n",
      "Brand_MINI                      2.601203\n",
      "Brand_MITSUBISHI                2.832651\n",
      "Brand_NISSAN                    9.726994\n",
      "Brand_RENAULT                  17.039300\n",
      "Brand_SKODA                    12.717194\n",
      "Brand_SMART                          NaN\n",
      "Brand_TATA                     19.108214\n",
      "Brand_TOYOTA                   29.118559\n",
      "Brand_VOLKSWAGEN               28.307274\n",
      "Brand_VOLVO                     2.523394\n",
      "constant                     1227.062513\n",
      "dtype: float64\n",
      "\n"
     ]
    }
   ],
   "source": [
    "X_train2 = X_train1.drop(['Brand_PORSCHE'], axis=1)\n",
    "vif_series2 = pd.Series([variance_inflation_factor(X_train2.values,i) for i in range(X_train2.shape[1])],index=X_train2.columns)\n",
    "print('Series before feature selection: \\n\\n{}\\n'.format(vif_series2))"
   ]
  },
  {
   "cell_type": "code",
   "execution_count": 63,
   "metadata": {},
   "outputs": [
    {
     "data": {
      "text/plain": [
       "['Engine',\n",
       " 'New_Price_log',\n",
       " 'Power_log',\n",
       " 'Fuel_Type_Diesel',\n",
       " 'Fuel_Type_Petrol',\n",
       " 'Brand_AUDI',\n",
       " 'Brand_BMW',\n",
       " 'Brand_CHEVROLET',\n",
       " 'Brand_FORD',\n",
       " 'Brand_HONDA',\n",
       " 'Brand_HYUNDAI',\n",
       " 'Brand_MAHINDRA',\n",
       " 'Brand_MARUTI',\n",
       " 'Brand_MERCEDES-BENZ',\n",
       " 'Brand_NISSAN',\n",
       " 'Brand_RENAULT',\n",
       " 'Brand_SKODA',\n",
       " 'Brand_TATA',\n",
       " 'Brand_TOYOTA',\n",
       " 'Brand_VOLKSWAGEN',\n",
       " 'constant']"
      ]
     },
     "execution_count": 63,
     "metadata": {},
     "output_type": "execute_result"
    }
   ],
   "source": [
    "vif_series2[vif_series2.values >5].index.values.tolist()"
   ]
  },
  {
   "cell_type": "code",
   "execution_count": 64,
   "metadata": {},
   "outputs": [
    {
     "name": "stdout",
     "output_type": "stream",
     "text": [
      "                    col  Adj_rsq_after_dropping_col     Test RMSE\n",
      "13  Brand_MERCEDES-BENZ                    0.896347  1.926416e+00\n",
      "18         Brand_TOYOTA                    0.896347  1.927341e+00\n",
      "6             Brand_BMW                    0.896347  1.926377e+00\n",
      "7       Brand_CHEVROLET                    0.896347  1.936822e+00\n",
      "19     Brand_VOLKSWAGEN                    0.896347  2.310564e+09\n",
      "16          Brand_SKODA                    0.896345  2.572597e+08\n",
      "9           Brand_HONDA                    0.896343  1.132119e+09\n",
      "5            Brand_AUDI                    0.896341  1.681643e+10\n",
      "12         Brand_MARUTI                    0.896340  4.909423e+09\n",
      "14         Brand_NISSAN                    0.896336  3.673150e+10\n",
      "17           Brand_TATA                    0.896333  9.679777e+09\n",
      "11       Brand_MAHINDRA                    0.896328  6.407547e+10\n",
      "8            Brand_FORD                    0.896321  1.780919e+09\n",
      "10        Brand_HYUNDAI                    0.896300  3.891758e+09\n",
      "15        Brand_RENAULT                    0.896270  6.570110e+09\n",
      "3      Fuel_Type_Diesel                    0.896254  1.928331e+00\n",
      "4      Fuel_Type_Petrol                    0.896104  1.927553e+00\n",
      "0                Engine                    0.895333  1.944553e+00\n",
      "1         New_Price_log                    0.894341  1.951774e+00\n",
      "2             Power_log                    0.885386  2.022868e+00\n"
     ]
    }
   ],
   "source": [
    "high_vif_columns = ['Engine',\n",
    " 'New_Price_log',\n",
    " 'Power_log',\n",
    " 'Fuel_Type_Diesel',\n",
    " 'Fuel_Type_Petrol',\n",
    " 'Brand_AUDI',\n",
    " 'Brand_BMW',\n",
    " 'Brand_CHEVROLET',\n",
    " 'Brand_FORD',\n",
    " 'Brand_HONDA',\n",
    " 'Brand_HYUNDAI',\n",
    " 'Brand_MAHINDRA',\n",
    " 'Brand_MARUTI',\n",
    " 'Brand_MERCEDES-BENZ',\n",
    " 'Brand_NISSAN',\n",
    " 'Brand_RENAULT',\n",
    " 'Brand_SKODA',\n",
    " 'Brand_TATA',\n",
    " 'Brand_TOYOTA',\n",
    " 'Brand_VOLKSWAGEN']\n",
    "\n",
    "treating_multicollinearity(high_vif_columns, X_train1, X_test1, y_train, y_test)"
   ]
  },
  {
   "cell_type": "code",
   "execution_count": 65,
   "metadata": {},
   "outputs": [
    {
     "name": "stdout",
     "output_type": "stream",
     "text": [
      "Series before feature selection: \n",
      "\n",
      "Mileage                        3.934235\n",
      "Engine                         8.213563\n",
      "Seats                               NaN\n",
      "New_Price_log                 32.351397\n",
      "Age_log                        2.335598\n",
      "Power_log                      6.374135\n",
      "Kilometers_Driven_log          1.967970\n",
      "Location_Bangalore             2.597786\n",
      "Location_Chennai               3.020326\n",
      "Location_Coimbatore            3.642755\n",
      "Location_Delhi                 3.266683\n",
      "Location_Hyderabad             3.907659\n",
      "Location_Jaipur                2.704655\n",
      "Location_Kochi                 3.702449\n",
      "Location_Kolkata               3.230465\n",
      "Location_Mumbai                4.087385\n",
      "Location_Pune                  3.527595\n",
      "Fuel_Type_Diesel              29.254747\n",
      "Fuel_Type_Electric             1.058854\n",
      "Fuel_Type_LPG                  1.233557\n",
      "Fuel_Type_Petrol              30.156253\n",
      "Transmission_Manual            2.296307\n",
      "Owner_Type_Fourth & Above      1.010465\n",
      "Owner_Type_Second              1.164527\n",
      "Owner_Type_Third               1.114551\n",
      "Brand_AUDI                     1.673980\n",
      "Brand_BENTLEY                       NaN\n",
      "Brand_BMW                      1.787178\n",
      "Brand_CHEVROLET                2.316304\n",
      "Brand_DATSUN                   1.685282\n",
      "Brand_FIAT                     1.846232\n",
      "Brand_FORCE                    1.036845\n",
      "Brand_FORD                     8.981401\n",
      "Brand_HONDA                   15.921298\n",
      "Brand_HYUNDAI                 30.871059\n",
      "Brand_ISUZU                    1.032319\n",
      "Brand_JAGUAR                   1.128269\n",
      "Brand_JEEP                     1.175616\n",
      "Brand_LAMBORGHINI              1.037468\n",
      "Brand_LAND                     1.187397\n",
      "Brand_MAHINDRA                 8.323131\n",
      "Brand_MARUTI                  39.190707\n",
      "Brand_MINI                     1.090906\n",
      "Brand_MITSUBISHI               1.168235\n",
      "Brand_NISSAN                   3.938495\n",
      "Brand_RENAULT                  8.601512\n",
      "Brand_SKODA                    1.860545\n",
      "Brand_SMART                         NaN\n",
      "Brand_TATA                     7.998542\n",
      "Brand_TOYOTA                   4.848034\n",
      "Brand_VOLKSWAGEN               9.189987\n",
      "Brand_VOLVO                    1.079436\n",
      "constant                     798.373239\n",
      "dtype: float64\n",
      "\n"
     ]
    }
   ],
   "source": [
    "X_train3 = X_train2.drop('Brand_MERCEDES-BENZ', axis=1)\n",
    "vif_series3 = pd.Series([variance_inflation_factor(X_train3.values,i) for i in range(X_train3.shape[1])],index=X_train3.columns)\n",
    "print('Series before feature selection: \\n\\n{}\\n'.format(vif_series3))"
   ]
  },
  {
   "cell_type": "code",
   "execution_count": 66,
   "metadata": {},
   "outputs": [
    {
     "data": {
      "text/plain": [
       "['Engine',\n",
       " 'New_Price_log',\n",
       " 'Power_log',\n",
       " 'Fuel_Type_Diesel',\n",
       " 'Fuel_Type_Petrol',\n",
       " 'Brand_FORD',\n",
       " 'Brand_HONDA',\n",
       " 'Brand_HYUNDAI',\n",
       " 'Brand_MAHINDRA',\n",
       " 'Brand_MARUTI',\n",
       " 'Brand_RENAULT',\n",
       " 'Brand_TATA',\n",
       " 'Brand_VOLKSWAGEN',\n",
       " 'constant']"
      ]
     },
     "execution_count": 66,
     "metadata": {},
     "output_type": "execute_result"
    }
   ],
   "source": [
    "vif_series3[vif_series3.values >5].index.values.tolist()"
   ]
  },
  {
   "cell_type": "code",
   "execution_count": 67,
   "metadata": {},
   "outputs": [
    {
     "name": "stdout",
     "output_type": "stream",
     "text": [
      "                 col  Adj_rsq_after_dropping_col     Test RMSE\n",
      "12  Brand_VOLKSWAGEN                    0.896347  2.310564e+09\n",
      "6        Brand_HONDA                    0.896343  1.132119e+09\n",
      "9       Brand_MARUTI                    0.896340  4.909423e+09\n",
      "11        Brand_TATA                    0.896333  9.679777e+09\n",
      "8     Brand_MAHINDRA                    0.896328  6.407547e+10\n",
      "5         Brand_FORD                    0.896321  1.780919e+09\n",
      "7      Brand_HYUNDAI                    0.896300  3.891758e+09\n",
      "10     Brand_RENAULT                    0.896270  6.570110e+09\n",
      "3   Fuel_Type_Diesel                    0.896254  1.928331e+00\n",
      "4   Fuel_Type_Petrol                    0.896104  1.927553e+00\n",
      "0             Engine                    0.895333  1.944553e+00\n",
      "1      New_Price_log                    0.894341  1.951774e+00\n",
      "2          Power_log                    0.885386  2.022868e+00\n"
     ]
    }
   ],
   "source": [
    "high_vif_columns = ['Engine',\n",
    " 'New_Price_log',\n",
    " 'Power_log',\n",
    " 'Fuel_Type_Diesel',\n",
    " 'Fuel_Type_Petrol',\n",
    " 'Brand_FORD',\n",
    " 'Brand_HONDA',\n",
    " 'Brand_HYUNDAI',\n",
    " 'Brand_MAHINDRA',\n",
    " 'Brand_MARUTI',\n",
    " 'Brand_RENAULT',\n",
    " 'Brand_TATA',\n",
    " 'Brand_VOLKSWAGEN']\n",
    "\n",
    "treating_multicollinearity(high_vif_columns, X_train1, X_test1, y_train, y_test)"
   ]
  },
  {
   "cell_type": "code",
   "execution_count": 68,
   "metadata": {},
   "outputs": [
    {
     "name": "stdout",
     "output_type": "stream",
     "text": [
      "Series before feature selection: \n",
      "\n",
      "Mileage                        3.922549\n",
      "Engine                         8.186276\n",
      "Seats                               NaN\n",
      "New_Price_log                  8.660512\n",
      "Age_log                        2.326176\n",
      "Power_log                      6.374130\n",
      "Kilometers_Driven_log          1.958756\n",
      "Location_Bangalore             2.597785\n",
      "Location_Chennai               3.020125\n",
      "Location_Coimbatore            3.642453\n",
      "Location_Delhi                 3.266132\n",
      "Location_Hyderabad             3.907642\n",
      "Location_Jaipur                2.704418\n",
      "Location_Kochi                 3.701393\n",
      "Location_Kolkata               3.230320\n",
      "Location_Mumbai                4.086978\n",
      "Location_Pune                  3.527592\n",
      "Fuel_Type_Diesel              29.138296\n",
      "Fuel_Type_Electric             1.058365\n",
      "Fuel_Type_LPG                  1.233212\n",
      "Fuel_Type_Petrol              30.105878\n",
      "Transmission_Manual            2.292969\n",
      "Owner_Type_Fourth & Above      1.010465\n",
      "Owner_Type_Second              1.164433\n",
      "Owner_Type_Third               1.114265\n",
      "Brand_AUDI                     1.604001\n",
      "Brand_BENTLEY                       NaN\n",
      "Brand_BMW                      1.716511\n",
      "Brand_CHEVROLET                1.247566\n",
      "Brand_DATSUN                   1.090725\n",
      "Brand_FIAT                     1.087788\n",
      "Brand_FORCE                    1.011022\n",
      "Brand_FORD                     1.808396\n",
      "Brand_HONDA                    2.638126\n",
      "Brand_HYUNDAI                  4.049314\n",
      "Brand_ISUZU                    1.021998\n",
      "Brand_JAGUAR                   1.118114\n",
      "Brand_JEEP                     1.051864\n",
      "Brand_LAMBORGHINI              1.026662\n",
      "Brand_LAND                     1.167895\n",
      "Brand_MAHINDRA                 1.953781\n",
      "Brand_MARUTI                   5.091003\n",
      "Brand_MINI                     1.075130\n",
      "Brand_MITSUBISHI               1.102592\n",
      "Brand_NISSAN                   1.299801\n",
      "Brand_RENAULT                  1.895417\n",
      "Brand_SKODA                    1.333877\n",
      "Brand_SMART                         NaN\n",
      "Brand_TATA                     1.748955\n",
      "Brand_TOYOTA                   1.904805\n",
      "Brand_VOLVO                    1.069911\n",
      "constant                     445.874234\n",
      "dtype: float64\n",
      "\n"
     ]
    }
   ],
   "source": [
    "X_train4 = X_train3.drop('Brand_VOLKSWAGEN', axis=1)\n",
    "vif_series4 = pd.Series([variance_inflation_factor(X_train4.values,i) for i in range(X_train4.shape[1])],index=X_train4.columns)\n",
    "print('Series before feature selection: \\n\\n{}\\n'.format(vif_series4))"
   ]
  },
  {
   "cell_type": "code",
   "execution_count": 69,
   "metadata": {},
   "outputs": [
    {
     "data": {
      "text/plain": [
       "['Engine',\n",
       " 'New_Price_log',\n",
       " 'Power_log',\n",
       " 'Fuel_Type_Diesel',\n",
       " 'Fuel_Type_Petrol',\n",
       " 'Brand_MARUTI',\n",
       " 'constant']"
      ]
     },
     "execution_count": 69,
     "metadata": {},
     "output_type": "execute_result"
    }
   ],
   "source": [
    "vif_series4[vif_series4.values >5].index.values.tolist()"
   ]
  },
  {
   "cell_type": "code",
   "execution_count": 70,
   "metadata": {},
   "outputs": [
    {
     "name": "stdout",
     "output_type": "stream",
     "text": [
      "                col  Adj_rsq_after_dropping_col     Test RMSE\n",
      "5      Brand_MARUTI                    0.896340  4.909423e+09\n",
      "3  Fuel_Type_Diesel                    0.896254  1.928331e+00\n",
      "4  Fuel_Type_Petrol                    0.896104  1.927553e+00\n",
      "0            Engine                    0.895333  1.944553e+00\n",
      "1     New_Price_log                    0.894341  1.951774e+00\n",
      "2         Power_log                    0.885386  2.022868e+00\n"
     ]
    }
   ],
   "source": [
    "high_vif_columns = ['Engine',\n",
    " 'New_Price_log',\n",
    " 'Power_log',\n",
    " 'Fuel_Type_Diesel',\n",
    " 'Fuel_Type_Petrol',\n",
    " 'Brand_MARUTI']\n",
    "\n",
    "treating_multicollinearity(high_vif_columns, X_train1, X_test1, y_train, y_test)"
   ]
  },
  {
   "cell_type": "code",
   "execution_count": 71,
   "metadata": {},
   "outputs": [
    {
     "name": "stdout",
     "output_type": "stream",
     "text": [
      "Series before feature selection: \n",
      "\n",
      "Mileage                        3.839070\n",
      "Engine                         8.148385\n",
      "Seats                               NaN\n",
      "New_Price_log                  5.716220\n",
      "Age_log                        2.326106\n",
      "Power_log                      6.359831\n",
      "Kilometers_Driven_log          1.958213\n",
      "Location_Bangalore             2.597233\n",
      "Location_Chennai               3.016895\n",
      "Location_Coimbatore            3.640556\n",
      "Location_Delhi                 3.265920\n",
      "Location_Hyderabad             3.906019\n",
      "Location_Jaipur                2.704411\n",
      "Location_Kochi                 3.700809\n",
      "Location_Kolkata               3.227380\n",
      "Location_Mumbai                4.084480\n",
      "Location_Pune                  3.526913\n",
      "Fuel_Type_Diesel              29.066778\n",
      "Fuel_Type_Electric             1.058339\n",
      "Fuel_Type_LPG                  1.233114\n",
      "Fuel_Type_Petrol              30.091631\n",
      "Transmission_Manual            2.288924\n",
      "Owner_Type_Fourth & Above      1.009922\n",
      "Owner_Type_Second              1.164325\n",
      "Owner_Type_Third               1.113486\n",
      "Brand_AUDI                     1.601512\n",
      "Brand_BENTLEY                       NaN\n",
      "Brand_BMW                      1.715848\n",
      "Brand_CHEVROLET                1.171811\n",
      "Brand_DATSUN                   1.023347\n",
      "Brand_FIAT                     1.021385\n",
      "Brand_FORCE                    1.009555\n",
      "Brand_FORD                     1.164551\n",
      "Brand_HONDA                    1.362880\n",
      "Brand_HYUNDAI                  1.435288\n",
      "Brand_ISUZU                    1.021782\n",
      "Brand_JAGUAR                   1.117807\n",
      "Brand_JEEP                     1.046268\n",
      "Brand_LAMBORGHINI              1.025782\n",
      "Brand_LAND                     1.166651\n",
      "Brand_MAHINDRA                 1.442836\n",
      "Brand_MINI                     1.074805\n",
      "Brand_MITSUBISHI               1.101411\n",
      "Brand_NISSAN                   1.050803\n",
      "Brand_RENAULT                  1.201307\n",
      "Brand_SKODA                    1.311401\n",
      "Brand_SMART                         NaN\n",
      "Brand_TATA                     1.129689\n",
      "Brand_TOYOTA                   1.732119\n",
      "Brand_VOLVO                    1.069606\n",
      "constant                     414.435171\n",
      "dtype: float64\n",
      "\n"
     ]
    }
   ],
   "source": [
    "X_train5 = X_train4.drop('Brand_MARUTI', axis=1)\n",
    "vif_series5 = pd.Series([variance_inflation_factor(X_train5.values,i) for i in range(X_train5.shape[1])],index=X_train5.columns)\n",
    "print('Series before feature selection: \\n\\n{}\\n'.format(vif_series5))"
   ]
  },
  {
   "cell_type": "code",
   "execution_count": 72,
   "metadata": {},
   "outputs": [
    {
     "data": {
      "text/plain": [
       "['Engine',\n",
       " 'New_Price_log',\n",
       " 'Power_log',\n",
       " 'Fuel_Type_Diesel',\n",
       " 'Fuel_Type_Petrol',\n",
       " 'constant']"
      ]
     },
     "execution_count": 72,
     "metadata": {},
     "output_type": "execute_result"
    }
   ],
   "source": [
    "vif_series5[vif_series5.values >5].index.values.tolist()"
   ]
  },
  {
   "cell_type": "code",
   "execution_count": 73,
   "metadata": {},
   "outputs": [
    {
     "name": "stdout",
     "output_type": "stream",
     "text": [
      "                col  Adj_rsq_after_dropping_col  Test RMSE\n",
      "3  Fuel_Type_Diesel                    0.896254   1.928331\n",
      "4  Fuel_Type_Petrol                    0.896104   1.927553\n",
      "0            Engine                    0.895333   1.944553\n",
      "1     New_Price_log                    0.894341   1.951774\n",
      "2         Power_log                    0.885386   2.022868\n"
     ]
    }
   ],
   "source": [
    "high_vif_columns = ['Engine',\n",
    " 'New_Price_log',\n",
    " 'Power_log',\n",
    " 'Fuel_Type_Diesel',\n",
    " 'Fuel_Type_Petrol']\n",
    "\n",
    "treating_multicollinearity(high_vif_columns, X_train1, X_test1, y_train, y_test)"
   ]
  },
  {
   "cell_type": "code",
   "execution_count": 74,
   "metadata": {},
   "outputs": [
    {
     "name": "stdout",
     "output_type": "stream",
     "text": [
      "Series before feature selection: \n",
      "\n",
      "Mileage                        3.834316\n",
      "Engine                         8.147395\n",
      "Seats                               NaN\n",
      "New_Price_log                  5.701164\n",
      "Age_log                        2.325054\n",
      "Power_log                      6.340434\n",
      "Kilometers_Driven_log          1.958178\n",
      "Location_Bangalore             2.596514\n",
      "Location_Chennai               3.014600\n",
      "Location_Coimbatore            3.639544\n",
      "Location_Delhi                 3.265911\n",
      "Location_Hyderabad             3.901860\n",
      "Location_Jaipur                2.700769\n",
      "Location_Kochi                 3.700721\n",
      "Location_Kolkata               3.224658\n",
      "Location_Mumbai                4.082531\n",
      "Location_Pune                  3.526432\n",
      "Fuel_Type_Electric             1.031402\n",
      "Fuel_Type_LPG                  1.029931\n",
      "Fuel_Type_Petrol               2.821871\n",
      "Transmission_Manual            2.288037\n",
      "Owner_Type_Fourth & Above      1.009910\n",
      "Owner_Type_Second              1.164181\n",
      "Owner_Type_Third               1.113279\n",
      "Brand_AUDI                     1.601380\n",
      "Brand_BENTLEY                       NaN\n",
      "Brand_BMW                      1.715808\n",
      "Brand_CHEVROLET                1.171262\n",
      "Brand_DATSUN                   1.023085\n",
      "Brand_FIAT                     1.021037\n",
      "Brand_FORCE                    1.009554\n",
      "Brand_FORD                     1.159437\n",
      "Brand_HONDA                    1.360542\n",
      "Brand_HYUNDAI                  1.427322\n",
      "Brand_ISUZU                    1.021769\n",
      "Brand_JAGUAR                   1.117746\n",
      "Brand_JEEP                     1.046267\n",
      "Brand_LAMBORGHINI              1.025776\n",
      "Brand_LAND                     1.166642\n",
      "Brand_MAHINDRA                 1.438717\n",
      "Brand_MINI                     1.074804\n",
      "Brand_MITSUBISHI               1.101406\n",
      "Brand_NISSAN                   1.048766\n",
      "Brand_RENAULT                  1.195392\n",
      "Brand_SKODA                    1.311271\n",
      "Brand_SMART                         NaN\n",
      "Brand_TATA                     1.124031\n",
      "Brand_TOYOTA                   1.731744\n",
      "Brand_VOLVO                    1.069598\n",
      "constant                     313.549636\n",
      "dtype: float64\n",
      "\n"
     ]
    }
   ],
   "source": [
    "X_train6 = X_train5.drop('Fuel_Type_Diesel', axis=1)\n",
    "vif_series6 = pd.Series([variance_inflation_factor(X_train6.values,i) for i in range(X_train6.shape[1])],index=X_train6.columns)\n",
    "print('Series before feature selection: \\n\\n{}\\n'.format(vif_series6))"
   ]
  },
  {
   "cell_type": "code",
   "execution_count": 75,
   "metadata": {},
   "outputs": [
    {
     "data": {
      "text/plain": [
       "['Engine', 'New_Price_log', 'Power_log', 'constant']"
      ]
     },
     "execution_count": 75,
     "metadata": {},
     "output_type": "execute_result"
    }
   ],
   "source": [
    "vif_series6[vif_series6.values >5].index.values.tolist()"
   ]
  },
  {
   "cell_type": "code",
   "execution_count": 76,
   "metadata": {},
   "outputs": [
    {
     "name": "stdout",
     "output_type": "stream",
     "text": [
      "             col  Adj_rsq_after_dropping_col  Test RMSE\n",
      "0         Engine                    0.895333   1.944553\n",
      "1  New_Price_log                    0.894341   1.951774\n",
      "2      Power_log                    0.885386   2.022868\n"
     ]
    }
   ],
   "source": [
    "high_vif_columns = ['Engine', 'New_Price_log', 'Power_log']\n",
    "\n",
    "treating_multicollinearity(high_vif_columns, X_train1, X_test1, y_train, y_test)"
   ]
  },
  {
   "cell_type": "code",
   "execution_count": 77,
   "metadata": {},
   "outputs": [
    {
     "name": "stdout",
     "output_type": "stream",
     "text": [
      "Series before feature selection: \n",
      "\n",
      "Mileage                        2.985679\n",
      "Seats                               NaN\n",
      "New_Price_log                  5.659960\n",
      "Age_log                        2.324288\n",
      "Power_log                      4.337619\n",
      "Kilometers_Driven_log          1.956886\n",
      "Location_Bangalore             2.596496\n",
      "Location_Chennai               3.014317\n",
      "Location_Coimbatore            3.638864\n",
      "Location_Delhi                 3.265867\n",
      "Location_Hyderabad             3.901251\n",
      "Location_Jaipur                2.699714\n",
      "Location_Kochi                 3.700645\n",
      "Location_Kolkata               3.224570\n",
      "Location_Mumbai                4.082518\n",
      "Location_Pune                  3.526372\n",
      "Fuel_Type_Electric             1.020196\n",
      "Fuel_Type_LPG                  1.026748\n",
      "Fuel_Type_Petrol               2.253710\n",
      "Transmission_Manual            2.285648\n",
      "Owner_Type_Fourth & Above      1.009467\n",
      "Owner_Type_Second              1.164181\n",
      "Owner_Type_Third               1.113267\n",
      "Brand_AUDI                     1.590844\n",
      "Brand_BENTLEY                       NaN\n",
      "Brand_BMW                      1.715258\n",
      "Brand_CHEVROLET                1.164506\n",
      "Brand_DATSUN                   1.022313\n",
      "Brand_FIAT                     1.017604\n",
      "Brand_FORCE                    1.009284\n",
      "Brand_FORD                     1.156347\n",
      "Brand_HONDA                    1.360526\n",
      "Brand_HYUNDAI                  1.416711\n",
      "Brand_ISUZU                    1.019489\n",
      "Brand_JAGUAR                   1.115405\n",
      "Brand_JEEP                     1.042663\n",
      "Brand_LAMBORGHINI              1.023982\n",
      "Brand_LAND                     1.164188\n",
      "Brand_MAHINDRA                 1.393229\n",
      "Brand_MINI                     1.074342\n",
      "Brand_MITSUBISHI               1.084237\n",
      "Brand_NISSAN                   1.048432\n",
      "Brand_RENAULT                  1.195089\n",
      "Brand_SKODA                    1.308351\n",
      "Brand_SMART                         NaN\n",
      "Brand_TATA                     1.122248\n",
      "Brand_TOYOTA                   1.572046\n",
      "Brand_VOLVO                    1.063636\n",
      "constant                     265.625301\n",
      "dtype: float64\n",
      "\n"
     ]
    }
   ],
   "source": [
    "X_train7 = X_train6.drop('Engine', axis=1)\n",
    "vif_series7 = pd.Series([variance_inflation_factor(X_train7.values,i) for i in range(X_train7.shape[1])],index=X_train7.columns)\n",
    "print('Series before feature selection: \\n\\n{}\\n'.format(vif_series7))"
   ]
  },
  {
   "cell_type": "code",
   "execution_count": 78,
   "metadata": {},
   "outputs": [
    {
     "data": {
      "text/plain": [
       "['New_Price_log', 'constant']"
      ]
     },
     "execution_count": 78,
     "metadata": {},
     "output_type": "execute_result"
    }
   ],
   "source": [
    "vif_series7[vif_series7.values >5].index.values.tolist()"
   ]
  },
  {
   "cell_type": "code",
   "execution_count": 79,
   "metadata": {},
   "outputs": [
    {
     "name": "stdout",
     "output_type": "stream",
     "text": [
      "             col  Adj_rsq_after_dropping_col  Test RMSE\n",
      "0  New_Price_log                    0.894341   1.951774\n"
     ]
    }
   ],
   "source": [
    "high_vif_columns = ['New_Price_log']\n",
    "\n",
    "treating_multicollinearity(high_vif_columns, X_train1, X_test1, y_train, y_test)"
   ]
  },
  {
   "cell_type": "code",
   "execution_count": 80,
   "metadata": {},
   "outputs": [
    {
     "name": "stdout",
     "output_type": "stream",
     "text": [
      "Series before feature selection: \n",
      "\n",
      "Mileage                        2.927295\n",
      "Seats                               NaN\n",
      "Age_log                        2.300273\n",
      "Power_log                      3.756453\n",
      "Kilometers_Driven_log          1.932146\n",
      "Location_Bangalore             2.596042\n",
      "Location_Chennai               3.014172\n",
      "Location_Coimbatore            3.636277\n",
      "Location_Delhi                 3.265281\n",
      "Location_Hyderabad             3.901051\n",
      "Location_Jaipur                2.699661\n",
      "Location_Kochi                 3.699683\n",
      "Location_Kolkata               3.224549\n",
      "Location_Mumbai                4.081453\n",
      "Location_Pune                  3.526298\n",
      "Fuel_Type_Electric             1.019238\n",
      "Fuel_Type_LPG                  1.026687\n",
      "Fuel_Type_Petrol               2.175473\n",
      "Transmission_Manual            2.134184\n",
      "Owner_Type_Fourth & Above      1.008564\n",
      "Owner_Type_Second              1.164068\n",
      "Owner_Type_Third               1.113230\n",
      "Brand_AUDI                     1.352915\n",
      "Brand_BENTLEY                       NaN\n",
      "Brand_BMW                      1.455282\n",
      "Brand_CHEVROLET                1.067324\n",
      "Brand_DATSUN                   1.014720\n",
      "Brand_FIAT                     1.016582\n",
      "Brand_FORCE                    1.008714\n",
      "Brand_FORD                     1.154559\n",
      "Brand_HONDA                    1.345644\n",
      "Brand_HYUNDAI                  1.375934\n",
      "Brand_ISUZU                    1.015924\n",
      "Brand_JAGUAR                   1.082027\n",
      "Brand_JEEP                     1.039322\n",
      "Brand_LAMBORGHINI              1.023618\n",
      "Brand_LAND                     1.102970\n",
      "Brand_MAHINDRA                 1.353674\n",
      "Brand_MINI                     1.036820\n",
      "Brand_MITSUBISHI               1.053345\n",
      "Brand_NISSAN                   1.043946\n",
      "Brand_RENAULT                  1.063995\n",
      "Brand_SKODA                    1.102734\n",
      "Brand_SMART                         NaN\n",
      "Brand_TATA                     1.102736\n",
      "Brand_TOYOTA                   1.434373\n",
      "Brand_VOLVO                    1.040361\n",
      "constant                     246.913339\n",
      "dtype: float64\n",
      "\n"
     ]
    }
   ],
   "source": [
    "X_train8 = X_train7.drop('New_Price_log', axis=1)\n",
    "vif_series8 = pd.Series([variance_inflation_factor(X_train8.values,i) for i in range(X_train8.shape[1])],index=X_train8.columns)\n",
    "print('Series before feature selection: \\n\\n{}\\n'.format(vif_series8))"
   ]
  },
  {
   "cell_type": "markdown",
   "metadata": {},
   "source": [
    "**That seemed to have helped - VIF has come down to quite a good limit (none has VIF>5 now) and we can say that there is no multicollinearity.**"
   ]
  },
  {
   "cell_type": "code",
   "execution_count": 81,
   "metadata": {},
   "outputs": [
    {
     "name": "stdout",
     "output_type": "stream",
     "text": [
      "Training Performance\n",
      "\n",
      "       RMSE       MAE       MAPE       R^2  Adjusted R^2\n",
      "0  2.062048  1.542433  33.327087  0.871203      0.869718\n"
     ]
    }
   ],
   "source": [
    "lin_reg_model1 = LinearRegression(fit_intercept=False)\n",
    "lin_reg_model1.fit(X_train8,y_train)\n",
    "\n",
    "print('Training Performance\\n')\n",
    "print(model_perf(lin_reg_model1, X_train8, y_train))"
   ]
  },
  {
   "cell_type": "markdown",
   "metadata": {},
   "source": [
    "### Observations\n",
    "\n",
    "* Earlier R-squared was 0.89, now it is 0.87.\n",
    "* Now Adjusted R-squared is 0.87, Our model is able to explain 87% of variance that shows model is good.\n",
    "* The Adjusted-R squared in initial model (lin_reg_model) it was 89% (Where we considered all the variables) this shows that the variables we dropped were not affecting the model much.     "
   ]
  },
  {
   "cell_type": "markdown",
   "metadata": {},
   "source": [
    "**Now we'll check rest of the assumptions on new model - lin_reg_model1**"
   ]
  },
  {
   "cell_type": "markdown",
   "metadata": {},
   "source": [
    "### 2. MEAN OF RESIDUALS SHOULD BE 0"
   ]
  },
  {
   "cell_type": "code",
   "execution_count": 82,
   "metadata": {},
   "outputs": [
    {
     "data": {
      "text/plain": [
       "-1.184091725427133e-13"
      ]
     },
     "execution_count": 82,
     "metadata": {},
     "output_type": "execute_result"
    }
   ],
   "source": [
    "# predicted values\n",
    "fitted = lin_reg_model1.predict(X_train8)\n",
    "residual = fitted - y_train.values\n",
    "\n",
    "np.mean(residual)"
   ]
  },
  {
   "cell_type": "markdown",
   "metadata": {},
   "source": [
    "* Mean of redisuals is very close to 0."
   ]
  },
  {
   "cell_type": "markdown",
   "metadata": {},
   "source": [
    "### 3. TEST FOR LINEARITY "
   ]
  },
  {
   "cell_type": "code",
   "execution_count": 83,
   "metadata": {},
   "outputs": [
    {
     "data": {
      "image/png": "[encoded data removed]",
      "text/plain": [
       "<Figure size 432x288 with 1 Axes>"
      ]
     },
     "metadata": {},
     "output_type": "display_data"
    }
   ],
   "source": [
    "sns.set_style(\"whitegrid\")\n",
    "sns.residplot(fitted,residual,color=\"purple\",lowess=True)\n",
    "plt.xlabel(\"Fitted Values\")\n",
    "plt.ylabel(\"Residual\")\n",
    "plt.title(\"Residual PLOT\")\n",
    "plt.show()"
   ]
  },
  {
   "cell_type": "markdown",
   "metadata": {},
   "source": [
    "Scatter plot shows the distribution of residuals (errors) vs fitted values (predicted values) - If there exist any pattern in this plot, we consider it as signs of non-linearity in the data and a pattern means that the model doesn’t capture non-linear effects.\n",
    "No strong pattern in residual plot, hence assumption is satisfied."
   ]
  },
  {
   "cell_type": "markdown",
   "metadata": {},
   "source": [
    "### 4. TEST FOR HOMOSCEDASTICITY\n",
    "\n",
    "* Homoscedacity - If the variance of the residuals are symmetrically distributed across the regression line , then the data is said to homoscedastic.\n",
    "* Heteroscedacity - If the variance is unequal for the residuals across the regression line, then the data is said to be heteroscedastic. In this case the residuals can form an arrow shape or any other non symmetrical shape."
   ]
  },
  {
   "cell_type": "markdown",
   "metadata": {},
   "source": [
    "**As seen before, no pattern is observed in residual plot. Hence, this assumption is satisfied**"
   ]
  },
  {
   "cell_type": "markdown",
   "metadata": {},
   "source": [
    "----"
   ]
  },
  {
   "cell_type": "markdown",
   "metadata": {},
   "source": [
    "### 5. TEST FOR NORMALITY\n",
    "\n",
    "\n",
    "* Error terms/Residuals should be normally distributed\n",
    "\n",
    "* If the error terms are non- normally distributed, confidence intervals may become too wide or narrow. Once confidence interval becomes unstable, it leads to difficulty in estimating coefficients based on minimization of least squares.\n"
   ]
  },
  {
   "cell_type": "code",
   "execution_count": 84,
   "metadata": {},
   "outputs": [
    {
     "data": {
      "image/png": "[encoded data removed]",
      "text/plain": [
       "<Figure size 432x288 with 1 Axes>"
      ]
     },
     "metadata": {},
     "output_type": "display_data"
    }
   ],
   "source": [
    "sns.distplot(residual)\n",
    "plt.title('Normality of residuals')\n",
    "plt.show()"
   ]
  },
  {
   "cell_type": "markdown",
   "metadata": {},
   "source": [
    "#### The QQ plot of residuals can be used to visually check the normality assumption. The normal probability plot of residuals should approximately follow a straight line."
   ]
  },
  {
   "cell_type": "code",
   "execution_count": 85,
   "metadata": {},
   "outputs": [
    {
     "data": {
      "image/png": "[encoded data removed]",
      "text/plain": [
       "<Figure size 432x288 with 1 Axes>"
      ]
     },
     "metadata": {},
     "output_type": "display_data"
    }
   ],
   "source": [
    "import pylab\n",
    "import scipy.stats as stats\n",
    "stats.probplot(residual.flatten(),dist=\"norm\",plot=pylab)\n",
    "plt.show()"
   ]
  },
  {
   "cell_type": "markdown",
   "metadata": {},
   "source": [
    "**As per QQ plot they are approximately normal. So, this assumption is also satisfied.**"
   ]
  },
  {
   "cell_type": "markdown",
   "metadata": {},
   "source": [
    "**Now we have checked all the assumptions and they are satisfied, so we can move towards prediction part**"
   ]
  },
  {
   "cell_type": "code",
   "execution_count": 86,
   "metadata": {},
   "outputs": [],
   "source": [
    "# first we add the constant to test input variables\n",
    "X_test['constant'] = 1\n",
    "\n",
    "X_test_final = X_test[X_train8.columns]"
   ]
  },
  {
   "cell_type": "code",
   "execution_count": 87,
   "metadata": {},
   "outputs": [
    {
     "data": {
      "text/html": [
       "<div>\n",
       "<style scoped>\n",
       "    .dataframe tbody tr th:only-of-type {\n",
       "        vertical-align: middle;\n",
       "    }\n",
       "\n",
       "    .dataframe tbody tr th {\n",
       "        vertical-align: top;\n",
       "    }\n",
       "\n",
       "    .dataframe thead th {\n",
       "        text-align: right;\n",
       "    }\n",
       "</style>\n",
       "<table border=\"1\" class=\"dataframe\">\n",
       "  <thead>\n",
       "    <tr style=\"text-align: right;\">\n",
       "      <th></th>\n",
       "      <th>Mileage</th>\n",
       "      <th>Seats</th>\n",
       "      <th>Age_log</th>\n",
       "      <th>Power_log</th>\n",
       "      <th>Kilometers_Driven_log</th>\n",
       "      <th>Location_Bangalore</th>\n",
       "      <th>Location_Chennai</th>\n",
       "      <th>Location_Coimbatore</th>\n",
       "      <th>Location_Delhi</th>\n",
       "      <th>Location_Hyderabad</th>\n",
       "      <th>...</th>\n",
       "      <th>Brand_MINI</th>\n",
       "      <th>Brand_MITSUBISHI</th>\n",
       "      <th>Brand_NISSAN</th>\n",
       "      <th>Brand_RENAULT</th>\n",
       "      <th>Brand_SKODA</th>\n",
       "      <th>Brand_SMART</th>\n",
       "      <th>Brand_TATA</th>\n",
       "      <th>Brand_TOYOTA</th>\n",
       "      <th>Brand_VOLVO</th>\n",
       "      <th>constant</th>\n",
       "    </tr>\n",
       "  </thead>\n",
       "  <tbody>\n",
       "    <tr>\n",
       "      <th>2868</th>\n",
       "      <td>0.723967</td>\n",
       "      <td>0.0</td>\n",
       "      <td>0.603912</td>\n",
       "      <td>0.399556</td>\n",
       "      <td>0.902867</td>\n",
       "      <td>0</td>\n",
       "      <td>0</td>\n",
       "      <td>0</td>\n",
       "      <td>0</td>\n",
       "      <td>1</td>\n",
       "      <td>...</td>\n",
       "      <td>0</td>\n",
       "      <td>0</td>\n",
       "      <td>0</td>\n",
       "      <td>0</td>\n",
       "      <td>0</td>\n",
       "      <td>0</td>\n",
       "      <td>0</td>\n",
       "      <td>0</td>\n",
       "      <td>0</td>\n",
       "      <td>1</td>\n",
       "    </tr>\n",
       "    <tr>\n",
       "      <th>5924</th>\n",
       "      <td>0.379733</td>\n",
       "      <td>0.0</td>\n",
       "      <td>0.280803</td>\n",
       "      <td>0.652198</td>\n",
       "      <td>0.760097</td>\n",
       "      <td>0</td>\n",
       "      <td>0</td>\n",
       "      <td>0</td>\n",
       "      <td>0</td>\n",
       "      <td>0</td>\n",
       "      <td>...</td>\n",
       "      <td>0</td>\n",
       "      <td>0</td>\n",
       "      <td>0</td>\n",
       "      <td>0</td>\n",
       "      <td>0</td>\n",
       "      <td>0</td>\n",
       "      <td>0</td>\n",
       "      <td>0</td>\n",
       "      <td>0</td>\n",
       "      <td>1</td>\n",
       "    </tr>\n",
       "    <tr>\n",
       "      <th>3764</th>\n",
       "      <td>0.366824</td>\n",
       "      <td>0.0</td>\n",
       "      <td>0.539166</td>\n",
       "      <td>0.732997</td>\n",
       "      <td>0.936039</td>\n",
       "      <td>0</td>\n",
       "      <td>0</td>\n",
       "      <td>0</td>\n",
       "      <td>1</td>\n",
       "      <td>0</td>\n",
       "      <td>...</td>\n",
       "      <td>0</td>\n",
       "      <td>0</td>\n",
       "      <td>0</td>\n",
       "      <td>0</td>\n",
       "      <td>0</td>\n",
       "      <td>0</td>\n",
       "      <td>0</td>\n",
       "      <td>0</td>\n",
       "      <td>0</td>\n",
       "      <td>1</td>\n",
       "    </tr>\n",
       "    <tr>\n",
       "      <th>4144</th>\n",
       "      <td>0.792814</td>\n",
       "      <td>0.0</td>\n",
       "      <td>0.381026</td>\n",
       "      <td>0.363189</td>\n",
       "      <td>0.860263</td>\n",
       "      <td>0</td>\n",
       "      <td>0</td>\n",
       "      <td>0</td>\n",
       "      <td>0</td>\n",
       "      <td>0</td>\n",
       "      <td>...</td>\n",
       "      <td>0</td>\n",
       "      <td>0</td>\n",
       "      <td>0</td>\n",
       "      <td>0</td>\n",
       "      <td>0</td>\n",
       "      <td>0</td>\n",
       "      <td>1</td>\n",
       "      <td>0</td>\n",
       "      <td>0</td>\n",
       "      <td>1</td>\n",
       "    </tr>\n",
       "    <tr>\n",
       "      <th>2780</th>\n",
       "      <td>0.530336</td>\n",
       "      <td>0.0</td>\n",
       "      <td>0.806052</td>\n",
       "      <td>0.453091</td>\n",
       "      <td>0.958755</td>\n",
       "      <td>0</td>\n",
       "      <td>0</td>\n",
       "      <td>0</td>\n",
       "      <td>0</td>\n",
       "      <td>0</td>\n",
       "      <td>...</td>\n",
       "      <td>0</td>\n",
       "      <td>0</td>\n",
       "      <td>0</td>\n",
       "      <td>0</td>\n",
       "      <td>0</td>\n",
       "      <td>0</td>\n",
       "      <td>0</td>\n",
       "      <td>0</td>\n",
       "      <td>0</td>\n",
       "      <td>1</td>\n",
       "    </tr>\n",
       "  </tbody>\n",
       "</table>\n",
       "<p>5 rows × 48 columns</p>\n",
       "</div>"
      ],
      "text/plain": [
       "       Mileage  Seats   Age_log  Power_log  Kilometers_Driven_log  \\\n",
       "2868  0.723967    0.0  0.603912   0.399556               0.902867   \n",
       "5924  0.379733    0.0  0.280803   0.652198               0.760097   \n",
       "3764  0.366824    0.0  0.539166   0.732997               0.936039   \n",
       "4144  0.792814    0.0  0.381026   0.363189               0.860263   \n",
       "2780  0.530336    0.0  0.806052   0.453091               0.958755   \n",
       "\n",
       "      Location_Bangalore  Location_Chennai  Location_Coimbatore  \\\n",
       "2868                   0                 0                    0   \n",
       "5924                   0                 0                    0   \n",
       "3764                   0                 0                    0   \n",
       "4144                   0                 0                    0   \n",
       "2780                   0                 0                    0   \n",
       "\n",
       "      Location_Delhi  Location_Hyderabad  ...  Brand_MINI  Brand_MITSUBISHI  \\\n",
       "2868               0                   1  ...           0                 0   \n",
       "5924               0                   0  ...           0                 0   \n",
       "3764               1                   0  ...           0                 0   \n",
       "4144               0                   0  ...           0                 0   \n",
       "2780               0                   0  ...           0                 0   \n",
       "\n",
       "      Brand_NISSAN  Brand_RENAULT  Brand_SKODA  Brand_SMART  Brand_TATA  \\\n",
       "2868             0              0            0            0           0   \n",
       "5924             0              0            0            0           0   \n",
       "3764             0              0            0            0           0   \n",
       "4144             0              0            0            0           1   \n",
       "2780             0              0            0            0           0   \n",
       "\n",
       "      Brand_TOYOTA  Brand_VOLVO  constant  \n",
       "2868             0            0         1  \n",
       "5924             0            0         1  \n",
       "3764             0            0         1  \n",
       "4144             0            0         1  \n",
       "2780             0            0         1  \n",
       "\n",
       "[5 rows x 48 columns]"
      ]
     },
     "execution_count": 87,
     "metadata": {},
     "output_type": "execute_result"
    }
   ],
   "source": [
    "X_test_final.head()"
   ]
  },
  {
   "cell_type": "code",
   "execution_count": 88,
   "metadata": {},
   "outputs": [],
   "source": [
    "y_pred_1 = lin_reg_model1.predict(X_test_final)"
   ]
  },
  {
   "cell_type": "markdown",
   "metadata": {},
   "source": [
    "## Checking the performance on train and test"
   ]
  },
  {
   "cell_type": "code",
   "execution_count": 89,
   "metadata": {},
   "outputs": [
    {
     "name": "stdout",
     "output_type": "stream",
     "text": [
      "Training Performance\n",
      "\n",
      "       RMSE       MAE       MAPE       R^2  Adjusted R^2\n",
      "0  2.062048  1.542433  33.327087  0.871203      0.869718\n"
     ]
    }
   ],
   "source": [
    "print('Training Performance\\n')\n",
    "print(model_perf(lin_reg_model1, X_train8, y_train))"
   ]
  },
  {
   "cell_type": "code",
   "execution_count": 90,
   "metadata": {},
   "outputs": [
    {
     "name": "stdout",
     "output_type": "stream",
     "text": [
      "Test Performance\n",
      "\n",
      "       RMSE       MAE      MAPE       R^2  Adjusted R^2\n",
      "0  2.197124  1.614988  34.46463  0.857685      0.853797\n"
     ]
    }
   ],
   "source": [
    "print('Test Performance\\n')\n",
    "print(model_perf(lin_reg_model1, X_test_final, y_test))"
   ]
  },
  {
   "cell_type": "markdown",
   "metadata": {},
   "source": [
    "* **Now we can finally see that we have low test and train error, also both the errors are comparable, so our model is not suffering from overfitting.**\n",
    "\n",
    "* **Hence we can conclude the model \"lin_reg_model1\" is good for prediction as well as inference purpose.**\n",
    "\n",
    "* **For improvement of model, we can consider the interaction of features and can apply higher order linear regression with LASSO/Ridge optimization.**\n"
   ]
  },
  {
   "cell_type": "code",
   "execution_count": 91,
   "metadata": {},
   "outputs": [
    {
     "name": "stdout",
     "output_type": "stream",
     "text": [
      "                           Coefficients\n",
      "Mileage                   -4.584492e+00\n",
      "Seats                     -1.865175e-13\n",
      "Age_log                   -8.413552e+00\n",
      "Power_log                  1.162486e+01\n",
      "Kilometers_Driven_log     -3.559437e+00\n",
      "Location_Bangalore         7.897185e-01\n",
      "Location_Chennai          -1.483989e-01\n",
      "Location_Coimbatore        3.980560e-01\n",
      "Location_Delhi            -5.753733e-01\n",
      "Location_Hyderabad         3.894935e-01\n",
      "Location_Jaipur           -2.341402e-02\n",
      "Location_Kochi            -3.356875e-01\n",
      "Location_Kolkata          -1.270734e+00\n",
      "Location_Mumbai           -5.790675e-01\n",
      "Location_Pune             -3.013541e-01\n",
      "Fuel_Type_Electric         8.166443e+00\n",
      "Fuel_Type_LPG             -9.223743e-01\n",
      "Fuel_Type_Petrol          -2.204101e+00\n",
      "Transmission_Manual       -1.920478e+00\n",
      "Owner_Type_Fourth & Above -2.274129e+00\n",
      "Owner_Type_Second         -3.514557e-01\n",
      "Owner_Type_Third          -9.617561e-01\n",
      "Brand_AUDI                 3.327090e+00\n",
      "Brand_BENTLEY              3.108624e-15\n",
      "Brand_BMW                  2.579480e+00\n",
      "Brand_CHEVROLET           -2.141094e+00\n",
      "Brand_DATSUN              -1.682800e+00\n",
      "Brand_FIAT                -1.771972e+00\n",
      "Brand_FORCE               -1.643620e+00\n",
      "Brand_FORD                -1.198696e+00\n",
      "Brand_HONDA               -1.601939e+00\n",
      "Brand_HYUNDAI             -9.327667e-01\n",
      "Brand_ISUZU               -9.899724e-01\n",
      "Brand_JAGUAR               3.779382e+00\n",
      "Brand_JEEP                 3.549806e+00\n",
      "Brand_LAMBORGHINI          5.814565e+00\n",
      "Brand_LAND                 3.920484e+00\n",
      "Brand_MAHINDRA            -2.057304e+00\n",
      "Brand_MINI                 7.269214e+00\n",
      "Brand_MITSUBISHI          -1.741022e-01\n",
      "Brand_NISSAN              -1.358149e+00\n",
      "Brand_RENAULT             -1.304739e+00\n",
      "Brand_SKODA               -1.590043e+00\n",
      "Brand_SMART                1.110223e-16\n",
      "Brand_TATA                -2.126931e+00\n",
      "Brand_TOYOTA               1.082417e+00\n",
      "Brand_VOLVO                2.989415e+00\n",
      "constant                   1.388325e+01\n"
     ]
    }
   ],
   "source": [
    "lin_reg_model1 = LinearRegression(fit_intercept=False)\n",
    "lin_reg_model1.fit(X_train8,y_train)\n",
    "\n",
    "# let us check the coefficients and intercept of the model\n",
    "\n",
    "coef_df = pd.DataFrame(lin_reg_model1.coef_.flatten(), \\\n",
    "                       index=X_train8.columns.tolist(), columns=['Coefficients'])\n",
    "print(coef_df)"
   ]
  },
  {
   "cell_type": "markdown",
   "metadata": {},
   "source": [
    "------"
   ]
  },
  {
   "cell_type": "markdown",
   "metadata": {},
   "source": [
    "# Key Model Observations"
   ]
  },
  {
   "cell_type": "markdown",
   "metadata": {},
   "source": [
    "Now this is our final model which follows all the assumptions and this can be used for interpretations\n",
    "\n",
    "1. Power and Year(Age) come out to be very signifcant, as expected. As age of the car increases, the price decreases, as visible in the negative coefficient sign.\n",
    "\n",
    "2. We can also see the significant impact of places and brand on the prices of used cars.\n",
    "\n",
    "3. Electric and LPG cars are on good demand, that can be seen with the higher positive coefficient sign.\n",
    "\n",
    "4. We can also see the clear the relevance of owner_type (Second, Third and Fourth & Above)\n",
    "\n",
    "5. Engine and Power are positively correlated.\n",
    "\n",
    "6. Automatic Transmission type adds up in the total price in comparison with Manual one."
   ]
  },
  {
   "cell_type": "markdown",
   "metadata": {},
   "source": [
    "---"
   ]
  },
  {
   "cell_type": "markdown",
   "metadata": {},
   "source": [
    "# Actionable Insights & Recommendations\n",
    "**Location : Geographical Benefit - Demographic factors**\n",
    "\n",
    "1. The company should consider the Location-wise profit margin to sell the car, we can see from the model attributes that Location also plays a significant role in asceratining the price, so if we can make the transportation and regulatory in place, company can pursue this opportunity for more profit.\n",
    "\n",
    "**Brand Value**\n",
    "\n",
    "1. There can be higher profit considering the high +ve coefficient for top brands like Audi, BMW and Mercedes thus customer interest, so brnad segmentation can bring more benefits for Cars4U.\n",
    "\n",
    "**Kilometers and Manufacturing Year**\n",
    "\n",
    "1. It is evident from the model that customers focus more on Manufacturing year than the Kilometers_Driven, thus while buying the used cars, we should take this in our consideration for better better differential pricing and thus more profit.\n",
    "\n",
    "**Market Trend**\n",
    "\n",
    "1. The customers are more focussing on eco-friendly transmission type like Electric and LPG, thus we can get better price for these cars."
   ]
  },
  {
   "cell_type": "markdown",
   "metadata": {},
   "source": [
    "-----"
   ]
  },
  {
   "cell_type": "markdown",
   "metadata": {},
   "source": [
    "## Analysis and Probable reason/ improvement Areas : "
   ]
  },
  {
   "cell_type": "markdown",
   "metadata": {},
   "source": [
    "- There is adjusted $R^2$ of 0.88 in the test data that shows the model to be a good fit, in linear regression.\n",
    "- Model can be improved by following means - (as shown above)\n",
    "  **We can consider the interaction between different featuers and thus can consider higher order liner regression.**\n",
    "  **Model complexity can be well considered by using LASSO or Ridge optimization**\n",
    "- Most of the New_Price values are null (more than 86%). We can get this data easily collected and enhance our dataset.\n",
    "- Name of car can be considered for improvement in data collection methodolgy. Fot the above model purpose, Brand name \n",
    "is extracted considering the first word of name, though it can be improved. "
   ]
  },
  {
   "cell_type": "markdown",
   "metadata": {},
   "source": [
    "----- "
   ]
  },
  {
   "cell_type": "markdown",
   "metadata": {},
   "source": [
    "# Appendix"
   ]
  },
  {
   "cell_type": "markdown",
   "metadata": {},
   "source": [
    "- **warnings.filterwarnings(\"ignore\")** : Never print matching warnings.\n",
    "\n",
    "- **Pandas** : Pandas is an open source library providing high-performance, easy-to-use data structures and data analysis tools for the Python programming language.\n",
    "\n",
    "- **Numpy** : The fundamental package for scientific computing with Python.\n",
    "\n",
    "- **Matplotlib** : Matplotlib is a comprehensive library for creating static, animated, and interactive visualizations in Python.\n",
    "\n",
    "- **Seaborn** : Seaborn is a Python data visualization library based on matplotlib. It provides a high-level interface for drawing attractive and informative statistical graphics.\n",
    "\n",
    "- **pairplot** : Plot pairwise relationships in a dataset.\n",
    "\n",
    "- **boxplot** : Draw a box plot to show distributions with respect to categories.\n",
    "\n",
    "- **histplot** : Flexibly plot a univariate distribution of observations.\n",
    "\n",
    "- **pandas.DataFrame.corr** : Compute pairwise correlation of columns, excluding NA/null values.\n",
    "\n",
    "- **sklearn.linear_model.LinearRegression** : Ordinary least squares Linear Regression.\n",
    "\n",
    "- **scipy.stats** : This module contains a large number of probability distributions as well as a growing library of statistical functions."
   ]
  },
  {
   "cell_type": "markdown",
   "metadata": {},
   "source": [
    "------"
   ]
  },
  {
   "cell_type": "markdown",
   "metadata": {},
   "source": [
    "## ***************************************************************************************************"
   ]
  },
  {
   "cell_type": "markdown",
   "metadata": {},
   "source": [
    "## *******************************************************"
   ]
  },
  {
   "cell_type": "markdown",
   "metadata": {},
   "source": [
    "---"
   ]
  },
  {
   "cell_type": "markdown",
   "metadata": {},
   "source": [
    "# Additional : Also we can explore the Forward Feature Selection to match our above result"
   ]
  },
  {
   "cell_type": "markdown",
   "metadata": {},
   "source": [
    "\n",
    "**Forward Feature Selection**\n",
    "- Forward feature selection starts with an empty model and adds in variables one by one.\n",
    "- In each forward step, we add the one variable that gives the sin gle best improvement to our model.\n",
    "- We'll use forward feature selection on variables, we received after removing multicollinearity\n",
    "- Also we'll remove const term, because sklearn adds that automatically unlike statmodels"
   ]
  },
  {
   "cell_type": "code",
   "execution_count": 92,
   "metadata": {},
   "outputs": [],
   "source": [
    "X_train_new = X_train8.drop('constant', axis = 1)"
   ]
  },
  {
   "cell_type": "code",
   "execution_count": 93,
   "metadata": {},
   "outputs": [
    {
     "name": "stderr",
     "output_type": "stream",
     "text": [
      "[Parallel(n_jobs=1)]: Using backend SequentialBackend with 1 concurrent workers.\n",
      "[Parallel(n_jobs=1)]: Done   1 out of   1 | elapsed:    0.1s remaining:    0.0s\n",
      "[Parallel(n_jobs=1)]: Done  47 out of  47 | elapsed:    1.2s finished\n",
      "\n",
      "[2021-04-10 01:42:47] Features: 1/47 -- score: 0.6219027049290755[Parallel(n_jobs=1)]: Using backend SequentialBackend with 1 concurrent workers.\n",
      "[Parallel(n_jobs=1)]: Done   1 out of   1 | elapsed:    0.0s remaining:    0.0s\n",
      "[Parallel(n_jobs=1)]: Done  46 out of  46 | elapsed:    1.2s finished\n",
      "\n",
      "[2021-04-10 01:42:48] Features: 2/47 -- score: 0.741213684990994[Parallel(n_jobs=1)]: Using backend SequentialBackend with 1 concurrent workers.\n",
      "[Parallel(n_jobs=1)]: Done   1 out of   1 | elapsed:    0.0s remaining:    0.0s\n",
      "[Parallel(n_jobs=1)]: Done  45 out of  45 | elapsed:    1.2s finished\n",
      "\n",
      "[2021-04-10 01:42:49] Features: 3/47 -- score: 0.7726082839561691[Parallel(n_jobs=1)]: Using backend SequentialBackend with 1 concurrent workers.\n",
      "[Parallel(n_jobs=1)]: Done   1 out of   1 | elapsed:    0.0s remaining:    0.0s\n",
      "[Parallel(n_jobs=1)]: Done  44 out of  44 | elapsed:    1.1s finished\n",
      "\n",
      "[2021-04-10 01:42:51] Features: 4/47 -- score: 0.7973444957393407[Parallel(n_jobs=1)]: Using backend SequentialBackend with 1 concurrent workers.\n",
      "[Parallel(n_jobs=1)]: Done   1 out of   1 | elapsed:    0.0s remaining:    0.0s\n",
      "[Parallel(n_jobs=1)]: Done  43 out of  43 | elapsed:    1.1s finished\n",
      "\n",
      "[2021-04-10 01:42:52] Features: 5/47 -- score: 0.8060969229583641[Parallel(n_jobs=1)]: Using backend SequentialBackend with 1 concurrent workers.\n",
      "[Parallel(n_jobs=1)]: Done   1 out of   1 | elapsed:    0.0s remaining:    0.0s\n",
      "[Parallel(n_jobs=1)]: Done  42 out of  42 | elapsed:    1.2s finished\n",
      "\n",
      "[2021-04-10 01:42:53] Features: 6/47 -- score: 0.8132533293725374[Parallel(n_jobs=1)]: Using backend SequentialBackend with 1 concurrent workers.\n",
      "[Parallel(n_jobs=1)]: Done   1 out of   1 | elapsed:    0.0s remaining:    0.0s\n",
      "[Parallel(n_jobs=1)]: Done  41 out of  41 | elapsed:    1.1s finished\n",
      "\n",
      "[2021-04-10 01:42:54] Features: 7/47 -- score: 0.8195078239456667[Parallel(n_jobs=1)]: Using backend SequentialBackend with 1 concurrent workers.\n",
      "[Parallel(n_jobs=1)]: Done   1 out of   1 | elapsed:    0.0s remaining:    0.0s\n",
      "[Parallel(n_jobs=1)]: Done  40 out of  40 | elapsed:    1.1s finished\n",
      "\n",
      "[2021-04-10 01:42:55] Features: 8/47 -- score: 0.8256024132867041[Parallel(n_jobs=1)]: Using backend SequentialBackend with 1 concurrent workers.\n",
      "[Parallel(n_jobs=1)]: Done   1 out of   1 | elapsed:    0.0s remaining:    0.0s\n",
      "[Parallel(n_jobs=1)]: Done  39 out of  39 | elapsed:    1.1s finished\n",
      "\n",
      "[2021-04-10 01:42:56] Features: 9/47 -- score: 0.8312588730634634[Parallel(n_jobs=1)]: Using backend SequentialBackend with 1 concurrent workers.\n",
      "[Parallel(n_jobs=1)]: Done   1 out of   1 | elapsed:    0.0s remaining:    0.0s\n",
      "[Parallel(n_jobs=1)]: Done  38 out of  38 | elapsed:    1.1s finished\n",
      "\n",
      "[2021-04-10 01:42:57] Features: 10/47 -- score: 0.8357973908626946[Parallel(n_jobs=1)]: Using backend SequentialBackend with 1 concurrent workers.\n",
      "[Parallel(n_jobs=1)]: Done   1 out of   1 | elapsed:    0.0s remaining:    0.0s\n",
      "[Parallel(n_jobs=1)]: Done  37 out of  37 | elapsed:    1.3s finished\n",
      "\n",
      "[2021-04-10 01:42:59] Features: 11/47 -- score: 0.8396178930520106[Parallel(n_jobs=1)]: Using backend SequentialBackend with 1 concurrent workers.\n",
      "[Parallel(n_jobs=1)]: Done   1 out of   1 | elapsed:    0.0s remaining:    0.0s\n",
      "[Parallel(n_jobs=1)]: Done  36 out of  36 | elapsed:    1.3s finished\n",
      "\n",
      "[2021-04-10 01:43:00] Features: 12/47 -- score: 0.8431189153061514[Parallel(n_jobs=1)]: Using backend SequentialBackend with 1 concurrent workers.\n",
      "[Parallel(n_jobs=1)]: Done   1 out of   1 | elapsed:    0.0s remaining:    0.0s\n",
      "[Parallel(n_jobs=1)]: Done  35 out of  35 | elapsed:    1.3s finished\n",
      "\n",
      "[2021-04-10 01:43:01] Features: 13/47 -- score: 0.8469021663698039[Parallel(n_jobs=1)]: Using backend SequentialBackend with 1 concurrent workers.\n",
      "[Parallel(n_jobs=1)]: Done   1 out of   1 | elapsed:    0.0s remaining:    0.0s\n",
      "[Parallel(n_jobs=1)]: Done  34 out of  34 | elapsed:    1.2s finished\n",
      "\n",
      "[2021-04-10 01:43:02] Features: 14/47 -- score: 0.8490081136377254[Parallel(n_jobs=1)]: Using backend SequentialBackend with 1 concurrent workers.\n",
      "[Parallel(n_jobs=1)]: Done   1 out of   1 | elapsed:    0.0s remaining:    0.0s\n",
      "[Parallel(n_jobs=1)]: Done  33 out of  33 | elapsed:    1.2s finished\n",
      "\n",
      "[2021-04-10 01:43:04] Features: 15/47 -- score: 0.8509213371409933[Parallel(n_jobs=1)]: Using backend SequentialBackend with 1 concurrent workers.\n",
      "[Parallel(n_jobs=1)]: Done   1 out of   1 | elapsed:    0.0s remaining:    0.0s\n",
      "[Parallel(n_jobs=1)]: Done  32 out of  32 | elapsed:    1.2s finished\n",
      "\n",
      "[2021-04-10 01:43:05] Features: 16/47 -- score: 0.8526057417252734[Parallel(n_jobs=1)]: Using backend SequentialBackend with 1 concurrent workers.\n",
      "[Parallel(n_jobs=1)]: Done   1 out of   1 | elapsed:    0.0s remaining:    0.0s\n",
      "[Parallel(n_jobs=1)]: Done  31 out of  31 | elapsed:    1.3s finished\n",
      "\n",
      "[2021-04-10 01:43:06] Features: 17/47 -- score: 0.8542129509806833[Parallel(n_jobs=1)]: Using backend SequentialBackend with 1 concurrent workers.\n",
      "[Parallel(n_jobs=1)]: Done   1 out of   1 | elapsed:    0.0s remaining:    0.0s\n",
      "[Parallel(n_jobs=1)]: Done  30 out of  30 | elapsed:    1.2s finished\n",
      "\n",
      "[2021-04-10 01:43:07] Features: 18/47 -- score: 0.8555243846175724[Parallel(n_jobs=1)]: Using backend SequentialBackend with 1 concurrent workers.\n",
      "[Parallel(n_jobs=1)]: Done   1 out of   1 | elapsed:    0.0s remaining:    0.0s\n",
      "[Parallel(n_jobs=1)]: Done  29 out of  29 | elapsed:    1.2s finished\n",
      "\n",
      "[2021-04-10 01:43:08] Features: 19/47 -- score: 0.8568135222160607[Parallel(n_jobs=1)]: Using backend SequentialBackend with 1 concurrent workers.\n",
      "[Parallel(n_jobs=1)]: Done   1 out of   1 | elapsed:    0.0s remaining:    0.0s\n",
      "[Parallel(n_jobs=1)]: Done  28 out of  28 | elapsed:    1.1s finished\n",
      "\n",
      "[2021-04-10 01:43:09] Features: 20/47 -- score: 0.8580864647461913[Parallel(n_jobs=1)]: Using backend SequentialBackend with 1 concurrent workers.\n",
      "[Parallel(n_jobs=1)]: Done   1 out of   1 | elapsed:    0.0s remaining:    0.0s\n",
      "[Parallel(n_jobs=1)]: Done  27 out of  27 | elapsed:    1.1s finished\n",
      "\n",
      "[2021-04-10 01:43:11] Features: 21/47 -- score: 0.8593003753221027[Parallel(n_jobs=1)]: Using backend SequentialBackend with 1 concurrent workers.\n",
      "[Parallel(n_jobs=1)]: Done   1 out of   1 | elapsed:    0.0s remaining:    0.0s\n",
      "[Parallel(n_jobs=1)]: Done  26 out of  26 | elapsed:    1.1s finished\n",
      "\n",
      "[2021-04-10 01:43:12] Features: 22/47 -- score: 0.8606875201114393[Parallel(n_jobs=1)]: Using backend SequentialBackend with 1 concurrent workers.\n",
      "[Parallel(n_jobs=1)]: Done   1 out of   1 | elapsed:    0.0s remaining:    0.0s\n",
      "[Parallel(n_jobs=1)]: Done  25 out of  25 | elapsed:    1.0s finished\n",
      "\n",
      "[2021-04-10 01:43:13] Features: 23/47 -- score: 0.861705468659874[Parallel(n_jobs=1)]: Using backend SequentialBackend with 1 concurrent workers.\n",
      "[Parallel(n_jobs=1)]: Done   1 out of   1 | elapsed:    0.0s remaining:    0.0s\n",
      "[Parallel(n_jobs=1)]: Done  24 out of  24 | elapsed:    1.0s finished\n",
      "\n",
      "[2021-04-10 01:43:14] Features: 24/47 -- score: 0.8629297339548435[Parallel(n_jobs=1)]: Using backend SequentialBackend with 1 concurrent workers.\n",
      "[Parallel(n_jobs=1)]: Done   1 out of   1 | elapsed:    0.0s remaining:    0.0s\n",
      "[Parallel(n_jobs=1)]: Done  23 out of  23 | elapsed:    1.0s finished\n",
      "\n",
      "[2021-04-10 01:43:15] Features: 25/47 -- score: 0.8643731085716494[Parallel(n_jobs=1)]: Using backend SequentialBackend with 1 concurrent workers.\n",
      "[Parallel(n_jobs=1)]: Done   1 out of   1 | elapsed:    0.0s remaining:    0.0s\n",
      "[Parallel(n_jobs=1)]: Done  22 out of  22 | elapsed:    0.9s finished\n",
      "\n",
      "[2021-04-10 01:43:16] Features: 26/47 -- score: 0.8652777311111113[Parallel(n_jobs=1)]: Using backend SequentialBackend with 1 concurrent workers.\n",
      "[Parallel(n_jobs=1)]: Done   1 out of   1 | elapsed:    0.0s remaining:    0.0s\n",
      "[Parallel(n_jobs=1)]: Done  21 out of  21 | elapsed:    0.9s finished\n",
      "\n",
      "[2021-04-10 01:43:17] Features: 27/47 -- score: 0.8659824387711902[Parallel(n_jobs=1)]: Using backend SequentialBackend with 1 concurrent workers.\n",
      "[Parallel(n_jobs=1)]: Done   1 out of   1 | elapsed:    0.0s remaining:    0.0s\n",
      "[Parallel(n_jobs=1)]: Done  20 out of  20 | elapsed:    0.9s finished\n",
      "\n",
      "[2021-04-10 01:43:17] Features: 28/47 -- score: 0.8663562664001739[Parallel(n_jobs=1)]: Using backend SequentialBackend with 1 concurrent workers.\n",
      "[Parallel(n_jobs=1)]: Done   1 out of   1 | elapsed:    0.0s remaining:    0.0s\n",
      "[Parallel(n_jobs=1)]: Done  19 out of  19 | elapsed:    0.9s finished\n",
      "\n",
      "[2021-04-10 01:43:18] Features: 29/47 -- score: 0.8665942000868293[Parallel(n_jobs=1)]: Using backend SequentialBackend with 1 concurrent workers.\n",
      "[Parallel(n_jobs=1)]: Done   1 out of   1 | elapsed:    0.0s remaining:    0.0s\n",
      "[Parallel(n_jobs=1)]: Done  18 out of  18 | elapsed:    0.8s finished\n",
      "\n",
      "[2021-04-10 01:43:19] Features: 30/47 -- score: 0.8668492528323771[Parallel(n_jobs=1)]: Using backend SequentialBackend with 1 concurrent workers.\n",
      "[Parallel(n_jobs=1)]: Done   1 out of   1 | elapsed:    0.0s remaining:    0.0s\n",
      "[Parallel(n_jobs=1)]: Done  17 out of  17 | elapsed:    0.8s finished\n",
      "\n",
      "[2021-04-10 01:43:20] Features: 31/47 -- score: 0.8670951456344049[Parallel(n_jobs=1)]: Using backend SequentialBackend with 1 concurrent workers.\n",
      "[Parallel(n_jobs=1)]: Done   1 out of   1 | elapsed:    0.0s remaining:    0.0s\n",
      "[Parallel(n_jobs=1)]: Done  16 out of  16 | elapsed:    0.8s finished\n",
      "\n",
      "[2021-04-10 01:43:21] Features: 32/47 -- score: 0.8672382147568873[Parallel(n_jobs=1)]: Using backend SequentialBackend with 1 concurrent workers.\n",
      "[Parallel(n_jobs=1)]: Done   1 out of   1 | elapsed:    0.0s remaining:    0.0s\n",
      "[Parallel(n_jobs=1)]: Done  15 out of  15 | elapsed:    0.7s finished\n",
      "\n",
      "[2021-04-10 01:43:21] Features: 33/47 -- score: 0.8673564520910564[Parallel(n_jobs=1)]: Using backend SequentialBackend with 1 concurrent workers.\n",
      "[Parallel(n_jobs=1)]: Done   1 out of   1 | elapsed:    0.0s remaining:    0.0s\n",
      "[Parallel(n_jobs=1)]: Done  14 out of  14 | elapsed:    0.7s finished\n",
      "\n",
      "[2021-04-10 01:43:22] Features: 34/47 -- score: 0.8674311929133154[Parallel(n_jobs=1)]: Using backend SequentialBackend with 1 concurrent workers.\n",
      "[Parallel(n_jobs=1)]: Done   1 out of   1 | elapsed:    0.0s remaining:    0.0s\n",
      "[Parallel(n_jobs=1)]: Done  13 out of  13 | elapsed:    0.7s finished\n",
      "\n",
      "[2021-04-10 01:43:23] Features: 35/47 -- score: 0.8674789238167644[Parallel(n_jobs=1)]: Using backend SequentialBackend with 1 concurrent workers.\n",
      "[Parallel(n_jobs=1)]: Done   1 out of   1 | elapsed:    0.1s remaining:    0.0s\n",
      "[Parallel(n_jobs=1)]: Done  12 out of  12 | elapsed:    0.6s finished\n",
      "\n",
      "[2021-04-10 01:43:23] Features: 36/47 -- score: 0.8675185294158693[Parallel(n_jobs=1)]: Using backend SequentialBackend with 1 concurrent workers.\n",
      "[Parallel(n_jobs=1)]: Done   1 out of   1 | elapsed:    0.1s remaining:    0.0s\n",
      "[Parallel(n_jobs=1)]: Done  11 out of  11 | elapsed:    0.6s finished\n",
      "\n",
      "[2021-04-10 01:43:24] Features: 37/47 -- score: 0.8675397149420825[Parallel(n_jobs=1)]: Using backend SequentialBackend with 1 concurrent workers.\n",
      "[Parallel(n_jobs=1)]: Done   1 out of   1 | elapsed:    0.1s remaining:    0.0s\n",
      "[Parallel(n_jobs=1)]: Done  10 out of  10 | elapsed:    0.5s finished\n",
      "\n",
      "[2021-04-10 01:43:25] Features: 38/47 -- score: 0.8675593983142477[Parallel(n_jobs=1)]: Using backend SequentialBackend with 1 concurrent workers.\n",
      "[Parallel(n_jobs=1)]: Done   1 out of   1 | elapsed:    0.0s remaining:    0.0s\n",
      "[Parallel(n_jobs=1)]: Done   9 out of   9 | elapsed:    0.5s finished\n",
      "\n",
      "[2021-04-10 01:43:25] Features: 39/47 -- score: 0.8675739294041017[Parallel(n_jobs=1)]: Using backend SequentialBackend with 1 concurrent workers.\n",
      "[Parallel(n_jobs=1)]: Done   1 out of   1 | elapsed:    0.1s remaining:    0.0s\n",
      "[Parallel(n_jobs=1)]: Done   8 out of   8 | elapsed:    0.4s finished\n",
      "\n",
      "[2021-04-10 01:43:25] Features: 40/47 -- score: 0.8675739294041017[Parallel(n_jobs=1)]: Using backend SequentialBackend with 1 concurrent workers.\n",
      "[Parallel(n_jobs=1)]: Done   1 out of   1 | elapsed:    0.1s remaining:    0.0s\n",
      "[Parallel(n_jobs=1)]: Done   7 out of   7 | elapsed:    0.4s finished\n",
      "\n",
      "[2021-04-10 01:43:26] Features: 41/47 -- score: 0.8675739294041017[Parallel(n_jobs=1)]: Using backend SequentialBackend with 1 concurrent workers.\n",
      "[Parallel(n_jobs=1)]: Done   1 out of   1 | elapsed:    0.1s remaining:    0.0s\n",
      "[Parallel(n_jobs=1)]: Done   6 out of   6 | elapsed:    0.3s finished\n",
      "\n",
      "[2021-04-10 01:43:26] Features: 42/47 -- score: 0.8675692331485886[Parallel(n_jobs=1)]: Using backend SequentialBackend with 1 concurrent workers.\n",
      "[Parallel(n_jobs=1)]: Done   1 out of   1 | elapsed:    0.1s remaining:    0.0s\n",
      "[Parallel(n_jobs=1)]: Done   5 out of   5 | elapsed:    0.3s finished\n",
      "\n",
      "[2021-04-10 01:43:26] Features: 43/47 -- score: 0.8666468537923965[Parallel(n_jobs=1)]: Using backend SequentialBackend with 1 concurrent workers.\n",
      "[Parallel(n_jobs=1)]: Done   1 out of   1 | elapsed:    0.1s remaining:    0.0s\n",
      "[Parallel(n_jobs=1)]: Done   4 out of   4 | elapsed:    0.2s finished\n",
      "\n",
      "[2021-04-10 01:43:27] Features: 44/47 -- score: -1.2838354287755588e+16[Parallel(n_jobs=1)]: Using backend SequentialBackend with 1 concurrent workers.\n",
      "[Parallel(n_jobs=1)]: Done   1 out of   1 | elapsed:    0.1s remaining:    0.0s\n",
      "[Parallel(n_jobs=1)]: Done   3 out of   3 | elapsed:    0.2s finished\n",
      "\n",
      "[2021-04-10 01:43:27] Features: 45/47 -- score: 0.866370239524425[Parallel(n_jobs=1)]: Using backend SequentialBackend with 1 concurrent workers.\n",
      "[Parallel(n_jobs=1)]: Done   1 out of   1 | elapsed:    0.1s remaining:    0.0s\n",
      "[Parallel(n_jobs=1)]: Done   2 out of   2 | elapsed:    0.1s finished\n",
      "\n",
      "[2021-04-10 01:43:27] Features: 46/47 -- score: 0.8662806109803688[Parallel(n_jobs=1)]: Using backend SequentialBackend with 1 concurrent workers.\n",
      "[Parallel(n_jobs=1)]: Done   1 out of   1 | elapsed:    0.1s remaining:    0.0s\n",
      "[Parallel(n_jobs=1)]: Done   1 out of   1 | elapsed:    0.1s finished\n",
      "\n",
      "[2021-04-10 01:43:27] Features: 47/47 -- score: 0.8661640073942476"
     ]
    }
   ],
   "source": [
    "from mlxtend.feature_selection import SequentialFeatureSelector as sfs\n",
    "\n",
    "reg = LinearRegression()\n",
    "\n",
    "# Build step forward feature selection\n",
    "sfs1 = sfs(reg,k_features = X_train_new.shape[1], forward=True,   # k_features denotes \"Number of features to select\"\n",
    "           floating=False, scoring= 'r2',\n",
    "           verbose=2, cv=5)\n",
    "\n",
    "# Perform SFFS\n",
    "sfs1 = sfs1.fit(X_train_new, y_train)"
   ]
  },
  {
   "cell_type": "code",
   "execution_count": 94,
   "metadata": {},
   "outputs": [
    {
     "name": "stdout",
     "output_type": "stream",
     "text": [
      "[0, 1, 2, 3, 4, 5, 6, 7, 8, 9, 10, 11, 12, 13, 14, 15, 16, 17, 18, 19, 20, 21, 22, 23, 24, 25, 26, 27, 28, 29, 30, 31, 32, 33, 34, 35, 36, 37, 38, 39, 40, 41, 42, 43, 44, 45, 46]\n"
     ]
    },
    {
     "data": {
      "text/plain": [
       "Index(['Mileage', 'Engine', 'Seats', 'New_Price_log', 'Age_log', 'Power_log',\n",
       "       'Kilometers_Driven_log', 'Location_Bangalore', 'Location_Chennai',\n",
       "       'Location_Coimbatore', 'Location_Delhi', 'Location_Hyderabad',\n",
       "       'Location_Jaipur', 'Location_Kochi', 'Location_Kolkata',\n",
       "       'Location_Mumbai', 'Location_Pune', 'Fuel_Type_Electric',\n",
       "       'Fuel_Type_LPG', 'Fuel_Type_Petrol', 'Transmission_Manual',\n",
       "       'Owner_Type_Fourth & Above', 'Owner_Type_Second', 'Owner_Type_Third',\n",
       "       'Brand_AUDI', 'Brand_BENTLEY', 'Brand_BMW', 'Brand_CHEVROLET',\n",
       "       'Brand_DATSUN', 'Brand_FIAT', 'Brand_FORCE', 'Brand_FORD',\n",
       "       'Brand_HONDA', 'Brand_HYUNDAI', 'Brand_ISUZU', 'Brand_JAGUAR',\n",
       "       'Brand_JEEP', 'Brand_LAMBORGHINI', 'Brand_LAND', 'Brand_MAHINDRA',\n",
       "       'Brand_MINI', 'Brand_MITSUBISHI', 'Brand_NISSAN', 'Brand_RENAULT',\n",
       "       'Brand_SKODA', 'Brand_SMART', 'Brand_TATA'],\n",
       "      dtype='object')"
      ]
     },
     "execution_count": 94,
     "metadata": {},
     "output_type": "execute_result"
    }
   ],
   "source": [
    "feat_cols = list(sfs1.k_feature_idx_)\n",
    "print(feat_cols)\n",
    "X_train6.columns[feat_cols]"
   ]
  },
  {
   "cell_type": "markdown",
   "metadata": {},
   "source": [
    "**We can see that Adjusted-R square starts decreasing after addition of 41st feature, so we will proceed only with best 40 features**\n",
    "\n",
    "* Now we'll change k_features to 41."
   ]
  },
  {
   "cell_type": "code",
   "execution_count": 95,
   "metadata": {},
   "outputs": [
    {
     "name": "stderr",
     "output_type": "stream",
     "text": [
      "[Parallel(n_jobs=1)]: Using backend SequentialBackend with 1 concurrent workers.\n",
      "[Parallel(n_jobs=1)]: Done   1 out of   1 | elapsed:    0.0s remaining:    0.0s\n",
      "[Parallel(n_jobs=1)]: Done  47 out of  47 | elapsed:    1.2s finished\n",
      "\n",
      "[2021-04-10 01:43:28] Features: 1/41 -- score: 0.6219027049290755[Parallel(n_jobs=1)]: Using backend SequentialBackend with 1 concurrent workers.\n",
      "[Parallel(n_jobs=1)]: Done   1 out of   1 | elapsed:    0.0s remaining:    0.0s\n",
      "[Parallel(n_jobs=1)]: Done  46 out of  46 | elapsed:    1.2s finished\n",
      "\n",
      "[2021-04-10 01:43:29] Features: 2/41 -- score: 0.741213684990994[Parallel(n_jobs=1)]: Using backend SequentialBackend with 1 concurrent workers.\n",
      "[Parallel(n_jobs=1)]: Done   1 out of   1 | elapsed:    0.0s remaining:    0.0s\n",
      "[Parallel(n_jobs=1)]: Done  45 out of  45 | elapsed:    1.2s finished\n",
      "\n",
      "[2021-04-10 01:43:31] Features: 3/41 -- score: 0.7726082839561691[Parallel(n_jobs=1)]: Using backend SequentialBackend with 1 concurrent workers.\n",
      "[Parallel(n_jobs=1)]: Done   1 out of   1 | elapsed:    0.0s remaining:    0.0s\n",
      "[Parallel(n_jobs=1)]: Done  44 out of  44 | elapsed:    1.2s finished\n",
      "\n",
      "[2021-04-10 01:43:32] Features: 4/41 -- score: 0.7973444957393407[Parallel(n_jobs=1)]: Using backend SequentialBackend with 1 concurrent workers.\n",
      "[Parallel(n_jobs=1)]: Done   1 out of   1 | elapsed:    0.0s remaining:    0.0s\n",
      "[Parallel(n_jobs=1)]: Done  43 out of  43 | elapsed:    1.1s finished\n",
      "\n",
      "[2021-04-10 01:43:33] Features: 5/41 -- score: 0.8060969229583641[Parallel(n_jobs=1)]: Using backend SequentialBackend with 1 concurrent workers.\n",
      "[Parallel(n_jobs=1)]: Done   1 out of   1 | elapsed:    0.0s remaining:    0.0s\n",
      "[Parallel(n_jobs=1)]: Done  42 out of  42 | elapsed:    1.1s finished\n",
      "\n",
      "[2021-04-10 01:43:34] Features: 6/41 -- score: 0.8132533293725374[Parallel(n_jobs=1)]: Using backend SequentialBackend with 1 concurrent workers.\n",
      "[Parallel(n_jobs=1)]: Done   1 out of   1 | elapsed:    0.0s remaining:    0.0s\n",
      "[Parallel(n_jobs=1)]: Done  41 out of  41 | elapsed:    1.1s finished\n",
      "\n",
      "[2021-04-10 01:43:35] Features: 7/41 -- score: 0.8195078239456667[Parallel(n_jobs=1)]: Using backend SequentialBackend with 1 concurrent workers.\n",
      "[Parallel(n_jobs=1)]: Done   1 out of   1 | elapsed:    0.0s remaining:    0.0s\n",
      "[Parallel(n_jobs=1)]: Done  40 out of  40 | elapsed:    1.1s finished\n",
      "\n",
      "[2021-04-10 01:43:36] Features: 8/41 -- score: 0.8256024132867041[Parallel(n_jobs=1)]: Using backend SequentialBackend with 1 concurrent workers.\n",
      "[Parallel(n_jobs=1)]: Done   1 out of   1 | elapsed:    0.0s remaining:    0.0s\n",
      "[Parallel(n_jobs=1)]: Done  39 out of  39 | elapsed:    1.1s finished\n",
      "\n",
      "[2021-04-10 01:43:37] Features: 9/41 -- score: 0.8312588730634634[Parallel(n_jobs=1)]: Using backend SequentialBackend with 1 concurrent workers.\n",
      "[Parallel(n_jobs=1)]: Done   1 out of   1 | elapsed:    0.0s remaining:    0.0s\n",
      "[Parallel(n_jobs=1)]: Done  38 out of  38 | elapsed:    1.2s finished\n",
      "\n",
      "[2021-04-10 01:43:39] Features: 10/41 -- score: 0.8357973908626946[Parallel(n_jobs=1)]: Using backend SequentialBackend with 1 concurrent workers.\n",
      "[Parallel(n_jobs=1)]: Done   1 out of   1 | elapsed:    0.0s remaining:    0.0s\n",
      "[Parallel(n_jobs=1)]: Done  37 out of  37 | elapsed:    1.3s finished\n",
      "\n",
      "[2021-04-10 01:43:40] Features: 11/41 -- score: 0.8396178930520106[Parallel(n_jobs=1)]: Using backend SequentialBackend with 1 concurrent workers.\n",
      "[Parallel(n_jobs=1)]: Done   1 out of   1 | elapsed:    0.0s remaining:    0.0s\n",
      "[Parallel(n_jobs=1)]: Done  36 out of  36 | elapsed:    1.3s finished\n",
      "\n",
      "[2021-04-10 01:43:41] Features: 12/41 -- score: 0.8431189153061514[Parallel(n_jobs=1)]: Using backend SequentialBackend with 1 concurrent workers.\n",
      "[Parallel(n_jobs=1)]: Done   1 out of   1 | elapsed:    0.0s remaining:    0.0s\n",
      "[Parallel(n_jobs=1)]: Done  35 out of  35 | elapsed:    1.2s finished\n",
      "\n",
      "[2021-04-10 01:43:42] Features: 13/41 -- score: 0.8469021663698039[Parallel(n_jobs=1)]: Using backend SequentialBackend with 1 concurrent workers.\n",
      "[Parallel(n_jobs=1)]: Done   1 out of   1 | elapsed:    0.0s remaining:    0.0s\n",
      "[Parallel(n_jobs=1)]: Done  34 out of  34 | elapsed:    1.2s finished\n",
      "\n",
      "[2021-04-10 01:43:44] Features: 14/41 -- score: 0.8490081136377254[Parallel(n_jobs=1)]: Using backend SequentialBackend with 1 concurrent workers.\n",
      "[Parallel(n_jobs=1)]: Done   1 out of   1 | elapsed:    0.0s remaining:    0.0s\n",
      "[Parallel(n_jobs=1)]: Done  33 out of  33 | elapsed:    1.2s finished\n",
      "\n",
      "[2021-04-10 01:43:45] Features: 15/41 -- score: 0.8509213371409933[Parallel(n_jobs=1)]: Using backend SequentialBackend with 1 concurrent workers.\n",
      "[Parallel(n_jobs=1)]: Done   1 out of   1 | elapsed:    0.0s remaining:    0.0s\n",
      "[Parallel(n_jobs=1)]: Done  32 out of  32 | elapsed:    1.2s finished\n",
      "\n",
      "[2021-04-10 01:43:46] Features: 16/41 -- score: 0.8526057417252734[Parallel(n_jobs=1)]: Using backend SequentialBackend with 1 concurrent workers.\n",
      "[Parallel(n_jobs=1)]: Done   1 out of   1 | elapsed:    0.0s remaining:    0.0s\n",
      "[Parallel(n_jobs=1)]: Done  31 out of  31 | elapsed:    1.2s finished\n",
      "\n",
      "[2021-04-10 01:43:47] Features: 17/41 -- score: 0.8542129509806833[Parallel(n_jobs=1)]: Using backend SequentialBackend with 1 concurrent workers.\n",
      "[Parallel(n_jobs=1)]: Done   1 out of   1 | elapsed:    0.0s remaining:    0.0s\n",
      "[Parallel(n_jobs=1)]: Done  30 out of  30 | elapsed:    1.2s finished\n",
      "\n",
      "[2021-04-10 01:43:48] Features: 18/41 -- score: 0.8555243846175724[Parallel(n_jobs=1)]: Using backend SequentialBackend with 1 concurrent workers.\n",
      "[Parallel(n_jobs=1)]: Done   1 out of   1 | elapsed:    0.0s remaining:    0.0s\n",
      "[Parallel(n_jobs=1)]: Done  29 out of  29 | elapsed:    1.1s finished\n",
      "\n",
      "[2021-04-10 01:43:49] Features: 19/41 -- score: 0.8568135222160607[Parallel(n_jobs=1)]: Using backend SequentialBackend with 1 concurrent workers.\n",
      "[Parallel(n_jobs=1)]: Done   1 out of   1 | elapsed:    0.0s remaining:    0.0s\n",
      "[Parallel(n_jobs=1)]: Done  28 out of  28 | elapsed:    1.1s finished\n",
      "\n",
      "[2021-04-10 01:43:51] Features: 20/41 -- score: 0.8580864647461913[Parallel(n_jobs=1)]: Using backend SequentialBackend with 1 concurrent workers.\n",
      "[Parallel(n_jobs=1)]: Done   1 out of   1 | elapsed:    0.0s remaining:    0.0s\n",
      "[Parallel(n_jobs=1)]: Done  27 out of  27 | elapsed:    1.1s finished\n",
      "\n",
      "[2021-04-10 01:43:52] Features: 21/41 -- score: 0.8593003753221027[Parallel(n_jobs=1)]: Using backend SequentialBackend with 1 concurrent workers.\n",
      "[Parallel(n_jobs=1)]: Done   1 out of   1 | elapsed:    0.0s remaining:    0.0s\n",
      "[Parallel(n_jobs=1)]: Done  26 out of  26 | elapsed:    1.1s finished\n",
      "\n",
      "[2021-04-10 01:43:53] Features: 22/41 -- score: 0.8606875201114393[Parallel(n_jobs=1)]: Using backend SequentialBackend with 1 concurrent workers.\n",
      "[Parallel(n_jobs=1)]: Done   1 out of   1 | elapsed:    0.0s remaining:    0.0s\n",
      "[Parallel(n_jobs=1)]: Done  25 out of  25 | elapsed:    1.0s finished\n",
      "\n",
      "[2021-04-10 01:43:54] Features: 23/41 -- score: 0.861705468659874[Parallel(n_jobs=1)]: Using backend SequentialBackend with 1 concurrent workers.\n",
      "[Parallel(n_jobs=1)]: Done   1 out of   1 | elapsed:    0.0s remaining:    0.0s\n",
      "[Parallel(n_jobs=1)]: Done  24 out of  24 | elapsed:    1.0s finished\n",
      "\n",
      "[2021-04-10 01:43:55] Features: 24/41 -- score: 0.8629297339548435[Parallel(n_jobs=1)]: Using backend SequentialBackend with 1 concurrent workers.\n",
      "[Parallel(n_jobs=1)]: Done   1 out of   1 | elapsed:    0.0s remaining:    0.0s\n",
      "[Parallel(n_jobs=1)]: Done  23 out of  23 | elapsed:    1.0s finished\n",
      "\n",
      "[2021-04-10 01:43:56] Features: 25/41 -- score: 0.8643731085716494[Parallel(n_jobs=1)]: Using backend SequentialBackend with 1 concurrent workers.\n",
      "[Parallel(n_jobs=1)]: Done   1 out of   1 | elapsed:    0.0s remaining:    0.0s\n",
      "[Parallel(n_jobs=1)]: Done  22 out of  22 | elapsed:    1.0s finished\n",
      "\n",
      "[2021-04-10 01:43:57] Features: 26/41 -- score: 0.8652777311111113[Parallel(n_jobs=1)]: Using backend SequentialBackend with 1 concurrent workers.\n",
      "[Parallel(n_jobs=1)]: Done   1 out of   1 | elapsed:    0.0s remaining:    0.0s\n",
      "[Parallel(n_jobs=1)]: Done  21 out of  21 | elapsed:    1.0s finished\n",
      "\n",
      "[2021-04-10 01:43:58] Features: 27/41 -- score: 0.8659824387711902[Parallel(n_jobs=1)]: Using backend SequentialBackend with 1 concurrent workers.\n",
      "[Parallel(n_jobs=1)]: Done   1 out of   1 | elapsed:    0.1s remaining:    0.0s\n",
      "[Parallel(n_jobs=1)]: Done  20 out of  20 | elapsed:    0.9s finished\n",
      "\n",
      "[2021-04-10 01:43:59] Features: 28/41 -- score: 0.8663562664001739[Parallel(n_jobs=1)]: Using backend SequentialBackend with 1 concurrent workers.\n",
      "[Parallel(n_jobs=1)]: Done   1 out of   1 | elapsed:    0.0s remaining:    0.0s\n",
      "[Parallel(n_jobs=1)]: Done  19 out of  19 | elapsed:    0.9s finished\n",
      "\n",
      "[2021-04-10 01:44:00] Features: 29/41 -- score: 0.8665942000868293[Parallel(n_jobs=1)]: Using backend SequentialBackend with 1 concurrent workers.\n",
      "[Parallel(n_jobs=1)]: Done   1 out of   1 | elapsed:    0.0s remaining:    0.0s\n",
      "[Parallel(n_jobs=1)]: Done  18 out of  18 | elapsed:    0.8s finished\n",
      "\n",
      "[2021-04-10 01:44:00] Features: 30/41 -- score: 0.8668492528323771[Parallel(n_jobs=1)]: Using backend SequentialBackend with 1 concurrent workers.\n",
      "[Parallel(n_jobs=1)]: Done   1 out of   1 | elapsed:    0.0s remaining:    0.0s\n",
      "[Parallel(n_jobs=1)]: Done  17 out of  17 | elapsed:    0.8s finished\n",
      "\n",
      "[2021-04-10 01:44:01] Features: 31/41 -- score: 0.8670951456344049[Parallel(n_jobs=1)]: Using backend SequentialBackend with 1 concurrent workers.\n",
      "[Parallel(n_jobs=1)]: Done   1 out of   1 | elapsed:    0.0s remaining:    0.0s\n",
      "[Parallel(n_jobs=1)]: Done  16 out of  16 | elapsed:    0.8s finished\n",
      "\n",
      "[2021-04-10 01:44:02] Features: 32/41 -- score: 0.8672382147568873[Parallel(n_jobs=1)]: Using backend SequentialBackend with 1 concurrent workers.\n",
      "[Parallel(n_jobs=1)]: Done   1 out of   1 | elapsed:    0.1s remaining:    0.0s\n",
      "[Parallel(n_jobs=1)]: Done  15 out of  15 | elapsed:    0.8s finished\n",
      "\n",
      "[2021-04-10 01:44:03] Features: 33/41 -- score: 0.8673564520910564[Parallel(n_jobs=1)]: Using backend SequentialBackend with 1 concurrent workers.\n",
      "[Parallel(n_jobs=1)]: Done   1 out of   1 | elapsed:    0.0s remaining:    0.0s\n",
      "[Parallel(n_jobs=1)]: Done  14 out of  14 | elapsed:    0.9s finished\n",
      "\n",
      "[2021-04-10 01:44:04] Features: 34/41 -- score: 0.8674311929133154[Parallel(n_jobs=1)]: Using backend SequentialBackend with 1 concurrent workers.\n",
      "[Parallel(n_jobs=1)]: Done   1 out of   1 | elapsed:    0.1s remaining:    0.0s\n",
      "[Parallel(n_jobs=1)]: Done  13 out of  13 | elapsed:    0.7s finished\n",
      "\n",
      "[2021-04-10 01:44:04] Features: 35/41 -- score: 0.8674789238167644[Parallel(n_jobs=1)]: Using backend SequentialBackend with 1 concurrent workers.\n",
      "[Parallel(n_jobs=1)]: Done   1 out of   1 | elapsed:    0.1s remaining:    0.0s\n",
      "[Parallel(n_jobs=1)]: Done  12 out of  12 | elapsed:    0.6s finished\n",
      "\n",
      "[2021-04-10 01:44:05] Features: 36/41 -- score: 0.8675185294158693[Parallel(n_jobs=1)]: Using backend SequentialBackend with 1 concurrent workers.\n",
      "[Parallel(n_jobs=1)]: Done   1 out of   1 | elapsed:    0.0s remaining:    0.0s\n",
      "[Parallel(n_jobs=1)]: Done  11 out of  11 | elapsed:    0.6s finished\n",
      "\n",
      "[2021-04-10 01:44:05] Features: 37/41 -- score: 0.8675397149420825[Parallel(n_jobs=1)]: Using backend SequentialBackend with 1 concurrent workers.\n",
      "[Parallel(n_jobs=1)]: Done   1 out of   1 | elapsed:    0.1s remaining:    0.0s\n",
      "[Parallel(n_jobs=1)]: Done  10 out of  10 | elapsed:    0.5s finished\n",
      "\n",
      "[2021-04-10 01:44:06] Features: 38/41 -- score: 0.8675593983142477[Parallel(n_jobs=1)]: Using backend SequentialBackend with 1 concurrent workers.\n",
      "[Parallel(n_jobs=1)]: Done   1 out of   1 | elapsed:    0.1s remaining:    0.0s\n",
      "[Parallel(n_jobs=1)]: Done   9 out of   9 | elapsed:    0.5s finished\n",
      "\n",
      "[2021-04-10 01:44:07] Features: 39/41 -- score: 0.8675739294041017[Parallel(n_jobs=1)]: Using backend SequentialBackend with 1 concurrent workers.\n",
      "[Parallel(n_jobs=1)]: Done   1 out of   1 | elapsed:    0.1s remaining:    0.0s\n",
      "[Parallel(n_jobs=1)]: Done   8 out of   8 | elapsed:    0.4s finished\n",
      "\n",
      "[2021-04-10 01:44:07] Features: 40/41 -- score: 0.8675739294041017[Parallel(n_jobs=1)]: Using backend SequentialBackend with 1 concurrent workers.\n",
      "[Parallel(n_jobs=1)]: Done   1 out of   1 | elapsed:    0.1s remaining:    0.0s\n",
      "[Parallel(n_jobs=1)]: Done   7 out of   7 | elapsed:    0.4s finished\n",
      "\n",
      "[2021-04-10 01:44:07] Features: 41/41 -- score: 0.8675739294041017"
     ]
    }
   ],
   "source": [
    "reg = LinearRegression()\n",
    "\n",
    "# # Build step forward feature selection\n",
    "sfs1 = sfs(reg, k_features = 41, forward=True,\n",
    "           floating=False, scoring='r2',\n",
    "           verbose=2, cv=5)\n",
    "\n",
    "# Perform SFFS\n",
    "sfs1 = sfs1.fit(X_train_new, y_train)"
   ]
  },
  {
   "cell_type": "code",
   "execution_count": 96,
   "metadata": {},
   "outputs": [
    {
     "name": "stdout",
     "output_type": "stream",
     "text": [
      "[0, 2, 3, 4, 5, 7, 8, 9, 11, 12, 13, 15, 16, 17, 18, 19, 20, 21, 22, 23, 24, 25, 26, 27, 28, 29, 30, 31, 33, 34, 35, 36, 37, 38, 40, 41, 42, 43, 44, 45, 46]\n"
     ]
    },
    {
     "data": {
      "text/plain": [
       "Index(['Mileage', 'Seats', 'New_Price_log', 'Age_log', 'Power_log',\n",
       "       'Location_Bangalore', 'Location_Chennai', 'Location_Coimbatore',\n",
       "       'Location_Hyderabad', 'Location_Jaipur', 'Location_Kochi',\n",
       "       'Location_Mumbai', 'Location_Pune', 'Fuel_Type_Diesel',\n",
       "       'Fuel_Type_Electric', 'Fuel_Type_LPG', 'Fuel_Type_Petrol',\n",
       "       'Transmission_Manual', 'Owner_Type_Fourth & Above', 'Owner_Type_Second',\n",
       "       'Owner_Type_Third', 'Brand_AUDI', 'Brand_BENTLEY', 'Brand_BMW',\n",
       "       'Brand_CHEVROLET', 'Brand_DATSUN', 'Brand_FIAT', 'Brand_FORCE',\n",
       "       'Brand_HONDA', 'Brand_HYUNDAI', 'Brand_ISUZU', 'Brand_JAGUAR',\n",
       "       'Brand_JEEP', 'Brand_LAMBORGHINI', 'Brand_MAHINDRA', 'Brand_MINI',\n",
       "       'Brand_MITSUBISHI', 'Brand_NISSAN', 'Brand_RENAULT', 'Brand_SKODA',\n",
       "       'Brand_SMART'],\n",
       "      dtype='object')"
      ]
     },
     "execution_count": 96,
     "metadata": {},
     "output_type": "execute_result"
    }
   ],
   "source": [
    "# Now Which features are important?\n",
    "feat_cols = list(sfs1.k_feature_idx_)\n",
    "print(feat_cols)\n",
    "X_train5.columns[feat_cols]"
   ]
  },
  {
   "cell_type": "code",
   "execution_count": 97,
   "metadata": {},
   "outputs": [
    {
     "name": "stdout",
     "output_type": "stream",
     "text": [
      "[0, 2, 3, 4, 5, 7, 8, 9, 11, 12, 13, 15, 16, 17, 18, 19, 20, 21, 22, 23, 24, 25, 26, 27, 28, 29, 30, 31, 33, 34, 35, 36, 37, 38, 40, 41, 42, 43, 44, 45, 46]\n"
     ]
    },
    {
     "data": {
      "text/plain": [
       "Index(['Mileage', 'Seats', 'New_Price_log', 'Age_log', 'Power_log',\n",
       "       'Location_Bangalore', 'Location_Chennai', 'Location_Coimbatore',\n",
       "       'Location_Hyderabad', 'Location_Jaipur', 'Location_Kochi',\n",
       "       'Location_Mumbai', 'Location_Pune', 'Fuel_Type_Diesel',\n",
       "       'Fuel_Type_Electric', 'Fuel_Type_LPG', 'Fuel_Type_Petrol',\n",
       "       'Transmission_Manual', 'Owner_Type_Fourth & Above', 'Owner_Type_Second',\n",
       "       'Owner_Type_Third', 'Brand_AUDI', 'Brand_BENTLEY', 'Brand_BMW',\n",
       "       'Brand_CHEVROLET', 'Brand_DATSUN', 'Brand_FIAT', 'Brand_FORCE',\n",
       "       'Brand_HONDA', 'Brand_HYUNDAI', 'Brand_ISUZU', 'Brand_JAGUAR',\n",
       "       'Brand_JEEP', 'Brand_LAMBORGHINI', 'Brand_MAHINDRA', 'Brand_MINI',\n",
       "       'Brand_MITSUBISHI', 'Brand_NISSAN', 'Brand_RENAULT', 'Brand_SKODA',\n",
       "       'Brand_SMART'],\n",
       "      dtype='object')"
      ]
     },
     "execution_count": 97,
     "metadata": {},
     "output_type": "execute_result"
    }
   ],
   "source": [
    "# Now Which features are important?\n",
    "feat_cols = list(sfs1.k_feature_idx_)\n",
    "print(feat_cols)\n",
    "X_train5.columns[feat_cols]"
   ]
  },
  {
   "cell_type": "markdown",
   "metadata": {},
   "source": [
    "### Now we will fit a sklearn model using these features only"
   ]
  },
  {
   "cell_type": "code",
   "execution_count": 98,
   "metadata": {},
   "outputs": [],
   "source": [
    "X_train_final = X_train[X_train8.columns[feat_cols]]"
   ]
  },
  {
   "cell_type": "code",
   "execution_count": 99,
   "metadata": {},
   "outputs": [
    {
     "data": {
      "text/plain": [
       "Index(['Mileage', 'Engine', 'Seats', 'New_Price_log', 'Age_log', 'Power_log',\n",
       "       'Kilometers_Driven_log', 'Location_Bangalore', 'Location_Chennai',\n",
       "       'Location_Coimbatore', 'Location_Delhi', 'Location_Hyderabad',\n",
       "       'Location_Jaipur', 'Location_Kochi', 'Location_Kolkata',\n",
       "       'Location_Mumbai', 'Location_Pune', 'Fuel_Type_Diesel',\n",
       "       'Fuel_Type_Electric', 'Fuel_Type_LPG', 'Fuel_Type_Petrol',\n",
       "       'Transmission_Manual', 'Owner_Type_Fourth & Above', 'Owner_Type_Second',\n",
       "       'Owner_Type_Third', 'Brand_AUDI', 'Brand_BENTLEY', 'Brand_BMW',\n",
       "       'Brand_CHEVROLET', 'Brand_DATSUN', 'Brand_FIAT', 'Brand_FORCE',\n",
       "       'Brand_FORD', 'Brand_HONDA', 'Brand_HYUNDAI', 'Brand_ISUZU',\n",
       "       'Brand_JAGUAR', 'Brand_JEEP', 'Brand_LAMBORGHINI', 'Brand_LAND',\n",
       "       'Brand_MAHINDRA', 'Brand_MARUTI', 'Brand_MERCEDES-BENZ', 'Brand_MINI',\n",
       "       'Brand_MITSUBISHI', 'Brand_NISSAN', 'Brand_PORSCHE', 'Brand_RENAULT',\n",
       "       'Brand_SKODA', 'Brand_SMART', 'Brand_TATA', 'Brand_TOYOTA',\n",
       "       'Brand_VOLKSWAGEN', 'Brand_VOLVO', 'constant'],\n",
       "      dtype='object')"
      ]
     },
     "execution_count": 99,
     "metadata": {},
     "output_type": "execute_result"
    }
   ],
   "source": [
    "X_test.columns"
   ]
  },
  {
   "cell_type": "code",
   "execution_count": 100,
   "metadata": {},
   "outputs": [],
   "source": [
    "#Creating new x_test with the same 18 variables that we selected for x_train\n",
    "X_test_final = X_test[X_train_final.columns]"
   ]
  },
  {
   "cell_type": "code",
   "execution_count": 101,
   "metadata": {},
   "outputs": [
    {
     "name": "stdout",
     "output_type": "stream",
     "text": [
      "                           Coefficients\n",
      "Mileage                   -4.543511e+00\n",
      "Age_log                   -8.411644e+00\n",
      "Power_log                  1.162025e+01\n",
      "Kilometers_Driven_log     -3.546347e+00\n",
      "Location_Bangalore         9.471663e-01\n",
      "Location_Coimbatore        5.531639e-01\n",
      "Location_Delhi            -4.188679e-01\n",
      "Location_Hyderabad         5.452338e-01\n",
      "Location_Kochi            -1.794061e-01\n",
      "Location_Kolkata          -1.114359e+00\n",
      "Location_Mumbai           -4.192882e-01\n",
      "Fuel_Type_Electric         8.161741e+00\n",
      "Fuel_Type_LPG             -9.233223e-01\n",
      "Fuel_Type_Petrol          -2.204890e+00\n",
      "Transmission_Manual       -1.922928e+00\n",
      "Owner_Type_Fourth & Above -2.295428e+00\n",
      "Owner_Type_Second         -3.548738e-01\n",
      "Owner_Type_Third          -9.817947e-01\n",
      "Brand_AUDI                 3.345828e+00\n",
      "Brand_BENTLEY              6.439294e-15\n",
      "Brand_BMW                  2.584451e+00\n",
      "Brand_CHEVROLET           -2.149558e+00\n",
      "Brand_DATSUN              -1.680001e+00\n",
      "Brand_FIAT                -1.763475e+00\n",
      "Brand_FORCE               -1.633188e+00\n",
      "Brand_FORD                -1.190077e+00\n",
      "Brand_HONDA               -1.592371e+00\n",
      "Brand_HYUNDAI             -9.237030e-01\n",
      "Brand_JAGUAR               3.782773e+00\n",
      "Brand_JEEP                 3.586215e+00\n",
      "Brand_LAMBORGHINI          5.866171e+00\n",
      "Brand_LAND                 3.933169e+00\n",
      "Brand_MAHINDRA            -2.036315e+00\n",
      "Brand_MINI                 7.274891e+00\n",
      "Brand_NISSAN              -1.346371e+00\n",
      "Brand_RENAULT             -1.305975e+00\n",
      "Brand_SKODA               -1.588761e+00\n",
      "Brand_SMART               -3.330669e-16\n",
      "Brand_TATA                -2.130383e+00\n",
      "Brand_TOYOTA               1.093793e+00\n",
      "Brand_VOLVO                3.003663e+00\n",
      "Intercept                  1.369205e+01\n",
      "\n",
      "\n",
      "Training Performance\n",
      "\n",
      "       RMSE       MAE       MAPE       R^2  Adjusted R^2\n",
      "0  2.063243  1.542858  33.361434  0.871053      0.869786\n"
     ]
    }
   ],
   "source": [
    "#Fitting linear model\n",
    "lin_reg_model2 = LinearRegression()\n",
    "lin_reg_model2.fit(X_train_final,y_train)\n",
    "\n",
    "# let us check the coefficients and intercept of the model\n",
    "\n",
    "coef_df = pd.DataFrame(np.append(lin_reg_model2.coef_.flatten(), lin_reg_model2.intercept_), \\\n",
    "                       index=X_train_final.columns.tolist()+['Intercept'], columns=['Coefficients'])\n",
    "print(coef_df)\n",
    "\n",
    "# model performance on train set\n",
    "print('\\n\\nTraining Performance\\n')\n",
    "print(model_perf(lin_reg_model2, X_train_final, y_train))"
   ]
  },
  {
   "cell_type": "code",
   "execution_count": 102,
   "metadata": {},
   "outputs": [
    {
     "name": "stdout",
     "output_type": "stream",
     "text": [
      "Test Performance\n",
      "\n",
      "       RMSE       MAE       MAPE       R^2  Adjusted R^2\n",
      "0  2.198665  1.614517  34.462565  0.857485      0.854173\n"
     ]
    }
   ],
   "source": [
    "# model performance on test set\n",
    "print('Test Performance\\n')\n",
    "print(model_perf(lin_reg_model2, X_test_final, y_test))"
   ]
  },
  {
   "cell_type": "markdown",
   "metadata": {},
   "source": [
    "* **Both $R^2$ score and RMSE show that the model fitted is good, has no overfitting and can be used for making predictions.**\n",
    "\n",
    "## We can see here that the results from 'lin_reg_model1' and 'lin_reg_model2' models are approximately same.**\n"
   ]
  },
  {
   "cell_type": "code",
   "execution_count": null,
   "metadata": {},
   "outputs": [],
   "source": []
  }
 ],
 "metadata": {
  "kernelspec": {
   "display_name": "Python 3",
   "language": "python",
   "name": "python3"
  },
  "language_info": {
   "codemirror_mode": {
    "name": "ipython",
    "version": 3
   },
   "file_extension": ".py",
   "mimetype": "text/x-python",
   "name": "python",
   "nbconvert_exporter": "python",
   "pygments_lexer": "ipython3",
   "version": "3.8.5"
  }
 },
 "nbformat": 4,
 "nbformat_minor": 4
}
